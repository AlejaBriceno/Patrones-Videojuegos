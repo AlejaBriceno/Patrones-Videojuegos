{
 "cells": [
  {
   "cell_type": "markdown",
   "metadata": {
    "tags": [
     "e5c1f0c2-db9f-43a0-99b9-4875c52427e8"
    ]
   },
   "source": [
    "# Tienda de videojuegos ICE\n"
   ]
  },
  {
   "cell_type": "markdown",
   "metadata": {},
   "source": [
    "Objetivo: identificar patrones que determinen si un juego tiene éxito o no"
   ]
  },
  {
   "cell_type": "markdown",
   "metadata": {},
   "source": [
    "## Lectura y visualización del DataSET"
   ]
  },
  {
   "cell_type": "code",
   "execution_count": 73,
   "metadata": {},
   "outputs": [],
   "source": [
    "import pandas as pd\n",
    "import numpy as np\n",
    "import matplotlib.pyplot as plt\n",
    "from scipy import stats as st"
   ]
  },
  {
   "cell_type": "code",
   "execution_count": 74,
   "metadata": {},
   "outputs": [],
   "source": [
    "df=pd.read_csv('/datasets/games.csv')"
   ]
  },
  {
   "cell_type": "code",
   "execution_count": 75,
   "metadata": {},
   "outputs": [
    {
     "name": "stdout",
     "output_type": "stream",
     "text": [
      "<class 'pandas.core.frame.DataFrame'>\n",
      "RangeIndex: 16715 entries, 0 to 16714\n",
      "Data columns (total 11 columns):\n",
      " #   Column           Non-Null Count  Dtype  \n",
      "---  ------           --------------  -----  \n",
      " 0   Name             16713 non-null  object \n",
      " 1   Platform         16715 non-null  object \n",
      " 2   Year_of_Release  16446 non-null  float64\n",
      " 3   Genre            16713 non-null  object \n",
      " 4   NA_sales         16715 non-null  float64\n",
      " 5   EU_sales         16715 non-null  float64\n",
      " 6   JP_sales         16715 non-null  float64\n",
      " 7   Other_sales      16715 non-null  float64\n",
      " 8   Critic_Score     8137 non-null   float64\n",
      " 9   User_Score       10014 non-null  object \n",
      " 10  Rating           9949 non-null   object \n",
      "dtypes: float64(6), object(5)\n",
      "memory usage: 1.4+ MB\n"
     ]
    }
   ],
   "source": [
    "df.info()"
   ]
  },
  {
   "cell_type": "code",
   "execution_count": 76,
   "metadata": {},
   "outputs": [
    {
     "data": {
      "text/html": [
       "<div>\n",
       "<style scoped>\n",
       "    .dataframe tbody tr th:only-of-type {\n",
       "        vertical-align: middle;\n",
       "    }\n",
       "\n",
       "    .dataframe tbody tr th {\n",
       "        vertical-align: top;\n",
       "    }\n",
       "\n",
       "    .dataframe thead th {\n",
       "        text-align: right;\n",
       "    }\n",
       "</style>\n",
       "<table border=\"1\" class=\"dataframe\">\n",
       "  <thead>\n",
       "    <tr style=\"text-align: right;\">\n",
       "      <th></th>\n",
       "      <th>Name</th>\n",
       "      <th>Platform</th>\n",
       "      <th>Year_of_Release</th>\n",
       "      <th>Genre</th>\n",
       "      <th>NA_sales</th>\n",
       "      <th>EU_sales</th>\n",
       "      <th>JP_sales</th>\n",
       "      <th>Other_sales</th>\n",
       "      <th>Critic_Score</th>\n",
       "      <th>User_Score</th>\n",
       "      <th>Rating</th>\n",
       "    </tr>\n",
       "  </thead>\n",
       "  <tbody>\n",
       "    <tr>\n",
       "      <th>0</th>\n",
       "      <td>Wii Sports</td>\n",
       "      <td>Wii</td>\n",
       "      <td>2006.0</td>\n",
       "      <td>Sports</td>\n",
       "      <td>41.36</td>\n",
       "      <td>28.96</td>\n",
       "      <td>3.77</td>\n",
       "      <td>8.45</td>\n",
       "      <td>76.0</td>\n",
       "      <td>8</td>\n",
       "      <td>E</td>\n",
       "    </tr>\n",
       "    <tr>\n",
       "      <th>1</th>\n",
       "      <td>Super Mario Bros.</td>\n",
       "      <td>NES</td>\n",
       "      <td>1985.0</td>\n",
       "      <td>Platform</td>\n",
       "      <td>29.08</td>\n",
       "      <td>3.58</td>\n",
       "      <td>6.81</td>\n",
       "      <td>0.77</td>\n",
       "      <td>NaN</td>\n",
       "      <td>NaN</td>\n",
       "      <td>NaN</td>\n",
       "    </tr>\n",
       "    <tr>\n",
       "      <th>2</th>\n",
       "      <td>Mario Kart Wii</td>\n",
       "      <td>Wii</td>\n",
       "      <td>2008.0</td>\n",
       "      <td>Racing</td>\n",
       "      <td>15.68</td>\n",
       "      <td>12.76</td>\n",
       "      <td>3.79</td>\n",
       "      <td>3.29</td>\n",
       "      <td>82.0</td>\n",
       "      <td>8.3</td>\n",
       "      <td>E</td>\n",
       "    </tr>\n",
       "    <tr>\n",
       "      <th>3</th>\n",
       "      <td>Wii Sports Resort</td>\n",
       "      <td>Wii</td>\n",
       "      <td>2009.0</td>\n",
       "      <td>Sports</td>\n",
       "      <td>15.61</td>\n",
       "      <td>10.93</td>\n",
       "      <td>3.28</td>\n",
       "      <td>2.95</td>\n",
       "      <td>80.0</td>\n",
       "      <td>8</td>\n",
       "      <td>E</td>\n",
       "    </tr>\n",
       "    <tr>\n",
       "      <th>4</th>\n",
       "      <td>Pokemon Red/Pokemon Blue</td>\n",
       "      <td>GB</td>\n",
       "      <td>1996.0</td>\n",
       "      <td>Role-Playing</td>\n",
       "      <td>11.27</td>\n",
       "      <td>8.89</td>\n",
       "      <td>10.22</td>\n",
       "      <td>1.00</td>\n",
       "      <td>NaN</td>\n",
       "      <td>NaN</td>\n",
       "      <td>NaN</td>\n",
       "    </tr>\n",
       "  </tbody>\n",
       "</table>\n",
       "</div>"
      ],
      "text/plain": [
       "                       Name Platform  Year_of_Release         Genre  NA_sales  \\\n",
       "0                Wii Sports      Wii           2006.0        Sports     41.36   \n",
       "1         Super Mario Bros.      NES           1985.0      Platform     29.08   \n",
       "2            Mario Kart Wii      Wii           2008.0        Racing     15.68   \n",
       "3         Wii Sports Resort      Wii           2009.0        Sports     15.61   \n",
       "4  Pokemon Red/Pokemon Blue       GB           1996.0  Role-Playing     11.27   \n",
       "\n",
       "   EU_sales  JP_sales  Other_sales  Critic_Score User_Score Rating  \n",
       "0     28.96      3.77         8.45          76.0          8      E  \n",
       "1      3.58      6.81         0.77           NaN        NaN    NaN  \n",
       "2     12.76      3.79         3.29          82.0        8.3      E  \n",
       "3     10.93      3.28         2.95          80.0          8      E  \n",
       "4      8.89     10.22         1.00           NaN        NaN    NaN  "
      ]
     },
     "execution_count": 76,
     "metadata": {},
     "output_type": "execute_result"
    }
   ],
   "source": [
    "df.head()"
   ]
  },
  {
   "cell_type": "markdown",
   "metadata": {},
   "source": [
    "## Modificación y limpieza de los datos"
   ]
  },
  {
   "cell_type": "markdown",
   "metadata": {},
   "source": [
    "### Cambio de nombre de las columnas a minusculas"
   ]
  },
  {
   "cell_type": "code",
   "execution_count": 77,
   "metadata": {},
   "outputs": [
    {
     "data": {
      "text/plain": [
       "Index(['name', 'platform', 'year_of_release', 'genre', 'na_sales', 'eu_sales',\n",
       "       'jp_sales', 'other_sales', 'critic_score', 'user_score', 'rating'],\n",
       "      dtype='object')"
      ]
     },
     "execution_count": 77,
     "metadata": {},
     "output_type": "execute_result"
    }
   ],
   "source": [
    "#Se procede a cambiar todos los nombres de las columnas a minusculas\n",
    "import pandas as pd\n",
    "\n",
    "new_column=[]\n",
    "\n",
    "for column in df.columns:\n",
    "    modified_columns=column.strip().lower()\n",
    "    new_column.append(modified_columns)\n",
    "\n",
    "df.columns=new_column\n",
    "\n",
    "df.columns\n"
   ]
  },
  {
   "cell_type": "code",
   "execution_count": 78,
   "metadata": {},
   "outputs": [
    {
     "data": {
      "text/html": [
       "<div>\n",
       "<style scoped>\n",
       "    .dataframe tbody tr th:only-of-type {\n",
       "        vertical-align: middle;\n",
       "    }\n",
       "\n",
       "    .dataframe tbody tr th {\n",
       "        vertical-align: top;\n",
       "    }\n",
       "\n",
       "    .dataframe thead th {\n",
       "        text-align: right;\n",
       "    }\n",
       "</style>\n",
       "<table border=\"1\" class=\"dataframe\">\n",
       "  <thead>\n",
       "    <tr style=\"text-align: right;\">\n",
       "      <th></th>\n",
       "      <th>name</th>\n",
       "      <th>platform</th>\n",
       "      <th>year_of_release</th>\n",
       "      <th>genre</th>\n",
       "      <th>na_sales</th>\n",
       "      <th>eu_sales</th>\n",
       "      <th>jp_sales</th>\n",
       "      <th>other_sales</th>\n",
       "      <th>critic_score</th>\n",
       "      <th>user_score</th>\n",
       "      <th>rating</th>\n",
       "    </tr>\n",
       "  </thead>\n",
       "  <tbody>\n",
       "    <tr>\n",
       "      <th>9441</th>\n",
       "      <td>DreamWorks Super Star Kartz</td>\n",
       "      <td>Wii</td>\n",
       "      <td>2011.0</td>\n",
       "      <td>Racing</td>\n",
       "      <td>0.08</td>\n",
       "      <td>0.03</td>\n",
       "      <td>0.00</td>\n",
       "      <td>0.01</td>\n",
       "      <td>NaN</td>\n",
       "      <td>tbd</td>\n",
       "      <td>E</td>\n",
       "    </tr>\n",
       "    <tr>\n",
       "      <th>12846</th>\n",
       "      <td>Titan Quest</td>\n",
       "      <td>PC</td>\n",
       "      <td>2006.0</td>\n",
       "      <td>Role-Playing</td>\n",
       "      <td>0.01</td>\n",
       "      <td>0.04</td>\n",
       "      <td>0.00</td>\n",
       "      <td>0.01</td>\n",
       "      <td>77.0</td>\n",
       "      <td>8.1</td>\n",
       "      <td>T</td>\n",
       "    </tr>\n",
       "    <tr>\n",
       "      <th>13808</th>\n",
       "      <td>Dragon's Lair 3D: Return to the Lair</td>\n",
       "      <td>GC</td>\n",
       "      <td>2002.0</td>\n",
       "      <td>Platform</td>\n",
       "      <td>0.03</td>\n",
       "      <td>0.01</td>\n",
       "      <td>0.00</td>\n",
       "      <td>0.00</td>\n",
       "      <td>NaN</td>\n",
       "      <td>NaN</td>\n",
       "      <td>NaN</td>\n",
       "    </tr>\n",
       "    <tr>\n",
       "      <th>7144</th>\n",
       "      <td>Time Crisis: Crisis Zone</td>\n",
       "      <td>PS2</td>\n",
       "      <td>2004.0</td>\n",
       "      <td>Shooter</td>\n",
       "      <td>0.11</td>\n",
       "      <td>0.09</td>\n",
       "      <td>0.00</td>\n",
       "      <td>0.03</td>\n",
       "      <td>66.0</td>\n",
       "      <td>tbd</td>\n",
       "      <td>T</td>\n",
       "    </tr>\n",
       "    <tr>\n",
       "      <th>6276</th>\n",
       "      <td>Mass Effect Trilogy</td>\n",
       "      <td>PC</td>\n",
       "      <td>2012.0</td>\n",
       "      <td>Action</td>\n",
       "      <td>0.09</td>\n",
       "      <td>0.16</td>\n",
       "      <td>0.00</td>\n",
       "      <td>0.02</td>\n",
       "      <td>NaN</td>\n",
       "      <td>8</td>\n",
       "      <td>M</td>\n",
       "    </tr>\n",
       "    <tr>\n",
       "      <th>7588</th>\n",
       "      <td>Ty the Tasmanian Tiger 2: Bush Rescue</td>\n",
       "      <td>GC</td>\n",
       "      <td>2004.0</td>\n",
       "      <td>Platform</td>\n",
       "      <td>0.15</td>\n",
       "      <td>0.04</td>\n",
       "      <td>0.00</td>\n",
       "      <td>0.01</td>\n",
       "      <td>70.0</td>\n",
       "      <td>8.6</td>\n",
       "      <td>E</td>\n",
       "    </tr>\n",
       "    <tr>\n",
       "      <th>1918</th>\n",
       "      <td>Prince of Persia</td>\n",
       "      <td>PS3</td>\n",
       "      <td>2008.0</td>\n",
       "      <td>Action</td>\n",
       "      <td>0.47</td>\n",
       "      <td>0.40</td>\n",
       "      <td>0.03</td>\n",
       "      <td>0.17</td>\n",
       "      <td>85.0</td>\n",
       "      <td>7.3</td>\n",
       "      <td>T</td>\n",
       "    </tr>\n",
       "    <tr>\n",
       "      <th>15210</th>\n",
       "      <td>Atelier Firis: The Alchemist of the Mysterious...</td>\n",
       "      <td>PSV</td>\n",
       "      <td>2016.0</td>\n",
       "      <td>Role-Playing</td>\n",
       "      <td>0.00</td>\n",
       "      <td>0.00</td>\n",
       "      <td>0.02</td>\n",
       "      <td>0.00</td>\n",
       "      <td>NaN</td>\n",
       "      <td>NaN</td>\n",
       "      <td>NaN</td>\n",
       "    </tr>\n",
       "    <tr>\n",
       "      <th>6219</th>\n",
       "      <td>SimCity 2000</td>\n",
       "      <td>SAT</td>\n",
       "      <td>1994.0</td>\n",
       "      <td>Simulation</td>\n",
       "      <td>0.00</td>\n",
       "      <td>0.00</td>\n",
       "      <td>0.28</td>\n",
       "      <td>0.00</td>\n",
       "      <td>NaN</td>\n",
       "      <td>NaN</td>\n",
       "      <td>NaN</td>\n",
       "    </tr>\n",
       "    <tr>\n",
       "      <th>11933</th>\n",
       "      <td>Speed Zone</td>\n",
       "      <td>Wii</td>\n",
       "      <td>2009.0</td>\n",
       "      <td>Racing</td>\n",
       "      <td>0.01</td>\n",
       "      <td>0.05</td>\n",
       "      <td>0.00</td>\n",
       "      <td>0.01</td>\n",
       "      <td>37.0</td>\n",
       "      <td>3.8</td>\n",
       "      <td>E</td>\n",
       "    </tr>\n",
       "  </tbody>\n",
       "</table>\n",
       "</div>"
      ],
      "text/plain": [
       "                                                    name platform  \\\n",
       "9441                         DreamWorks Super Star Kartz      Wii   \n",
       "12846                                        Titan Quest       PC   \n",
       "13808               Dragon's Lair 3D: Return to the Lair       GC   \n",
       "7144                            Time Crisis: Crisis Zone      PS2   \n",
       "6276                                 Mass Effect Trilogy       PC   \n",
       "7588               Ty the Tasmanian Tiger 2: Bush Rescue       GC   \n",
       "1918                                    Prince of Persia      PS3   \n",
       "15210  Atelier Firis: The Alchemist of the Mysterious...      PSV   \n",
       "6219                                        SimCity 2000      SAT   \n",
       "11933                                         Speed Zone      Wii   \n",
       "\n",
       "       year_of_release         genre  na_sales  eu_sales  jp_sales  \\\n",
       "9441            2011.0        Racing      0.08      0.03      0.00   \n",
       "12846           2006.0  Role-Playing      0.01      0.04      0.00   \n",
       "13808           2002.0      Platform      0.03      0.01      0.00   \n",
       "7144            2004.0       Shooter      0.11      0.09      0.00   \n",
       "6276            2012.0        Action      0.09      0.16      0.00   \n",
       "7588            2004.0      Platform      0.15      0.04      0.00   \n",
       "1918            2008.0        Action      0.47      0.40      0.03   \n",
       "15210           2016.0  Role-Playing      0.00      0.00      0.02   \n",
       "6219            1994.0    Simulation      0.00      0.00      0.28   \n",
       "11933           2009.0        Racing      0.01      0.05      0.00   \n",
       "\n",
       "       other_sales  critic_score user_score rating  \n",
       "9441          0.01           NaN        tbd      E  \n",
       "12846         0.01          77.0        8.1      T  \n",
       "13808         0.00           NaN        NaN    NaN  \n",
       "7144          0.03          66.0        tbd      T  \n",
       "6276          0.02           NaN          8      M  \n",
       "7588          0.01          70.0        8.6      E  \n",
       "1918          0.17          85.0        7.3      T  \n",
       "15210         0.00           NaN        NaN    NaN  \n",
       "6219          0.00           NaN        NaN    NaN  \n",
       "11933         0.01          37.0        3.8      E  "
      ]
     },
     "execution_count": 78,
     "metadata": {},
     "output_type": "execute_result"
    }
   ],
   "source": [
    "df.sample(10)"
   ]
  },
  {
   "cell_type": "code",
   "execution_count": 79,
   "metadata": {},
   "outputs": [
    {
     "data": {
      "text/html": [
       "<div>\n",
       "<style scoped>\n",
       "    .dataframe tbody tr th:only-of-type {\n",
       "        vertical-align: middle;\n",
       "    }\n",
       "\n",
       "    .dataframe tbody tr th {\n",
       "        vertical-align: top;\n",
       "    }\n",
       "\n",
       "    .dataframe thead th {\n",
       "        text-align: right;\n",
       "    }\n",
       "</style>\n",
       "<table border=\"1\" class=\"dataframe\">\n",
       "  <thead>\n",
       "    <tr style=\"text-align: right;\">\n",
       "      <th></th>\n",
       "      <th>year_of_release</th>\n",
       "      <th>na_sales</th>\n",
       "      <th>eu_sales</th>\n",
       "      <th>jp_sales</th>\n",
       "      <th>other_sales</th>\n",
       "      <th>critic_score</th>\n",
       "    </tr>\n",
       "  </thead>\n",
       "  <tbody>\n",
       "    <tr>\n",
       "      <th>count</th>\n",
       "      <td>16446.000000</td>\n",
       "      <td>16715.000000</td>\n",
       "      <td>16715.000000</td>\n",
       "      <td>16715.000000</td>\n",
       "      <td>16715.000000</td>\n",
       "      <td>8137.000000</td>\n",
       "    </tr>\n",
       "    <tr>\n",
       "      <th>mean</th>\n",
       "      <td>2006.484616</td>\n",
       "      <td>0.263377</td>\n",
       "      <td>0.145060</td>\n",
       "      <td>0.077617</td>\n",
       "      <td>0.047342</td>\n",
       "      <td>68.967679</td>\n",
       "    </tr>\n",
       "    <tr>\n",
       "      <th>std</th>\n",
       "      <td>5.877050</td>\n",
       "      <td>0.813604</td>\n",
       "      <td>0.503339</td>\n",
       "      <td>0.308853</td>\n",
       "      <td>0.186731</td>\n",
       "      <td>13.938165</td>\n",
       "    </tr>\n",
       "    <tr>\n",
       "      <th>min</th>\n",
       "      <td>1980.000000</td>\n",
       "      <td>0.000000</td>\n",
       "      <td>0.000000</td>\n",
       "      <td>0.000000</td>\n",
       "      <td>0.000000</td>\n",
       "      <td>13.000000</td>\n",
       "    </tr>\n",
       "    <tr>\n",
       "      <th>25%</th>\n",
       "      <td>2003.000000</td>\n",
       "      <td>0.000000</td>\n",
       "      <td>0.000000</td>\n",
       "      <td>0.000000</td>\n",
       "      <td>0.000000</td>\n",
       "      <td>60.000000</td>\n",
       "    </tr>\n",
       "    <tr>\n",
       "      <th>50%</th>\n",
       "      <td>2007.000000</td>\n",
       "      <td>0.080000</td>\n",
       "      <td>0.020000</td>\n",
       "      <td>0.000000</td>\n",
       "      <td>0.010000</td>\n",
       "      <td>71.000000</td>\n",
       "    </tr>\n",
       "    <tr>\n",
       "      <th>75%</th>\n",
       "      <td>2010.000000</td>\n",
       "      <td>0.240000</td>\n",
       "      <td>0.110000</td>\n",
       "      <td>0.040000</td>\n",
       "      <td>0.030000</td>\n",
       "      <td>79.000000</td>\n",
       "    </tr>\n",
       "    <tr>\n",
       "      <th>max</th>\n",
       "      <td>2016.000000</td>\n",
       "      <td>41.360000</td>\n",
       "      <td>28.960000</td>\n",
       "      <td>10.220000</td>\n",
       "      <td>10.570000</td>\n",
       "      <td>98.000000</td>\n",
       "    </tr>\n",
       "  </tbody>\n",
       "</table>\n",
       "</div>"
      ],
      "text/plain": [
       "       year_of_release      na_sales      eu_sales      jp_sales  \\\n",
       "count     16446.000000  16715.000000  16715.000000  16715.000000   \n",
       "mean       2006.484616      0.263377      0.145060      0.077617   \n",
       "std           5.877050      0.813604      0.503339      0.308853   \n",
       "min        1980.000000      0.000000      0.000000      0.000000   \n",
       "25%        2003.000000      0.000000      0.000000      0.000000   \n",
       "50%        2007.000000      0.080000      0.020000      0.000000   \n",
       "75%        2010.000000      0.240000      0.110000      0.040000   \n",
       "max        2016.000000     41.360000     28.960000     10.220000   \n",
       "\n",
       "        other_sales  critic_score  \n",
       "count  16715.000000   8137.000000  \n",
       "mean       0.047342     68.967679  \n",
       "std        0.186731     13.938165  \n",
       "min        0.000000     13.000000  \n",
       "25%        0.000000     60.000000  \n",
       "50%        0.010000     71.000000  \n",
       "75%        0.030000     79.000000  \n",
       "max       10.570000     98.000000  "
      ]
     },
     "execution_count": 79,
     "metadata": {},
     "output_type": "execute_result"
    }
   ],
   "source": [
    "df.describe()"
   ]
  },
  {
   "cell_type": "markdown",
   "metadata": {},
   "source": [
    "### Valores Ausentes\n"
   ]
  },
  {
   "cell_type": "markdown",
   "metadata": {},
   "source": [
    "Para poder cambiar los tipos de datos de los años, es necesario primero verificar los espacios en blanco de cada columna\n"
   ]
  },
  {
   "cell_type": "code",
   "execution_count": 80,
   "metadata": {},
   "outputs": [
    {
     "data": {
      "text/plain": [
       "name                  2\n",
       "platform              0\n",
       "year_of_release     269\n",
       "genre                 2\n",
       "na_sales              0\n",
       "eu_sales              0\n",
       "jp_sales              0\n",
       "other_sales           0\n",
       "critic_score       8578\n",
       "user_score         6701\n",
       "rating             6766\n",
       "dtype: int64"
      ]
     },
     "execution_count": 80,
     "metadata": {},
     "output_type": "execute_result"
    }
   ],
   "source": [
    "df.isna().sum()"
   ]
  },
  {
   "cell_type": "markdown",
   "metadata": {},
   "source": [
    "#### Columna 'Year of release'"
   ]
  },
  {
   "cell_type": "code",
   "execution_count": 81,
   "metadata": {},
   "outputs": [
    {
     "data": {
      "text/plain": [
       "2016.0"
      ]
     },
     "execution_count": 81,
     "metadata": {},
     "output_type": "execute_result"
    }
   ],
   "source": [
    "df['year_of_release'].max()"
   ]
  },
  {
   "cell_type": "code",
   "execution_count": 82,
   "metadata": {},
   "outputs": [
    {
     "data": {
      "text/plain": [
       "1980.0"
      ]
     },
     "execution_count": 82,
     "metadata": {},
     "output_type": "execute_result"
    }
   ],
   "source": [
    "df['year_of_release'].min()"
   ]
  },
  {
   "cell_type": "markdown",
   "metadata": {},
   "source": [
    "Se van a rellenar los valores ausentes para la columna de año de lanzamiento con el valor 0, porque es un valor que nos permite identificar facilmente los valores que son ausentes y ademas nos permita operar con los datos."
   ]
  },
  {
   "cell_type": "code",
   "execution_count": 83,
   "metadata": {},
   "outputs": [
    {
     "data": {
      "text/plain": [
       "2007.0"
      ]
     },
     "execution_count": 83,
     "metadata": {},
     "output_type": "execute_result"
    }
   ],
   "source": [
    "df['year_of_release'].median()"
   ]
  },
  {
   "cell_type": "code",
   "execution_count": 84,
   "metadata": {},
   "outputs": [],
   "source": [
    "#Se rellenan los valores ausentes de los años con 0, esto nos permite identificar la cantidad de datos que estan en este rango\n",
    "df['year_of_release']=df['year_of_release'].fillna(0)"
   ]
  },
  {
   "cell_type": "code",
   "execution_count": 85,
   "metadata": {},
   "outputs": [
    {
     "data": {
      "text/plain": [
       "0        2006\n",
       "1        1985\n",
       "2        2008\n",
       "3        2009\n",
       "4        1996\n",
       "         ... \n",
       "16710    2016\n",
       "16711    2006\n",
       "16712    2016\n",
       "16713    2003\n",
       "16714    2016\n",
       "Name: year_of_release, Length: 16715, dtype: int64"
      ]
     },
     "execution_count": 85,
     "metadata": {},
     "output_type": "execute_result"
    }
   ],
   "source": [
    "df['year_of_release']=df['year_of_release'].astype('int')\n",
    "df['year_of_release']"
   ]
  },
  {
   "cell_type": "code",
   "execution_count": 86,
   "metadata": {},
   "outputs": [
    {
     "data": {
      "text/plain": [
       "name                  2\n",
       "platform              0\n",
       "year_of_release       0\n",
       "genre                 2\n",
       "na_sales              0\n",
       "eu_sales              0\n",
       "jp_sales              0\n",
       "other_sales           0\n",
       "critic_score       8578\n",
       "user_score         6701\n",
       "rating             6766\n",
       "dtype: int64"
      ]
     },
     "execution_count": 86,
     "metadata": {},
     "output_type": "execute_result"
    }
   ],
   "source": [
    "df.isna().sum()"
   ]
  },
  {
   "cell_type": "code",
   "execution_count": 87,
   "metadata": {},
   "outputs": [
    {
     "data": {
      "text/plain": [
       "name               269\n",
       "platform           269\n",
       "year_of_release    269\n",
       "genre              269\n",
       "na_sales           269\n",
       "eu_sales           269\n",
       "jp_sales           269\n",
       "other_sales        269\n",
       "critic_score       154\n",
       "user_score         175\n",
       "rating             181\n",
       "dtype: int64"
      ]
     },
     "execution_count": 87,
     "metadata": {},
     "output_type": "execute_result"
    }
   ],
   "source": [
    "df.query('year_of_release==0').count()"
   ]
  },
  {
   "cell_type": "markdown",
   "metadata": {},
   "source": [
    "#### Columna 'Critic Score'"
   ]
  },
  {
   "cell_type": "markdown",
   "metadata": {},
   "source": [
    "Se va a determinar la media para cada plataforma y se va a rellenar el valor ausente de la columna 'Critic score' con la mediana de cada plataforma. Esto porque en datos sesgados, con valores atipicos se hace mejor trabajar con la mediana"
   ]
  },
  {
   "cell_type": "code",
   "execution_count": 88,
   "metadata": {},
   "outputs": [
    {
     "data": {
      "text/plain": [
       "array(['Wii', 'NES', 'GB', 'DS', 'X360', 'PS3', 'PS2', 'SNES', 'GBA',\n",
       "       'PS4', '3DS', 'N64', 'PS', 'XB', 'PC', '2600', 'PSP', 'XOne',\n",
       "       'WiiU', 'GC', 'GEN', 'DC', 'PSV', 'SAT', 'SCD', 'WS', 'NG', 'TG16',\n",
       "       '3DO', 'GG', 'PCFX'], dtype=object)"
      ]
     },
     "execution_count": 88,
     "metadata": {},
     "output_type": "execute_result"
    }
   ],
   "source": [
    "df['platform'].unique()"
   ]
  },
  {
   "cell_type": "code",
   "execution_count": 89,
   "metadata": {},
   "outputs": [
    {
     "data": {
      "text/plain": [
       "platform\n",
       "2600          NaN\n",
       "3DO           NaN\n",
       "3DS     67.101190\n",
       "DC      87.357143\n",
       "DS      63.761506\n",
       "GB            NaN\n",
       "GBA     67.372146\n",
       "GC      69.488839\n",
       "GEN           NaN\n",
       "GG            NaN\n",
       "N64           NaN\n",
       "NES           NaN\n",
       "NG            NaN\n",
       "PC      75.928671\n",
       "PCFX          NaN\n",
       "PS      71.515000\n",
       "PS2     68.727273\n",
       "PS3     70.382927\n",
       "PS4     72.091270\n",
       "PSP     67.424242\n",
       "PSV     70.791667\n",
       "SAT           NaN\n",
       "SCD           NaN\n",
       "SNES          NaN\n",
       "TG16          NaN\n",
       "WS            NaN\n",
       "Wii     62.823932\n",
       "WiiU    70.733333\n",
       "X360    68.616812\n",
       "XB      69.859310\n",
       "XOne    73.325444\n",
       "Name: critic_score, dtype: float64"
      ]
     },
     "execution_count": 89,
     "metadata": {},
     "output_type": "execute_result"
    }
   ],
   "source": [
    "df.groupby('platform')['critic_score'].mean()"
   ]
  },
  {
   "cell_type": "markdown",
   "metadata": {},
   "source": [
    "Como las medias de las plataformas son muy parecidas, se ha decidido rellenar los valores ausentes para la columna 'critic_score' con la media global "
   ]
  },
  {
   "cell_type": "code",
   "execution_count": 90,
   "metadata": {},
   "outputs": [
    {
     "data": {
      "text/html": [
       "<div>\n",
       "<style scoped>\n",
       "    .dataframe tbody tr th:only-of-type {\n",
       "        vertical-align: middle;\n",
       "    }\n",
       "\n",
       "    .dataframe tbody tr th {\n",
       "        vertical-align: top;\n",
       "    }\n",
       "\n",
       "    .dataframe thead th {\n",
       "        text-align: right;\n",
       "    }\n",
       "</style>\n",
       "<table border=\"1\" class=\"dataframe\">\n",
       "  <thead>\n",
       "    <tr style=\"text-align: right;\">\n",
       "      <th></th>\n",
       "      <th>name</th>\n",
       "      <th>platform</th>\n",
       "      <th>year_of_release</th>\n",
       "      <th>genre</th>\n",
       "      <th>na_sales</th>\n",
       "      <th>eu_sales</th>\n",
       "      <th>jp_sales</th>\n",
       "      <th>other_sales</th>\n",
       "      <th>critic_score</th>\n",
       "      <th>user_score</th>\n",
       "      <th>rating</th>\n",
       "    </tr>\n",
       "  </thead>\n",
       "  <tbody>\n",
       "    <tr>\n",
       "      <th>2633</th>\n",
       "      <td>Torneko no Daibouken: Fushigi no Dungeon</td>\n",
       "      <td>SNES</td>\n",
       "      <td>1993</td>\n",
       "      <td>Role-Playing</td>\n",
       "      <td>0.00</td>\n",
       "      <td>0.00</td>\n",
       "      <td>0.78</td>\n",
       "      <td>0.00</td>\n",
       "      <td>71.0</td>\n",
       "      <td>NaN</td>\n",
       "      <td>NaN</td>\n",
       "    </tr>\n",
       "    <tr>\n",
       "      <th>15915</th>\n",
       "      <td>Ore wa Shoujo Mangaka</td>\n",
       "      <td>PSP</td>\n",
       "      <td>2012</td>\n",
       "      <td>Action</td>\n",
       "      <td>0.00</td>\n",
       "      <td>0.00</td>\n",
       "      <td>0.02</td>\n",
       "      <td>0.00</td>\n",
       "      <td>71.0</td>\n",
       "      <td>NaN</td>\n",
       "      <td>NaN</td>\n",
       "    </tr>\n",
       "    <tr>\n",
       "      <th>12878</th>\n",
       "      <td>Chocolatier</td>\n",
       "      <td>DS</td>\n",
       "      <td>2010</td>\n",
       "      <td>Misc</td>\n",
       "      <td>0.05</td>\n",
       "      <td>0.00</td>\n",
       "      <td>0.00</td>\n",
       "      <td>0.00</td>\n",
       "      <td>71.0</td>\n",
       "      <td>tbd</td>\n",
       "      <td>E</td>\n",
       "    </tr>\n",
       "    <tr>\n",
       "      <th>9744</th>\n",
       "      <td>Rock Band Track Pack Volume 2</td>\n",
       "      <td>PS2</td>\n",
       "      <td>2008</td>\n",
       "      <td>Misc</td>\n",
       "      <td>0.06</td>\n",
       "      <td>0.05</td>\n",
       "      <td>0.00</td>\n",
       "      <td>0.02</td>\n",
       "      <td>71.0</td>\n",
       "      <td>tbd</td>\n",
       "      <td>T</td>\n",
       "    </tr>\n",
       "    <tr>\n",
       "      <th>15949</th>\n",
       "      <td>Gaist Crusher God</td>\n",
       "      <td>3DS</td>\n",
       "      <td>2014</td>\n",
       "      <td>Action</td>\n",
       "      <td>0.00</td>\n",
       "      <td>0.00</td>\n",
       "      <td>0.02</td>\n",
       "      <td>0.00</td>\n",
       "      <td>71.0</td>\n",
       "      <td>NaN</td>\n",
       "      <td>NaN</td>\n",
       "    </tr>\n",
       "    <tr>\n",
       "      <th>12598</th>\n",
       "      <td>Fate/Tiger Colosseum Upper</td>\n",
       "      <td>PSP</td>\n",
       "      <td>2008</td>\n",
       "      <td>Fighting</td>\n",
       "      <td>0.00</td>\n",
       "      <td>0.00</td>\n",
       "      <td>0.06</td>\n",
       "      <td>0.00</td>\n",
       "      <td>71.0</td>\n",
       "      <td>NaN</td>\n",
       "      <td>NaN</td>\n",
       "    </tr>\n",
       "    <tr>\n",
       "      <th>14398</th>\n",
       "      <td>Rampo</td>\n",
       "      <td>SAT</td>\n",
       "      <td>1995</td>\n",
       "      <td>Adventure</td>\n",
       "      <td>0.00</td>\n",
       "      <td>0.00</td>\n",
       "      <td>0.03</td>\n",
       "      <td>0.00</td>\n",
       "      <td>71.0</td>\n",
       "      <td>NaN</td>\n",
       "      <td>NaN</td>\n",
       "    </tr>\n",
       "    <tr>\n",
       "      <th>6461</th>\n",
       "      <td>J Stars Victory Vs.</td>\n",
       "      <td>PS4</td>\n",
       "      <td>2015</td>\n",
       "      <td>Fighting</td>\n",
       "      <td>0.08</td>\n",
       "      <td>0.14</td>\n",
       "      <td>0.00</td>\n",
       "      <td>0.04</td>\n",
       "      <td>71.0</td>\n",
       "      <td>NaN</td>\n",
       "      <td>NaN</td>\n",
       "    </tr>\n",
       "    <tr>\n",
       "      <th>5358</th>\n",
       "      <td>Mini Ninjas</td>\n",
       "      <td>PS3</td>\n",
       "      <td>2009</td>\n",
       "      <td>Action</td>\n",
       "      <td>0.14</td>\n",
       "      <td>0.15</td>\n",
       "      <td>0.00</td>\n",
       "      <td>0.06</td>\n",
       "      <td>73.0</td>\n",
       "      <td>8.7</td>\n",
       "      <td>E10+</td>\n",
       "    </tr>\n",
       "    <tr>\n",
       "      <th>148</th>\n",
       "      <td>Final Fantasy XII</td>\n",
       "      <td>PS2</td>\n",
       "      <td>2006</td>\n",
       "      <td>Role-Playing</td>\n",
       "      <td>1.88</td>\n",
       "      <td>0.00</td>\n",
       "      <td>2.33</td>\n",
       "      <td>1.74</td>\n",
       "      <td>92.0</td>\n",
       "      <td>7.6</td>\n",
       "      <td>T</td>\n",
       "    </tr>\n",
       "  </tbody>\n",
       "</table>\n",
       "</div>"
      ],
      "text/plain": [
       "                                           name platform  year_of_release  \\\n",
       "2633   Torneko no Daibouken: Fushigi no Dungeon     SNES             1993   \n",
       "15915                     Ore wa Shoujo Mangaka      PSP             2012   \n",
       "12878                               Chocolatier       DS             2010   \n",
       "9744              Rock Band Track Pack Volume 2      PS2             2008   \n",
       "15949                         Gaist Crusher God      3DS             2014   \n",
       "12598                Fate/Tiger Colosseum Upper      PSP             2008   \n",
       "14398                                     Rampo      SAT             1995   \n",
       "6461                        J Stars Victory Vs.      PS4             2015   \n",
       "5358                                Mini Ninjas      PS3             2009   \n",
       "148                           Final Fantasy XII      PS2             2006   \n",
       "\n",
       "              genre  na_sales  eu_sales  jp_sales  other_sales  critic_score  \\\n",
       "2633   Role-Playing      0.00      0.00      0.78         0.00          71.0   \n",
       "15915        Action      0.00      0.00      0.02         0.00          71.0   \n",
       "12878          Misc      0.05      0.00      0.00         0.00          71.0   \n",
       "9744           Misc      0.06      0.05      0.00         0.02          71.0   \n",
       "15949        Action      0.00      0.00      0.02         0.00          71.0   \n",
       "12598      Fighting      0.00      0.00      0.06         0.00          71.0   \n",
       "14398     Adventure      0.00      0.00      0.03         0.00          71.0   \n",
       "6461       Fighting      0.08      0.14      0.00         0.04          71.0   \n",
       "5358         Action      0.14      0.15      0.00         0.06          73.0   \n",
       "148    Role-Playing      1.88      0.00      2.33         1.74          92.0   \n",
       "\n",
       "      user_score rating  \n",
       "2633         NaN    NaN  \n",
       "15915        NaN    NaN  \n",
       "12878        tbd      E  \n",
       "9744         tbd      T  \n",
       "15949        NaN    NaN  \n",
       "12598        NaN    NaN  \n",
       "14398        NaN    NaN  \n",
       "6461         NaN    NaN  \n",
       "5358         8.7   E10+  \n",
       "148          7.6      T  "
      ]
     },
     "execution_count": 90,
     "metadata": {},
     "output_type": "execute_result"
    }
   ],
   "source": [
    "df['critic_score']=df['critic_score'].fillna(df['critic_score'].median())\n",
    "\n",
    "df.sample(10)"
   ]
  },
  {
   "cell_type": "code",
   "execution_count": 91,
   "metadata": {},
   "outputs": [
    {
     "data": {
      "text/plain": [
       "0"
      ]
     },
     "execution_count": 91,
     "metadata": {},
     "output_type": "execute_result"
    }
   ],
   "source": [
    "df['critic_score'].isna().sum()"
   ]
  },
  {
   "cell_type": "markdown",
   "metadata": {},
   "source": [
    "#### Columna 'User Score'"
   ]
  },
  {
   "cell_type": "code",
   "execution_count": 92,
   "metadata": {},
   "outputs": [
    {
     "data": {
      "text/plain": [
       "array(['8', nan, '8.3', '8.5', '6.6', '8.4', '8.6', '7.7', '6.3', '7.4',\n",
       "       '8.2', '9', '7.9', '8.1', '8.7', '7.1', '3.4', '5.3', '4.8', '3.2',\n",
       "       '8.9', '6.4', '7.8', '7.5', '2.6', '7.2', '9.2', '7', '7.3', '4.3',\n",
       "       '7.6', '5.7', '5', '9.1', '6.5', 'tbd', '8.8', '6.9', '9.4', '6.8',\n",
       "       '6.1', '6.7', '5.4', '4', '4.9', '4.5', '9.3', '6.2', '4.2', '6',\n",
       "       '3.7', '4.1', '5.8', '5.6', '5.5', '4.4', '4.6', '5.9', '3.9',\n",
       "       '3.1', '2.9', '5.2', '3.3', '4.7', '5.1', '3.5', '2.5', '1.9', '3',\n",
       "       '2.7', '2.2', '2', '9.5', '2.1', '3.6', '2.8', '1.8', '3.8', '0',\n",
       "       '1.6', '9.6', '2.4', '1.7', '1.1', '0.3', '1.5', '0.7', '1.2',\n",
       "       '2.3', '0.5', '1.3', '0.2', '0.6', '1.4', '0.9', '1', '9.7'],\n",
       "      dtype=object)"
      ]
     },
     "execution_count": 92,
     "metadata": {},
     "output_type": "execute_result"
    }
   ],
   "source": [
    "df['user_score'].unique()"
   ]
  },
  {
   "cell_type": "markdown",
   "metadata": {},
   "source": [
    "Se observan valores ausentes(nan) y tambien filas con valores 'tbd', vamos a analizar cada caso para elegir con que valores rellenar estos campos."
   ]
  },
  {
   "cell_type": "code",
   "execution_count": 93,
   "metadata": {},
   "outputs": [
    {
     "data": {
      "text/plain": [
       "count     10014\n",
       "unique       96\n",
       "top         tbd\n",
       "freq       2424\n",
       "Name: user_score, dtype: object"
      ]
     },
     "execution_count": 93,
     "metadata": {},
     "output_type": "execute_result"
    }
   ],
   "source": [
    "df['user_score'].describe()"
   ]
  },
  {
   "cell_type": "code",
   "execution_count": 94,
   "metadata": {},
   "outputs": [
    {
     "data": {
      "text/html": [
       "<div>\n",
       "<style scoped>\n",
       "    .dataframe tbody tr th:only-of-type {\n",
       "        vertical-align: middle;\n",
       "    }\n",
       "\n",
       "    .dataframe tbody tr th {\n",
       "        vertical-align: top;\n",
       "    }\n",
       "\n",
       "    .dataframe thead th {\n",
       "        text-align: right;\n",
       "    }\n",
       "</style>\n",
       "<table border=\"1\" class=\"dataframe\">\n",
       "  <thead>\n",
       "    <tr style=\"text-align: right;\">\n",
       "      <th></th>\n",
       "      <th>name</th>\n",
       "      <th>platform</th>\n",
       "      <th>year_of_release</th>\n",
       "      <th>genre</th>\n",
       "      <th>na_sales</th>\n",
       "      <th>eu_sales</th>\n",
       "      <th>jp_sales</th>\n",
       "      <th>other_sales</th>\n",
       "      <th>critic_score</th>\n",
       "      <th>user_score</th>\n",
       "      <th>rating</th>\n",
       "    </tr>\n",
       "  </thead>\n",
       "  <tbody>\n",
       "    <tr>\n",
       "      <th>119</th>\n",
       "      <td>Zumba Fitness</td>\n",
       "      <td>Wii</td>\n",
       "      <td>2010</td>\n",
       "      <td>Sports</td>\n",
       "      <td>3.45</td>\n",
       "      <td>2.59</td>\n",
       "      <td>0.0</td>\n",
       "      <td>0.66</td>\n",
       "      <td>71.0</td>\n",
       "      <td>tbd</td>\n",
       "      <td>E</td>\n",
       "    </tr>\n",
       "    <tr>\n",
       "      <th>301</th>\n",
       "      <td>Namco Museum: 50th Anniversary</td>\n",
       "      <td>PS2</td>\n",
       "      <td>2005</td>\n",
       "      <td>Misc</td>\n",
       "      <td>2.08</td>\n",
       "      <td>1.35</td>\n",
       "      <td>0.0</td>\n",
       "      <td>0.54</td>\n",
       "      <td>61.0</td>\n",
       "      <td>tbd</td>\n",
       "      <td>E10+</td>\n",
       "    </tr>\n",
       "    <tr>\n",
       "      <th>520</th>\n",
       "      <td>Zumba Fitness 2</td>\n",
       "      <td>Wii</td>\n",
       "      <td>2011</td>\n",
       "      <td>Sports</td>\n",
       "      <td>1.51</td>\n",
       "      <td>1.03</td>\n",
       "      <td>0.0</td>\n",
       "      <td>0.27</td>\n",
       "      <td>71.0</td>\n",
       "      <td>tbd</td>\n",
       "      <td>T</td>\n",
       "    </tr>\n",
       "    <tr>\n",
       "      <th>645</th>\n",
       "      <td>uDraw Studio</td>\n",
       "      <td>Wii</td>\n",
       "      <td>2010</td>\n",
       "      <td>Misc</td>\n",
       "      <td>1.65</td>\n",
       "      <td>0.57</td>\n",
       "      <td>0.0</td>\n",
       "      <td>0.20</td>\n",
       "      <td>71.0</td>\n",
       "      <td>tbd</td>\n",
       "      <td>E</td>\n",
       "    </tr>\n",
       "    <tr>\n",
       "      <th>657</th>\n",
       "      <td>Frogger's Adventures: Temple of the Frog</td>\n",
       "      <td>GBA</td>\n",
       "      <td>0</td>\n",
       "      <td>Adventure</td>\n",
       "      <td>2.15</td>\n",
       "      <td>0.18</td>\n",
       "      <td>0.0</td>\n",
       "      <td>0.07</td>\n",
       "      <td>73.0</td>\n",
       "      <td>tbd</td>\n",
       "      <td>E</td>\n",
       "    </tr>\n",
       "    <tr>\n",
       "      <th>...</th>\n",
       "      <td>...</td>\n",
       "      <td>...</td>\n",
       "      <td>...</td>\n",
       "      <td>...</td>\n",
       "      <td>...</td>\n",
       "      <td>...</td>\n",
       "      <td>...</td>\n",
       "      <td>...</td>\n",
       "      <td>...</td>\n",
       "      <td>...</td>\n",
       "      <td>...</td>\n",
       "    </tr>\n",
       "    <tr>\n",
       "      <th>16695</th>\n",
       "      <td>Planet Monsters</td>\n",
       "      <td>GBA</td>\n",
       "      <td>2001</td>\n",
       "      <td>Action</td>\n",
       "      <td>0.01</td>\n",
       "      <td>0.00</td>\n",
       "      <td>0.0</td>\n",
       "      <td>0.00</td>\n",
       "      <td>67.0</td>\n",
       "      <td>tbd</td>\n",
       "      <td>E</td>\n",
       "    </tr>\n",
       "    <tr>\n",
       "      <th>16697</th>\n",
       "      <td>Bust-A-Move 3000</td>\n",
       "      <td>GC</td>\n",
       "      <td>2003</td>\n",
       "      <td>Puzzle</td>\n",
       "      <td>0.01</td>\n",
       "      <td>0.00</td>\n",
       "      <td>0.0</td>\n",
       "      <td>0.00</td>\n",
       "      <td>53.0</td>\n",
       "      <td>tbd</td>\n",
       "      <td>E</td>\n",
       "    </tr>\n",
       "    <tr>\n",
       "      <th>16698</th>\n",
       "      <td>Mega Brain Boost</td>\n",
       "      <td>DS</td>\n",
       "      <td>2008</td>\n",
       "      <td>Puzzle</td>\n",
       "      <td>0.01</td>\n",
       "      <td>0.00</td>\n",
       "      <td>0.0</td>\n",
       "      <td>0.00</td>\n",
       "      <td>48.0</td>\n",
       "      <td>tbd</td>\n",
       "      <td>E</td>\n",
       "    </tr>\n",
       "    <tr>\n",
       "      <th>16704</th>\n",
       "      <td>Plushees</td>\n",
       "      <td>DS</td>\n",
       "      <td>2008</td>\n",
       "      <td>Simulation</td>\n",
       "      <td>0.01</td>\n",
       "      <td>0.00</td>\n",
       "      <td>0.0</td>\n",
       "      <td>0.00</td>\n",
       "      <td>71.0</td>\n",
       "      <td>tbd</td>\n",
       "      <td>E</td>\n",
       "    </tr>\n",
       "    <tr>\n",
       "      <th>16706</th>\n",
       "      <td>Men in Black II: Alien Escape</td>\n",
       "      <td>GC</td>\n",
       "      <td>2003</td>\n",
       "      <td>Shooter</td>\n",
       "      <td>0.01</td>\n",
       "      <td>0.00</td>\n",
       "      <td>0.0</td>\n",
       "      <td>0.00</td>\n",
       "      <td>71.0</td>\n",
       "      <td>tbd</td>\n",
       "      <td>T</td>\n",
       "    </tr>\n",
       "  </tbody>\n",
       "</table>\n",
       "<p>2424 rows × 11 columns</p>\n",
       "</div>"
      ],
      "text/plain": [
       "                                           name platform  year_of_release  \\\n",
       "119                               Zumba Fitness      Wii             2010   \n",
       "301              Namco Museum: 50th Anniversary      PS2             2005   \n",
       "520                             Zumba Fitness 2      Wii             2011   \n",
       "645                                uDraw Studio      Wii             2010   \n",
       "657    Frogger's Adventures: Temple of the Frog      GBA                0   \n",
       "...                                         ...      ...              ...   \n",
       "16695                           Planet Monsters      GBA             2001   \n",
       "16697                          Bust-A-Move 3000       GC             2003   \n",
       "16698                          Mega Brain Boost       DS             2008   \n",
       "16704                                  Plushees       DS             2008   \n",
       "16706             Men in Black II: Alien Escape       GC             2003   \n",
       "\n",
       "            genre  na_sales  eu_sales  jp_sales  other_sales  critic_score  \\\n",
       "119        Sports      3.45      2.59       0.0         0.66          71.0   \n",
       "301          Misc      2.08      1.35       0.0         0.54          61.0   \n",
       "520        Sports      1.51      1.03       0.0         0.27          71.0   \n",
       "645          Misc      1.65      0.57       0.0         0.20          71.0   \n",
       "657     Adventure      2.15      0.18       0.0         0.07          73.0   \n",
       "...           ...       ...       ...       ...          ...           ...   \n",
       "16695      Action      0.01      0.00       0.0         0.00          67.0   \n",
       "16697      Puzzle      0.01      0.00       0.0         0.00          53.0   \n",
       "16698      Puzzle      0.01      0.00       0.0         0.00          48.0   \n",
       "16704  Simulation      0.01      0.00       0.0         0.00          71.0   \n",
       "16706     Shooter      0.01      0.00       0.0         0.00          71.0   \n",
       "\n",
       "      user_score rating  \n",
       "119          tbd      E  \n",
       "301          tbd   E10+  \n",
       "520          tbd      T  \n",
       "645          tbd      E  \n",
       "657          tbd      E  \n",
       "...          ...    ...  \n",
       "16695        tbd      E  \n",
       "16697        tbd      E  \n",
       "16698        tbd      E  \n",
       "16704        tbd      E  \n",
       "16706        tbd      T  \n",
       "\n",
       "[2424 rows x 11 columns]"
      ]
     },
     "execution_count": 94,
     "metadata": {},
     "output_type": "execute_result"
    }
   ],
   "source": [
    "df.query(\"user_score=='tbd'\")"
   ]
  },
  {
   "cell_type": "markdown",
   "metadata": {},
   "source": [
    "Tomando la misma logica que para la columna critic_score, los valores maximos que se pueden tener en la columna user_score es de 0-10, por lo que se van a reemplazar los valores ausentes y el tbd por la mediana de los valores. Por ultimo se va a cambiar la columna a tipo float con el fin de poder realizar calculos posteriores."
   ]
  },
  {
   "cell_type": "code",
   "execution_count": 95,
   "metadata": {},
   "outputs": [
    {
     "data": {
      "text/plain": [
       "0        8.0\n",
       "1        NaN\n",
       "2        8.3\n",
       "3        8.0\n",
       "4        NaN\n",
       "        ... \n",
       "16710    NaN\n",
       "16711    NaN\n",
       "16712    NaN\n",
       "16713    NaN\n",
       "16714    NaN\n",
       "Name: user_score, Length: 16715, dtype: float64"
      ]
     },
     "execution_count": 95,
     "metadata": {},
     "output_type": "execute_result"
    }
   ],
   "source": [
    "#Se cambia el tipo de datos de str a numerico\n",
    "df['user_score']=pd.to_numeric(df['user_score'], errors='coerce')\n",
    "\n",
    "df['user_score']"
   ]
  },
  {
   "cell_type": "code",
   "execution_count": 96,
   "metadata": {},
   "outputs": [
    {
     "data": {
      "text/plain": [
       "7.125046113306982"
      ]
     },
     "execution_count": 96,
     "metadata": {},
     "output_type": "execute_result"
    }
   ],
   "source": [
    "df['user_score'].mean()"
   ]
  },
  {
   "cell_type": "code",
   "execution_count": 97,
   "metadata": {},
   "outputs": [
    {
     "data": {
      "text/plain": [
       "platform\n",
       "2600         NaN\n",
       "3DO          NaN\n",
       "3DS     6.831609\n",
       "DC      8.528571\n",
       "DS      7.025194\n",
       "GB           NaN\n",
       "GBA     7.676863\n",
       "GC      7.597541\n",
       "GEN          NaN\n",
       "GG           NaN\n",
       "N64          NaN\n",
       "NES          NaN\n",
       "NG           NaN\n",
       "PC      7.062468\n",
       "PCFX         NaN\n",
       "PS      7.865432\n",
       "PS2     7.626833\n",
       "PS3     6.726568\n",
       "PS4     6.748249\n",
       "PSP     7.228266\n",
       "PSV     7.336364\n",
       "SAT          NaN\n",
       "SCD          NaN\n",
       "SNES         NaN\n",
       "TG16         NaN\n",
       "WS           NaN\n",
       "Wii     6.742679\n",
       "WiiU    6.904000\n",
       "X360    6.683540\n",
       "XB      7.500512\n",
       "XOne    6.521429\n",
       "Name: user_score, dtype: float64"
      ]
     },
     "execution_count": 97,
     "metadata": {},
     "output_type": "execute_result"
    }
   ],
   "source": [
    "df.groupby('platform')['user_score'].mean()"
   ]
  },
  {
   "cell_type": "code",
   "execution_count": 98,
   "metadata": {},
   "outputs": [
    {
     "data": {
      "text/html": [
       "<div>\n",
       "<style scoped>\n",
       "    .dataframe tbody tr th:only-of-type {\n",
       "        vertical-align: middle;\n",
       "    }\n",
       "\n",
       "    .dataframe tbody tr th {\n",
       "        vertical-align: top;\n",
       "    }\n",
       "\n",
       "    .dataframe thead th {\n",
       "        text-align: right;\n",
       "    }\n",
       "</style>\n",
       "<table border=\"1\" class=\"dataframe\">\n",
       "  <thead>\n",
       "    <tr style=\"text-align: right;\">\n",
       "      <th></th>\n",
       "      <th>name</th>\n",
       "      <th>platform</th>\n",
       "      <th>year_of_release</th>\n",
       "      <th>genre</th>\n",
       "      <th>na_sales</th>\n",
       "      <th>eu_sales</th>\n",
       "      <th>jp_sales</th>\n",
       "      <th>other_sales</th>\n",
       "      <th>critic_score</th>\n",
       "      <th>user_score</th>\n",
       "      <th>rating</th>\n",
       "    </tr>\n",
       "  </thead>\n",
       "  <tbody>\n",
       "    <tr>\n",
       "      <th>1906</th>\n",
       "      <td>Ready 2 Rumble Boxing</td>\n",
       "      <td>PS</td>\n",
       "      <td>1998</td>\n",
       "      <td>Sports</td>\n",
       "      <td>0.60</td>\n",
       "      <td>0.41</td>\n",
       "      <td>0.00</td>\n",
       "      <td>0.07</td>\n",
       "      <td>71.0</td>\n",
       "      <td>7.5</td>\n",
       "      <td>NaN</td>\n",
       "    </tr>\n",
       "    <tr>\n",
       "      <th>8706</th>\n",
       "      <td>Just Sing!</td>\n",
       "      <td>DS</td>\n",
       "      <td>2009</td>\n",
       "      <td>Misc</td>\n",
       "      <td>0.14</td>\n",
       "      <td>0.00</td>\n",
       "      <td>0.00</td>\n",
       "      <td>0.01</td>\n",
       "      <td>71.0</td>\n",
       "      <td>7.5</td>\n",
       "      <td>NaN</td>\n",
       "    </tr>\n",
       "    <tr>\n",
       "      <th>12747</th>\n",
       "      <td>Bleach: Blade Battlers 2nd</td>\n",
       "      <td>PS2</td>\n",
       "      <td>2007</td>\n",
       "      <td>Fighting</td>\n",
       "      <td>0.00</td>\n",
       "      <td>0.00</td>\n",
       "      <td>0.06</td>\n",
       "      <td>0.00</td>\n",
       "      <td>71.0</td>\n",
       "      <td>7.5</td>\n",
       "      <td>NaN</td>\n",
       "    </tr>\n",
       "    <tr>\n",
       "      <th>6776</th>\n",
       "      <td>Tongari Boushi to Oshare na Mahou Tsukai</td>\n",
       "      <td>DS</td>\n",
       "      <td>2011</td>\n",
       "      <td>Action</td>\n",
       "      <td>0.00</td>\n",
       "      <td>0.00</td>\n",
       "      <td>0.24</td>\n",
       "      <td>0.00</td>\n",
       "      <td>71.0</td>\n",
       "      <td>7.5</td>\n",
       "      <td>NaN</td>\n",
       "    </tr>\n",
       "    <tr>\n",
       "      <th>15268</th>\n",
       "      <td>Grey's Anatomy: The Video Game</td>\n",
       "      <td>PC</td>\n",
       "      <td>2009</td>\n",
       "      <td>Adventure</td>\n",
       "      <td>0.00</td>\n",
       "      <td>0.02</td>\n",
       "      <td>0.00</td>\n",
       "      <td>0.00</td>\n",
       "      <td>36.0</td>\n",
       "      <td>3.9</td>\n",
       "      <td>T</td>\n",
       "    </tr>\n",
       "    <tr>\n",
       "      <th>10555</th>\n",
       "      <td>Dark Summit</td>\n",
       "      <td>XB</td>\n",
       "      <td>2001</td>\n",
       "      <td>Sports</td>\n",
       "      <td>0.08</td>\n",
       "      <td>0.02</td>\n",
       "      <td>0.00</td>\n",
       "      <td>0.00</td>\n",
       "      <td>71.0</td>\n",
       "      <td>7.5</td>\n",
       "      <td>T</td>\n",
       "    </tr>\n",
       "    <tr>\n",
       "      <th>12571</th>\n",
       "      <td>Smile PreCure! Let's Go! Marchen World</td>\n",
       "      <td>3DS</td>\n",
       "      <td>2012</td>\n",
       "      <td>Action</td>\n",
       "      <td>0.00</td>\n",
       "      <td>0.00</td>\n",
       "      <td>0.06</td>\n",
       "      <td>0.00</td>\n",
       "      <td>71.0</td>\n",
       "      <td>7.5</td>\n",
       "      <td>NaN</td>\n",
       "    </tr>\n",
       "    <tr>\n",
       "      <th>9534</th>\n",
       "      <td>Monster Hunter Frontier Online</td>\n",
       "      <td>X360</td>\n",
       "      <td>2010</td>\n",
       "      <td>Role-Playing</td>\n",
       "      <td>0.00</td>\n",
       "      <td>0.00</td>\n",
       "      <td>0.13</td>\n",
       "      <td>0.00</td>\n",
       "      <td>71.0</td>\n",
       "      <td>7.5</td>\n",
       "      <td>NaN</td>\n",
       "    </tr>\n",
       "    <tr>\n",
       "      <th>11922</th>\n",
       "      <td>The Croods: Prehistoric Party!</td>\n",
       "      <td>Wii</td>\n",
       "      <td>2013</td>\n",
       "      <td>Misc</td>\n",
       "      <td>0.01</td>\n",
       "      <td>0.05</td>\n",
       "      <td>0.00</td>\n",
       "      <td>0.00</td>\n",
       "      <td>71.0</td>\n",
       "      <td>7.5</td>\n",
       "      <td>NaN</td>\n",
       "    </tr>\n",
       "    <tr>\n",
       "      <th>16392</th>\n",
       "      <td>Goat Simulator</td>\n",
       "      <td>XOne</td>\n",
       "      <td>2016</td>\n",
       "      <td>Simulation</td>\n",
       "      <td>0.00</td>\n",
       "      <td>0.01</td>\n",
       "      <td>0.00</td>\n",
       "      <td>0.00</td>\n",
       "      <td>53.0</td>\n",
       "      <td>6.3</td>\n",
       "      <td>T</td>\n",
       "    </tr>\n",
       "  </tbody>\n",
       "</table>\n",
       "</div>"
      ],
      "text/plain": [
       "                                           name platform  year_of_release  \\\n",
       "1906                      Ready 2 Rumble Boxing       PS             1998   \n",
       "8706                                 Just Sing!       DS             2009   \n",
       "12747                Bleach: Blade Battlers 2nd      PS2             2007   \n",
       "6776   Tongari Boushi to Oshare na Mahou Tsukai       DS             2011   \n",
       "15268            Grey's Anatomy: The Video Game       PC             2009   \n",
       "10555                               Dark Summit       XB             2001   \n",
       "12571    Smile PreCure! Let's Go! Marchen World      3DS             2012   \n",
       "9534             Monster Hunter Frontier Online     X360             2010   \n",
       "11922            The Croods: Prehistoric Party!      Wii             2013   \n",
       "16392                            Goat Simulator     XOne             2016   \n",
       "\n",
       "              genre  na_sales  eu_sales  jp_sales  other_sales  critic_score  \\\n",
       "1906         Sports      0.60      0.41      0.00         0.07          71.0   \n",
       "8706           Misc      0.14      0.00      0.00         0.01          71.0   \n",
       "12747      Fighting      0.00      0.00      0.06         0.00          71.0   \n",
       "6776         Action      0.00      0.00      0.24         0.00          71.0   \n",
       "15268     Adventure      0.00      0.02      0.00         0.00          36.0   \n",
       "10555        Sports      0.08      0.02      0.00         0.00          71.0   \n",
       "12571        Action      0.00      0.00      0.06         0.00          71.0   \n",
       "9534   Role-Playing      0.00      0.00      0.13         0.00          71.0   \n",
       "11922          Misc      0.01      0.05      0.00         0.00          71.0   \n",
       "16392    Simulation      0.00      0.01      0.00         0.00          53.0   \n",
       "\n",
       "       user_score rating  \n",
       "1906          7.5    NaN  \n",
       "8706          7.5    NaN  \n",
       "12747         7.5    NaN  \n",
       "6776          7.5    NaN  \n",
       "15268         3.9      T  \n",
       "10555         7.5      T  \n",
       "12571         7.5    NaN  \n",
       "9534          7.5    NaN  \n",
       "11922         7.5    NaN  \n",
       "16392         6.3      T  "
      ]
     },
     "execution_count": 98,
     "metadata": {},
     "output_type": "execute_result"
    }
   ],
   "source": [
    "#Se cambian los datos ausentes por la media global para essa columna\n",
    "\n",
    "df['user_score']=df['user_score'].fillna(df['user_score'].median())\n",
    "\n",
    "df.sample(10)"
   ]
  },
  {
   "cell_type": "code",
   "execution_count": 99,
   "metadata": {},
   "outputs": [
    {
     "data": {
      "text/plain": [
       "0"
      ]
     },
     "execution_count": 99,
     "metadata": {},
     "output_type": "execute_result"
    }
   ],
   "source": [
    "df['user_score'].isna().sum()"
   ]
  },
  {
   "cell_type": "code",
   "execution_count": 100,
   "metadata": {},
   "outputs": [
    {
     "name": "stdout",
     "output_type": "stream",
     "text": [
      "<class 'pandas.core.frame.DataFrame'>\n",
      "RangeIndex: 16715 entries, 0 to 16714\n",
      "Data columns (total 11 columns):\n",
      " #   Column           Non-Null Count  Dtype  \n",
      "---  ------           --------------  -----  \n",
      " 0   name             16713 non-null  object \n",
      " 1   platform         16715 non-null  object \n",
      " 2   year_of_release  16715 non-null  int64  \n",
      " 3   genre            16713 non-null  object \n",
      " 4   na_sales         16715 non-null  float64\n",
      " 5   eu_sales         16715 non-null  float64\n",
      " 6   jp_sales         16715 non-null  float64\n",
      " 7   other_sales      16715 non-null  float64\n",
      " 8   critic_score     16715 non-null  float64\n",
      " 9   user_score       16715 non-null  float64\n",
      " 10  rating           9949 non-null   object \n",
      "dtypes: float64(6), int64(1), object(4)\n",
      "memory usage: 1.4+ MB\n"
     ]
    }
   ],
   "source": [
    "# Se verifican los valores ausentes y el tipo de dato para cada columna\n",
    "df.info()"
   ]
  },
  {
   "cell_type": "markdown",
   "metadata": {},
   "source": [
    "#### Columna 'Rating'"
   ]
  },
  {
   "cell_type": "markdown",
   "metadata": {},
   "source": [
    "Los valores ausentes se van a reemplazar por 'unknown'dado que no podemos definir un rating para cada juego porque depende del contenido del mismo, puede haber contenido violento, grosero, etc.. y por eso no podemos definir si es o no apto para determinada edad, por esa razon, dejaremos 'unknown'"
   ]
  },
  {
   "cell_type": "code",
   "execution_count": 101,
   "metadata": {},
   "outputs": [
    {
     "data": {
      "text/plain": [
       "array(['E', nan, 'M', 'T', 'E10+', 'K-A', 'AO', 'EC', 'RP'], dtype=object)"
      ]
     },
     "execution_count": 101,
     "metadata": {},
     "output_type": "execute_result"
    }
   ],
   "source": [
    "df['rating'].unique()"
   ]
  },
  {
   "cell_type": "code",
   "execution_count": 102,
   "metadata": {},
   "outputs": [
    {
     "data": {
      "text/plain": [
       "0              E\n",
       "1        unknown\n",
       "2              E\n",
       "3              E\n",
       "4        unknown\n",
       "          ...   \n",
       "16710    unknown\n",
       "16711    unknown\n",
       "16712    unknown\n",
       "16713    unknown\n",
       "16714    unknown\n",
       "Name: rating, Length: 16715, dtype: object"
      ]
     },
     "execution_count": 102,
     "metadata": {},
     "output_type": "execute_result"
    }
   ],
   "source": [
    "df['rating']=df['rating'].fillna('unknown')\n",
    "\n",
    "\n",
    "df['rating']"
   ]
  },
  {
   "cell_type": "code",
   "execution_count": 103,
   "metadata": {},
   "outputs": [
    {
     "data": {
      "text/html": [
       "<div>\n",
       "<style scoped>\n",
       "    .dataframe tbody tr th:only-of-type {\n",
       "        vertical-align: middle;\n",
       "    }\n",
       "\n",
       "    .dataframe tbody tr th {\n",
       "        vertical-align: top;\n",
       "    }\n",
       "\n",
       "    .dataframe thead th {\n",
       "        text-align: right;\n",
       "    }\n",
       "</style>\n",
       "<table border=\"1\" class=\"dataframe\">\n",
       "  <thead>\n",
       "    <tr style=\"text-align: right;\">\n",
       "      <th></th>\n",
       "      <th>name</th>\n",
       "      <th>platform</th>\n",
       "      <th>year_of_release</th>\n",
       "      <th>genre</th>\n",
       "      <th>na_sales</th>\n",
       "      <th>eu_sales</th>\n",
       "      <th>jp_sales</th>\n",
       "      <th>other_sales</th>\n",
       "      <th>critic_score</th>\n",
       "      <th>user_score</th>\n",
       "      <th>rating</th>\n",
       "    </tr>\n",
       "  </thead>\n",
       "  <tbody>\n",
       "    <tr>\n",
       "      <th>2594</th>\n",
       "      <td>WCW Mayhem</td>\n",
       "      <td>N64</td>\n",
       "      <td>1999</td>\n",
       "      <td>Fighting</td>\n",
       "      <td>0.63</td>\n",
       "      <td>0.15</td>\n",
       "      <td>0.00</td>\n",
       "      <td>0.01</td>\n",
       "      <td>71.0</td>\n",
       "      <td>7.5</td>\n",
       "      <td>unknown</td>\n",
       "    </tr>\n",
       "    <tr>\n",
       "      <th>2646</th>\n",
       "      <td>MadWorld</td>\n",
       "      <td>Wii</td>\n",
       "      <td>2009</td>\n",
       "      <td>Action</td>\n",
       "      <td>0.45</td>\n",
       "      <td>0.23</td>\n",
       "      <td>0.02</td>\n",
       "      <td>0.07</td>\n",
       "      <td>81.0</td>\n",
       "      <td>8.6</td>\n",
       "      <td>M</td>\n",
       "    </tr>\n",
       "    <tr>\n",
       "      <th>3817</th>\n",
       "      <td>Tales of Symphonia</td>\n",
       "      <td>PS3</td>\n",
       "      <td>2013</td>\n",
       "      <td>Role-Playing</td>\n",
       "      <td>0.21</td>\n",
       "      <td>0.12</td>\n",
       "      <td>0.13</td>\n",
       "      <td>0.07</td>\n",
       "      <td>71.0</td>\n",
       "      <td>7.2</td>\n",
       "      <td>T</td>\n",
       "    </tr>\n",
       "    <tr>\n",
       "      <th>7142</th>\n",
       "      <td>Hatsune Miku: Project Mirai 2</td>\n",
       "      <td>3DS</td>\n",
       "      <td>2013</td>\n",
       "      <td>Action</td>\n",
       "      <td>0.00</td>\n",
       "      <td>0.00</td>\n",
       "      <td>0.22</td>\n",
       "      <td>0.00</td>\n",
       "      <td>71.0</td>\n",
       "      <td>7.5</td>\n",
       "      <td>unknown</td>\n",
       "    </tr>\n",
       "    <tr>\n",
       "      <th>8569</th>\n",
       "      <td>SimEarth: The Living Planet</td>\n",
       "      <td>SNES</td>\n",
       "      <td>1991</td>\n",
       "      <td>Simulation</td>\n",
       "      <td>0.00</td>\n",
       "      <td>0.00</td>\n",
       "      <td>0.16</td>\n",
       "      <td>0.00</td>\n",
       "      <td>71.0</td>\n",
       "      <td>7.5</td>\n",
       "      <td>unknown</td>\n",
       "    </tr>\n",
       "    <tr>\n",
       "      <th>8853</th>\n",
       "      <td>Burger Island</td>\n",
       "      <td>Wii</td>\n",
       "      <td>2009</td>\n",
       "      <td>Action</td>\n",
       "      <td>0.14</td>\n",
       "      <td>0.00</td>\n",
       "      <td>0.00</td>\n",
       "      <td>0.01</td>\n",
       "      <td>71.0</td>\n",
       "      <td>7.5</td>\n",
       "      <td>E</td>\n",
       "    </tr>\n",
       "    <tr>\n",
       "      <th>5231</th>\n",
       "      <td>Tiger Woods PGA Tour 09</td>\n",
       "      <td>PSP</td>\n",
       "      <td>2008</td>\n",
       "      <td>Sports</td>\n",
       "      <td>0.07</td>\n",
       "      <td>0.18</td>\n",
       "      <td>0.00</td>\n",
       "      <td>0.10</td>\n",
       "      <td>53.0</td>\n",
       "      <td>5.5</td>\n",
       "      <td>E</td>\n",
       "    </tr>\n",
       "    <tr>\n",
       "      <th>14267</th>\n",
       "      <td>Medabots 9: Metabee / Rokusho</td>\n",
       "      <td>3DS</td>\n",
       "      <td>2015</td>\n",
       "      <td>Role-Playing</td>\n",
       "      <td>0.00</td>\n",
       "      <td>0.00</td>\n",
       "      <td>0.03</td>\n",
       "      <td>0.00</td>\n",
       "      <td>71.0</td>\n",
       "      <td>7.5</td>\n",
       "      <td>unknown</td>\n",
       "    </tr>\n",
       "    <tr>\n",
       "      <th>11824</th>\n",
       "      <td>World Party Games</td>\n",
       "      <td>Wii</td>\n",
       "      <td>2009</td>\n",
       "      <td>Misc</td>\n",
       "      <td>0.07</td>\n",
       "      <td>0.00</td>\n",
       "      <td>0.00</td>\n",
       "      <td>0.01</td>\n",
       "      <td>71.0</td>\n",
       "      <td>7.5</td>\n",
       "      <td>E</td>\n",
       "    </tr>\n",
       "    <tr>\n",
       "      <th>6706</th>\n",
       "      <td>Kung Fu Panda 2</td>\n",
       "      <td>X360</td>\n",
       "      <td>2011</td>\n",
       "      <td>Action</td>\n",
       "      <td>0.16</td>\n",
       "      <td>0.06</td>\n",
       "      <td>0.00</td>\n",
       "      <td>0.02</td>\n",
       "      <td>71.0</td>\n",
       "      <td>7.5</td>\n",
       "      <td>unknown</td>\n",
       "    </tr>\n",
       "  </tbody>\n",
       "</table>\n",
       "</div>"
      ],
      "text/plain": [
       "                                name platform  year_of_release         genre  \\\n",
       "2594                      WCW Mayhem      N64             1999      Fighting   \n",
       "2646                        MadWorld      Wii             2009        Action   \n",
       "3817              Tales of Symphonia      PS3             2013  Role-Playing   \n",
       "7142   Hatsune Miku: Project Mirai 2      3DS             2013        Action   \n",
       "8569     SimEarth: The Living Planet     SNES             1991    Simulation   \n",
       "8853                   Burger Island      Wii             2009        Action   \n",
       "5231         Tiger Woods PGA Tour 09      PSP             2008        Sports   \n",
       "14267  Medabots 9: Metabee / Rokusho      3DS             2015  Role-Playing   \n",
       "11824              World Party Games      Wii             2009          Misc   \n",
       "6706                 Kung Fu Panda 2     X360             2011        Action   \n",
       "\n",
       "       na_sales  eu_sales  jp_sales  other_sales  critic_score  user_score  \\\n",
       "2594       0.63      0.15      0.00         0.01          71.0         7.5   \n",
       "2646       0.45      0.23      0.02         0.07          81.0         8.6   \n",
       "3817       0.21      0.12      0.13         0.07          71.0         7.2   \n",
       "7142       0.00      0.00      0.22         0.00          71.0         7.5   \n",
       "8569       0.00      0.00      0.16         0.00          71.0         7.5   \n",
       "8853       0.14      0.00      0.00         0.01          71.0         7.5   \n",
       "5231       0.07      0.18      0.00         0.10          53.0         5.5   \n",
       "14267      0.00      0.00      0.03         0.00          71.0         7.5   \n",
       "11824      0.07      0.00      0.00         0.01          71.0         7.5   \n",
       "6706       0.16      0.06      0.00         0.02          71.0         7.5   \n",
       "\n",
       "        rating  \n",
       "2594   unknown  \n",
       "2646         M  \n",
       "3817         T  \n",
       "7142   unknown  \n",
       "8569   unknown  \n",
       "8853         E  \n",
       "5231         E  \n",
       "14267  unknown  \n",
       "11824        E  \n",
       "6706   unknown  "
      ]
     },
     "execution_count": 103,
     "metadata": {},
     "output_type": "execute_result"
    }
   ],
   "source": [
    "df.sample(10)"
   ]
  },
  {
   "cell_type": "markdown",
   "metadata": {},
   "source": [
    "### Ingenieria de caracteristicas"
   ]
  },
  {
   "cell_type": "markdown",
   "metadata": {},
   "source": [
    "Se va a crear una nueva columna que representa el total de lass ventas para cada video juego, de esta manera, se sumaran las ventas de las 3 regiones.\n"
   ]
  },
  {
   "cell_type": "code",
   "execution_count": 104,
   "metadata": {},
   "outputs": [
    {
     "data": {
      "text/html": [
       "<div>\n",
       "<style scoped>\n",
       "    .dataframe tbody tr th:only-of-type {\n",
       "        vertical-align: middle;\n",
       "    }\n",
       "\n",
       "    .dataframe tbody tr th {\n",
       "        vertical-align: top;\n",
       "    }\n",
       "\n",
       "    .dataframe thead th {\n",
       "        text-align: right;\n",
       "    }\n",
       "</style>\n",
       "<table border=\"1\" class=\"dataframe\">\n",
       "  <thead>\n",
       "    <tr style=\"text-align: right;\">\n",
       "      <th></th>\n",
       "      <th>name</th>\n",
       "      <th>platform</th>\n",
       "      <th>year_of_release</th>\n",
       "      <th>genre</th>\n",
       "      <th>na_sales</th>\n",
       "      <th>eu_sales</th>\n",
       "      <th>jp_sales</th>\n",
       "      <th>other_sales</th>\n",
       "      <th>critic_score</th>\n",
       "      <th>user_score</th>\n",
       "      <th>rating</th>\n",
       "      <th>total_purchase</th>\n",
       "    </tr>\n",
       "  </thead>\n",
       "  <tbody>\n",
       "    <tr>\n",
       "      <th>0</th>\n",
       "      <td>Wii Sports</td>\n",
       "      <td>Wii</td>\n",
       "      <td>2006</td>\n",
       "      <td>Sports</td>\n",
       "      <td>41.36</td>\n",
       "      <td>28.96</td>\n",
       "      <td>3.77</td>\n",
       "      <td>8.45</td>\n",
       "      <td>76.0</td>\n",
       "      <td>8.0</td>\n",
       "      <td>E</td>\n",
       "      <td>82.54</td>\n",
       "    </tr>\n",
       "    <tr>\n",
       "      <th>1</th>\n",
       "      <td>Super Mario Bros.</td>\n",
       "      <td>NES</td>\n",
       "      <td>1985</td>\n",
       "      <td>Platform</td>\n",
       "      <td>29.08</td>\n",
       "      <td>3.58</td>\n",
       "      <td>6.81</td>\n",
       "      <td>0.77</td>\n",
       "      <td>71.0</td>\n",
       "      <td>7.5</td>\n",
       "      <td>unknown</td>\n",
       "      <td>40.24</td>\n",
       "    </tr>\n",
       "    <tr>\n",
       "      <th>2</th>\n",
       "      <td>Mario Kart Wii</td>\n",
       "      <td>Wii</td>\n",
       "      <td>2008</td>\n",
       "      <td>Racing</td>\n",
       "      <td>15.68</td>\n",
       "      <td>12.76</td>\n",
       "      <td>3.79</td>\n",
       "      <td>3.29</td>\n",
       "      <td>82.0</td>\n",
       "      <td>8.3</td>\n",
       "      <td>E</td>\n",
       "      <td>35.52</td>\n",
       "    </tr>\n",
       "    <tr>\n",
       "      <th>3</th>\n",
       "      <td>Wii Sports Resort</td>\n",
       "      <td>Wii</td>\n",
       "      <td>2009</td>\n",
       "      <td>Sports</td>\n",
       "      <td>15.61</td>\n",
       "      <td>10.93</td>\n",
       "      <td>3.28</td>\n",
       "      <td>2.95</td>\n",
       "      <td>80.0</td>\n",
       "      <td>8.0</td>\n",
       "      <td>E</td>\n",
       "      <td>32.77</td>\n",
       "    </tr>\n",
       "    <tr>\n",
       "      <th>4</th>\n",
       "      <td>Pokemon Red/Pokemon Blue</td>\n",
       "      <td>GB</td>\n",
       "      <td>1996</td>\n",
       "      <td>Role-Playing</td>\n",
       "      <td>11.27</td>\n",
       "      <td>8.89</td>\n",
       "      <td>10.22</td>\n",
       "      <td>1.00</td>\n",
       "      <td>71.0</td>\n",
       "      <td>7.5</td>\n",
       "      <td>unknown</td>\n",
       "      <td>31.38</td>\n",
       "    </tr>\n",
       "  </tbody>\n",
       "</table>\n",
       "</div>"
      ],
      "text/plain": [
       "                       name platform  year_of_release         genre  na_sales  \\\n",
       "0                Wii Sports      Wii             2006        Sports     41.36   \n",
       "1         Super Mario Bros.      NES             1985      Platform     29.08   \n",
       "2            Mario Kart Wii      Wii             2008        Racing     15.68   \n",
       "3         Wii Sports Resort      Wii             2009        Sports     15.61   \n",
       "4  Pokemon Red/Pokemon Blue       GB             1996  Role-Playing     11.27   \n",
       "\n",
       "   eu_sales  jp_sales  other_sales  critic_score  user_score   rating  \\\n",
       "0     28.96      3.77         8.45          76.0         8.0        E   \n",
       "1      3.58      6.81         0.77          71.0         7.5  unknown   \n",
       "2     12.76      3.79         3.29          82.0         8.3        E   \n",
       "3     10.93      3.28         2.95          80.0         8.0        E   \n",
       "4      8.89     10.22         1.00          71.0         7.5  unknown   \n",
       "\n",
       "   total_purchase  \n",
       "0           82.54  \n",
       "1           40.24  \n",
       "2           35.52  \n",
       "3           32.77  \n",
       "4           31.38  "
      ]
     },
     "execution_count": 104,
     "metadata": {},
     "output_type": "execute_result"
    }
   ],
   "source": [
    "df['total_purchase']=df['na_sales']+df['eu_sales']+df['jp_sales']+df['other_sales']\n",
    "\n",
    "df.head()"
   ]
  },
  {
   "cell_type": "markdown",
   "metadata": {},
   "source": [
    "## Análisis de los Datos"
   ]
  },
  {
   "cell_type": "markdown",
   "metadata": {},
   "source": [
    "### Lanzamiento de los videojuegos por año"
   ]
  },
  {
   "cell_type": "code",
   "execution_count": 105,
   "metadata": {},
   "outputs": [
    {
     "data": {
      "text/html": [
       "<div>\n",
       "<style scoped>\n",
       "    .dataframe tbody tr th:only-of-type {\n",
       "        vertical-align: middle;\n",
       "    }\n",
       "\n",
       "    .dataframe tbody tr th {\n",
       "        vertical-align: top;\n",
       "    }\n",
       "\n",
       "    .dataframe thead th {\n",
       "        text-align: right;\n",
       "    }\n",
       "</style>\n",
       "<table border=\"1\" class=\"dataframe\">\n",
       "  <thead>\n",
       "    <tr style=\"text-align: right;\">\n",
       "      <th></th>\n",
       "      <th>year_of_release</th>\n",
       "      <th>number_of_games</th>\n",
       "    </tr>\n",
       "  </thead>\n",
       "  <tbody>\n",
       "    <tr>\n",
       "      <th>0</th>\n",
       "      <td>0</td>\n",
       "      <td>269</td>\n",
       "    </tr>\n",
       "    <tr>\n",
       "      <th>1</th>\n",
       "      <td>1980</td>\n",
       "      <td>9</td>\n",
       "    </tr>\n",
       "    <tr>\n",
       "      <th>2</th>\n",
       "      <td>1981</td>\n",
       "      <td>46</td>\n",
       "    </tr>\n",
       "    <tr>\n",
       "      <th>3</th>\n",
       "      <td>1982</td>\n",
       "      <td>36</td>\n",
       "    </tr>\n",
       "    <tr>\n",
       "      <th>4</th>\n",
       "      <td>1983</td>\n",
       "      <td>17</td>\n",
       "    </tr>\n",
       "    <tr>\n",
       "      <th>5</th>\n",
       "      <td>1984</td>\n",
       "      <td>14</td>\n",
       "    </tr>\n",
       "    <tr>\n",
       "      <th>6</th>\n",
       "      <td>1985</td>\n",
       "      <td>14</td>\n",
       "    </tr>\n",
       "    <tr>\n",
       "      <th>7</th>\n",
       "      <td>1986</td>\n",
       "      <td>21</td>\n",
       "    </tr>\n",
       "    <tr>\n",
       "      <th>8</th>\n",
       "      <td>1987</td>\n",
       "      <td>16</td>\n",
       "    </tr>\n",
       "    <tr>\n",
       "      <th>9</th>\n",
       "      <td>1988</td>\n",
       "      <td>15</td>\n",
       "    </tr>\n",
       "    <tr>\n",
       "      <th>10</th>\n",
       "      <td>1989</td>\n",
       "      <td>17</td>\n",
       "    </tr>\n",
       "    <tr>\n",
       "      <th>11</th>\n",
       "      <td>1990</td>\n",
       "      <td>16</td>\n",
       "    </tr>\n",
       "    <tr>\n",
       "      <th>12</th>\n",
       "      <td>1991</td>\n",
       "      <td>41</td>\n",
       "    </tr>\n",
       "    <tr>\n",
       "      <th>13</th>\n",
       "      <td>1992</td>\n",
       "      <td>43</td>\n",
       "    </tr>\n",
       "    <tr>\n",
       "      <th>14</th>\n",
       "      <td>1993</td>\n",
       "      <td>60</td>\n",
       "    </tr>\n",
       "    <tr>\n",
       "      <th>15</th>\n",
       "      <td>1994</td>\n",
       "      <td>121</td>\n",
       "    </tr>\n",
       "    <tr>\n",
       "      <th>16</th>\n",
       "      <td>1995</td>\n",
       "      <td>219</td>\n",
       "    </tr>\n",
       "    <tr>\n",
       "      <th>17</th>\n",
       "      <td>1996</td>\n",
       "      <td>263</td>\n",
       "    </tr>\n",
       "    <tr>\n",
       "      <th>18</th>\n",
       "      <td>1997</td>\n",
       "      <td>289</td>\n",
       "    </tr>\n",
       "    <tr>\n",
       "      <th>19</th>\n",
       "      <td>1998</td>\n",
       "      <td>379</td>\n",
       "    </tr>\n",
       "    <tr>\n",
       "      <th>20</th>\n",
       "      <td>1999</td>\n",
       "      <td>338</td>\n",
       "    </tr>\n",
       "    <tr>\n",
       "      <th>21</th>\n",
       "      <td>2000</td>\n",
       "      <td>350</td>\n",
       "    </tr>\n",
       "    <tr>\n",
       "      <th>22</th>\n",
       "      <td>2001</td>\n",
       "      <td>482</td>\n",
       "    </tr>\n",
       "    <tr>\n",
       "      <th>23</th>\n",
       "      <td>2002</td>\n",
       "      <td>829</td>\n",
       "    </tr>\n",
       "    <tr>\n",
       "      <th>24</th>\n",
       "      <td>2003</td>\n",
       "      <td>775</td>\n",
       "    </tr>\n",
       "    <tr>\n",
       "      <th>25</th>\n",
       "      <td>2004</td>\n",
       "      <td>762</td>\n",
       "    </tr>\n",
       "    <tr>\n",
       "      <th>26</th>\n",
       "      <td>2005</td>\n",
       "      <td>939</td>\n",
       "    </tr>\n",
       "    <tr>\n",
       "      <th>27</th>\n",
       "      <td>2006</td>\n",
       "      <td>1006</td>\n",
       "    </tr>\n",
       "    <tr>\n",
       "      <th>28</th>\n",
       "      <td>2007</td>\n",
       "      <td>1197</td>\n",
       "    </tr>\n",
       "    <tr>\n",
       "      <th>29</th>\n",
       "      <td>2008</td>\n",
       "      <td>1427</td>\n",
       "    </tr>\n",
       "    <tr>\n",
       "      <th>30</th>\n",
       "      <td>2009</td>\n",
       "      <td>1426</td>\n",
       "    </tr>\n",
       "    <tr>\n",
       "      <th>31</th>\n",
       "      <td>2010</td>\n",
       "      <td>1255</td>\n",
       "    </tr>\n",
       "    <tr>\n",
       "      <th>32</th>\n",
       "      <td>2011</td>\n",
       "      <td>1136</td>\n",
       "    </tr>\n",
       "    <tr>\n",
       "      <th>33</th>\n",
       "      <td>2012</td>\n",
       "      <td>653</td>\n",
       "    </tr>\n",
       "    <tr>\n",
       "      <th>34</th>\n",
       "      <td>2013</td>\n",
       "      <td>544</td>\n",
       "    </tr>\n",
       "    <tr>\n",
       "      <th>35</th>\n",
       "      <td>2014</td>\n",
       "      <td>581</td>\n",
       "    </tr>\n",
       "    <tr>\n",
       "      <th>36</th>\n",
       "      <td>2015</td>\n",
       "      <td>606</td>\n",
       "    </tr>\n",
       "    <tr>\n",
       "      <th>37</th>\n",
       "      <td>2016</td>\n",
       "      <td>502</td>\n",
       "    </tr>\n",
       "  </tbody>\n",
       "</table>\n",
       "</div>"
      ],
      "text/plain": [
       "    year_of_release  number_of_games\n",
       "0                 0              269\n",
       "1              1980                9\n",
       "2              1981               46\n",
       "3              1982               36\n",
       "4              1983               17\n",
       "5              1984               14\n",
       "6              1985               14\n",
       "7              1986               21\n",
       "8              1987               16\n",
       "9              1988               15\n",
       "10             1989               17\n",
       "11             1990               16\n",
       "12             1991               41\n",
       "13             1992               43\n",
       "14             1993               60\n",
       "15             1994              121\n",
       "16             1995              219\n",
       "17             1996              263\n",
       "18             1997              289\n",
       "19             1998              379\n",
       "20             1999              338\n",
       "21             2000              350\n",
       "22             2001              482\n",
       "23             2002              829\n",
       "24             2003              775\n",
       "25             2004              762\n",
       "26             2005              939\n",
       "27             2006             1006\n",
       "28             2007             1197\n",
       "29             2008             1427\n",
       "30             2009             1426\n",
       "31             2010             1255\n",
       "32             2011             1136\n",
       "33             2012              653\n",
       "34             2013              544\n",
       "35             2014              581\n",
       "36             2015              606\n",
       "37             2016              502"
      ]
     },
     "execution_count": 105,
     "metadata": {},
     "output_type": "execute_result"
    }
   ],
   "source": [
    "df_year=df.groupby('year_of_release')['name'].count().reset_index(name='number_of_games')\n",
    "\n",
    "df_year"
   ]
  },
  {
   "cell_type": "code",
   "execution_count": 106,
   "metadata": {},
   "outputs": [
    {
     "data": {
      "image/png": "[encoded data removed]",
      "text/plain": [
       "<Figure size 640x480 with 1 Axes>"
      ]
     },
     "metadata": {},
     "output_type": "display_data"
    }
   ],
   "source": [
    "plt.bar(df_year['year_of_release'],df_year['number_of_games'], color='#a98467', label='Años')\n",
    "\n",
    "plt.xlim(1980, 2016)\n",
    "plt.xlabel(\"Año de lanzamiento\")\n",
    "plt.ylabel(\"Numero de videojuegos\")\n",
    "plt.title(\"Numero de videojuegos por año\")\n",
    "plt.legend()\n",
    "plt.show()"
   ]
  },
  {
   "cell_type": "markdown",
   "metadata": {},
   "source": [
    "En la grafica anterior, se observa que los videojuegos empiezan a tener mas popularidad y a lanzar mas videojuegos hacia el año 2000, con un auge entre el 2005 y 2010"
   ]
  },
  {
   "cell_type": "markdown",
   "metadata": {},
   "source": [
    "### Total de venta por año"
   ]
  },
  {
   "cell_type": "markdown",
   "metadata": {},
   "source": [
    "Queremos identificar si el comportamiento de la venta total por año tiene el mismo comportamiento del grafico anterior, con esto, podemos limitar mas los datos y poder buscar un patron de exito mas certero."
   ]
  },
  {
   "cell_type": "code",
   "execution_count": 107,
   "metadata": {},
   "outputs": [
    {
     "data": {
      "text/html": [
       "<div>\n",
       "<style scoped>\n",
       "    .dataframe tbody tr th:only-of-type {\n",
       "        vertical-align: middle;\n",
       "    }\n",
       "\n",
       "    .dataframe tbody tr th {\n",
       "        vertical-align: top;\n",
       "    }\n",
       "\n",
       "    .dataframe thead th {\n",
       "        text-align: right;\n",
       "    }\n",
       "</style>\n",
       "<table border=\"1\" class=\"dataframe\">\n",
       "  <thead>\n",
       "    <tr style=\"text-align: right;\">\n",
       "      <th></th>\n",
       "      <th>year_of_release</th>\n",
       "      <th>purchase_year</th>\n",
       "    </tr>\n",
       "  </thead>\n",
       "  <tbody>\n",
       "    <tr>\n",
       "      <th>0</th>\n",
       "      <td>0</td>\n",
       "      <td>98.92</td>\n",
       "    </tr>\n",
       "    <tr>\n",
       "      <th>1</th>\n",
       "      <td>1980</td>\n",
       "      <td>11.38</td>\n",
       "    </tr>\n",
       "    <tr>\n",
       "      <th>2</th>\n",
       "      <td>1981</td>\n",
       "      <td>35.68</td>\n",
       "    </tr>\n",
       "    <tr>\n",
       "      <th>3</th>\n",
       "      <td>1982</td>\n",
       "      <td>28.88</td>\n",
       "    </tr>\n",
       "    <tr>\n",
       "      <th>4</th>\n",
       "      <td>1983</td>\n",
       "      <td>16.80</td>\n",
       "    </tr>\n",
       "    <tr>\n",
       "      <th>5</th>\n",
       "      <td>1984</td>\n",
       "      <td>50.35</td>\n",
       "    </tr>\n",
       "    <tr>\n",
       "      <th>6</th>\n",
       "      <td>1985</td>\n",
       "      <td>53.95</td>\n",
       "    </tr>\n",
       "    <tr>\n",
       "      <th>7</th>\n",
       "      <td>1986</td>\n",
       "      <td>37.08</td>\n",
       "    </tr>\n",
       "    <tr>\n",
       "      <th>8</th>\n",
       "      <td>1987</td>\n",
       "      <td>21.70</td>\n",
       "    </tr>\n",
       "    <tr>\n",
       "      <th>9</th>\n",
       "      <td>1988</td>\n",
       "      <td>47.21</td>\n",
       "    </tr>\n",
       "    <tr>\n",
       "      <th>10</th>\n",
       "      <td>1989</td>\n",
       "      <td>73.45</td>\n",
       "    </tr>\n",
       "    <tr>\n",
       "      <th>11</th>\n",
       "      <td>1990</td>\n",
       "      <td>49.37</td>\n",
       "    </tr>\n",
       "    <tr>\n",
       "      <th>12</th>\n",
       "      <td>1991</td>\n",
       "      <td>32.23</td>\n",
       "    </tr>\n",
       "    <tr>\n",
       "      <th>13</th>\n",
       "      <td>1992</td>\n",
       "      <td>76.16</td>\n",
       "    </tr>\n",
       "    <tr>\n",
       "      <th>14</th>\n",
       "      <td>1993</td>\n",
       "      <td>48.41</td>\n",
       "    </tr>\n",
       "    <tr>\n",
       "      <th>15</th>\n",
       "      <td>1994</td>\n",
       "      <td>79.23</td>\n",
       "    </tr>\n",
       "    <tr>\n",
       "      <th>16</th>\n",
       "      <td>1995</td>\n",
       "      <td>88.12</td>\n",
       "    </tr>\n",
       "    <tr>\n",
       "      <th>17</th>\n",
       "      <td>1996</td>\n",
       "      <td>199.15</td>\n",
       "    </tr>\n",
       "    <tr>\n",
       "      <th>18</th>\n",
       "      <td>1997</td>\n",
       "      <td>201.07</td>\n",
       "    </tr>\n",
       "    <tr>\n",
       "      <th>19</th>\n",
       "      <td>1998</td>\n",
       "      <td>256.31</td>\n",
       "    </tr>\n",
       "    <tr>\n",
       "      <th>20</th>\n",
       "      <td>1999</td>\n",
       "      <td>251.11</td>\n",
       "    </tr>\n",
       "    <tr>\n",
       "      <th>21</th>\n",
       "      <td>2000</td>\n",
       "      <td>201.66</td>\n",
       "    </tr>\n",
       "    <tr>\n",
       "      <th>22</th>\n",
       "      <td>2001</td>\n",
       "      <td>331.46</td>\n",
       "    </tr>\n",
       "    <tr>\n",
       "      <th>23</th>\n",
       "      <td>2002</td>\n",
       "      <td>394.97</td>\n",
       "    </tr>\n",
       "    <tr>\n",
       "      <th>24</th>\n",
       "      <td>2003</td>\n",
       "      <td>357.54</td>\n",
       "    </tr>\n",
       "    <tr>\n",
       "      <th>25</th>\n",
       "      <td>2004</td>\n",
       "      <td>418.68</td>\n",
       "    </tr>\n",
       "    <tr>\n",
       "      <th>26</th>\n",
       "      <td>2005</td>\n",
       "      <td>457.82</td>\n",
       "    </tr>\n",
       "    <tr>\n",
       "      <th>27</th>\n",
       "      <td>2006</td>\n",
       "      <td>517.71</td>\n",
       "    </tr>\n",
       "    <tr>\n",
       "      <th>28</th>\n",
       "      <td>2007</td>\n",
       "      <td>604.75</td>\n",
       "    </tr>\n",
       "    <tr>\n",
       "      <th>29</th>\n",
       "      <td>2008</td>\n",
       "      <td>671.50</td>\n",
       "    </tr>\n",
       "    <tr>\n",
       "      <th>30</th>\n",
       "      <td>2009</td>\n",
       "      <td>658.82</td>\n",
       "    </tr>\n",
       "    <tr>\n",
       "      <th>31</th>\n",
       "      <td>2010</td>\n",
       "      <td>590.13</td>\n",
       "    </tr>\n",
       "    <tr>\n",
       "      <th>32</th>\n",
       "      <td>2011</td>\n",
       "      <td>507.58</td>\n",
       "    </tr>\n",
       "    <tr>\n",
       "      <th>33</th>\n",
       "      <td>2012</td>\n",
       "      <td>355.84</td>\n",
       "    </tr>\n",
       "    <tr>\n",
       "      <th>34</th>\n",
       "      <td>2013</td>\n",
       "      <td>361.24</td>\n",
       "    </tr>\n",
       "    <tr>\n",
       "      <th>35</th>\n",
       "      <td>2014</td>\n",
       "      <td>331.53</td>\n",
       "    </tr>\n",
       "    <tr>\n",
       "      <th>36</th>\n",
       "      <td>2015</td>\n",
       "      <td>267.98</td>\n",
       "    </tr>\n",
       "    <tr>\n",
       "      <th>37</th>\n",
       "      <td>2016</td>\n",
       "      <td>129.94</td>\n",
       "    </tr>\n",
       "  </tbody>\n",
       "</table>\n",
       "</div>"
      ],
      "text/plain": [
       "    year_of_release  purchase_year\n",
       "0                 0          98.92\n",
       "1              1980          11.38\n",
       "2              1981          35.68\n",
       "3              1982          28.88\n",
       "4              1983          16.80\n",
       "5              1984          50.35\n",
       "6              1985          53.95\n",
       "7              1986          37.08\n",
       "8              1987          21.70\n",
       "9              1988          47.21\n",
       "10             1989          73.45\n",
       "11             1990          49.37\n",
       "12             1991          32.23\n",
       "13             1992          76.16\n",
       "14             1993          48.41\n",
       "15             1994          79.23\n",
       "16             1995          88.12\n",
       "17             1996         199.15\n",
       "18             1997         201.07\n",
       "19             1998         256.31\n",
       "20             1999         251.11\n",
       "21             2000         201.66\n",
       "22             2001         331.46\n",
       "23             2002         394.97\n",
       "24             2003         357.54\n",
       "25             2004         418.68\n",
       "26             2005         457.82\n",
       "27             2006         517.71\n",
       "28             2007         604.75\n",
       "29             2008         671.50\n",
       "30             2009         658.82\n",
       "31             2010         590.13\n",
       "32             2011         507.58\n",
       "33             2012         355.84\n",
       "34             2013         361.24\n",
       "35             2014         331.53\n",
       "36             2015         267.98\n",
       "37             2016         129.94"
      ]
     },
     "execution_count": 107,
     "metadata": {},
     "output_type": "execute_result"
    }
   ],
   "source": [
    "df_purchase_year=df.groupby('year_of_release')['total_purchase'].sum().reset_index(name='purchase_year')\n",
    "\n",
    "df_purchase_year"
   ]
  },
  {
   "cell_type": "code",
   "execution_count": 108,
   "metadata": {},
   "outputs": [
    {
     "data": {
      "image/png": "[encoded data removed]",
      "text/plain": [
       "<Figure size 640x480 with 1 Axes>"
      ]
     },
     "metadata": {},
     "output_type": "display_data"
    }
   ],
   "source": [
    "plt.bar(df_purchase_year['year_of_release'],df_purchase_year['purchase_year'], color='#797d62', label='Años')\n",
    "\n",
    "plt.xlim(1980, 2016)\n",
    "plt.xlabel(\"Año de lanzamiento\")\n",
    "plt.ylabel(\"Total de ventas\")\n",
    "plt.title(\"Total de ventas por año\")\n",
    "plt.legend()\n",
    "plt.show()"
   ]
  },
  {
   "cell_type": "markdown",
   "metadata": {},
   "source": [
    "Como era de suponer, el comportamiento en terminos de ventas es muy parecido al de cantidad de videojuegos lanzados por año. De esta forma, para tener un patron mas acertado, solamente vamos a tener en cuenta de aqui en adelante los datos recopilados desde el año 2000 en adelante"
   ]
  },
  {
   "cell_type": "markdown",
   "metadata": {},
   "source": [
    "### Plataformas que mas venden"
   ]
  },
  {
   "cell_type": "code",
   "execution_count": 109,
   "metadata": {},
   "outputs": [
    {
     "data": {
      "text/html": [
       "<div>\n",
       "<style scoped>\n",
       "    .dataframe tbody tr th:only-of-type {\n",
       "        vertical-align: middle;\n",
       "    }\n",
       "\n",
       "    .dataframe tbody tr th {\n",
       "        vertical-align: top;\n",
       "    }\n",
       "\n",
       "    .dataframe thead th {\n",
       "        text-align: right;\n",
       "    }\n",
       "</style>\n",
       "<table border=\"1\" class=\"dataframe\">\n",
       "  <thead>\n",
       "    <tr style=\"text-align: right;\">\n",
       "      <th></th>\n",
       "      <th>name</th>\n",
       "      <th>platform</th>\n",
       "      <th>year_of_release</th>\n",
       "      <th>genre</th>\n",
       "      <th>na_sales</th>\n",
       "      <th>eu_sales</th>\n",
       "      <th>jp_sales</th>\n",
       "      <th>other_sales</th>\n",
       "      <th>critic_score</th>\n",
       "      <th>user_score</th>\n",
       "      <th>rating</th>\n",
       "      <th>total_purchase</th>\n",
       "    </tr>\n",
       "  </thead>\n",
       "  <tbody>\n",
       "    <tr>\n",
       "      <th>0</th>\n",
       "      <td>Wii Sports</td>\n",
       "      <td>Wii</td>\n",
       "      <td>2006</td>\n",
       "      <td>Sports</td>\n",
       "      <td>41.36</td>\n",
       "      <td>28.96</td>\n",
       "      <td>3.77</td>\n",
       "      <td>8.45</td>\n",
       "      <td>76.0</td>\n",
       "      <td>8.0</td>\n",
       "      <td>E</td>\n",
       "      <td>82.54</td>\n",
       "    </tr>\n",
       "    <tr>\n",
       "      <th>2</th>\n",
       "      <td>Mario Kart Wii</td>\n",
       "      <td>Wii</td>\n",
       "      <td>2008</td>\n",
       "      <td>Racing</td>\n",
       "      <td>15.68</td>\n",
       "      <td>12.76</td>\n",
       "      <td>3.79</td>\n",
       "      <td>3.29</td>\n",
       "      <td>82.0</td>\n",
       "      <td>8.3</td>\n",
       "      <td>E</td>\n",
       "      <td>35.52</td>\n",
       "    </tr>\n",
       "    <tr>\n",
       "      <th>3</th>\n",
       "      <td>Wii Sports Resort</td>\n",
       "      <td>Wii</td>\n",
       "      <td>2009</td>\n",
       "      <td>Sports</td>\n",
       "      <td>15.61</td>\n",
       "      <td>10.93</td>\n",
       "      <td>3.28</td>\n",
       "      <td>2.95</td>\n",
       "      <td>80.0</td>\n",
       "      <td>8.0</td>\n",
       "      <td>E</td>\n",
       "      <td>32.77</td>\n",
       "    </tr>\n",
       "    <tr>\n",
       "      <th>6</th>\n",
       "      <td>New Super Mario Bros.</td>\n",
       "      <td>DS</td>\n",
       "      <td>2006</td>\n",
       "      <td>Platform</td>\n",
       "      <td>11.28</td>\n",
       "      <td>9.14</td>\n",
       "      <td>6.50</td>\n",
       "      <td>2.88</td>\n",
       "      <td>89.0</td>\n",
       "      <td>8.5</td>\n",
       "      <td>E</td>\n",
       "      <td>29.80</td>\n",
       "    </tr>\n",
       "    <tr>\n",
       "      <th>7</th>\n",
       "      <td>Wii Play</td>\n",
       "      <td>Wii</td>\n",
       "      <td>2006</td>\n",
       "      <td>Misc</td>\n",
       "      <td>13.96</td>\n",
       "      <td>9.18</td>\n",
       "      <td>2.93</td>\n",
       "      <td>2.84</td>\n",
       "      <td>58.0</td>\n",
       "      <td>6.6</td>\n",
       "      <td>E</td>\n",
       "      <td>28.91</td>\n",
       "    </tr>\n",
       "    <tr>\n",
       "      <th>...</th>\n",
       "      <td>...</td>\n",
       "      <td>...</td>\n",
       "      <td>...</td>\n",
       "      <td>...</td>\n",
       "      <td>...</td>\n",
       "      <td>...</td>\n",
       "      <td>...</td>\n",
       "      <td>...</td>\n",
       "      <td>...</td>\n",
       "      <td>...</td>\n",
       "      <td>...</td>\n",
       "      <td>...</td>\n",
       "    </tr>\n",
       "    <tr>\n",
       "      <th>16710</th>\n",
       "      <td>Samurai Warriors: Sanada Maru</td>\n",
       "      <td>PS3</td>\n",
       "      <td>2016</td>\n",
       "      <td>Action</td>\n",
       "      <td>0.00</td>\n",
       "      <td>0.00</td>\n",
       "      <td>0.01</td>\n",
       "      <td>0.00</td>\n",
       "      <td>71.0</td>\n",
       "      <td>7.5</td>\n",
       "      <td>unknown</td>\n",
       "      <td>0.01</td>\n",
       "    </tr>\n",
       "    <tr>\n",
       "      <th>16711</th>\n",
       "      <td>LMA Manager 2007</td>\n",
       "      <td>X360</td>\n",
       "      <td>2006</td>\n",
       "      <td>Sports</td>\n",
       "      <td>0.00</td>\n",
       "      <td>0.01</td>\n",
       "      <td>0.00</td>\n",
       "      <td>0.00</td>\n",
       "      <td>71.0</td>\n",
       "      <td>7.5</td>\n",
       "      <td>unknown</td>\n",
       "      <td>0.01</td>\n",
       "    </tr>\n",
       "    <tr>\n",
       "      <th>16712</th>\n",
       "      <td>Haitaka no Psychedelica</td>\n",
       "      <td>PSV</td>\n",
       "      <td>2016</td>\n",
       "      <td>Adventure</td>\n",
       "      <td>0.00</td>\n",
       "      <td>0.00</td>\n",
       "      <td>0.01</td>\n",
       "      <td>0.00</td>\n",
       "      <td>71.0</td>\n",
       "      <td>7.5</td>\n",
       "      <td>unknown</td>\n",
       "      <td>0.01</td>\n",
       "    </tr>\n",
       "    <tr>\n",
       "      <th>16713</th>\n",
       "      <td>Spirits &amp; Spells</td>\n",
       "      <td>GBA</td>\n",
       "      <td>2003</td>\n",
       "      <td>Platform</td>\n",
       "      <td>0.01</td>\n",
       "      <td>0.00</td>\n",
       "      <td>0.00</td>\n",
       "      <td>0.00</td>\n",
       "      <td>71.0</td>\n",
       "      <td>7.5</td>\n",
       "      <td>unknown</td>\n",
       "      <td>0.01</td>\n",
       "    </tr>\n",
       "    <tr>\n",
       "      <th>16714</th>\n",
       "      <td>Winning Post 8 2016</td>\n",
       "      <td>PSV</td>\n",
       "      <td>2016</td>\n",
       "      <td>Simulation</td>\n",
       "      <td>0.00</td>\n",
       "      <td>0.00</td>\n",
       "      <td>0.01</td>\n",
       "      <td>0.00</td>\n",
       "      <td>71.0</td>\n",
       "      <td>7.5</td>\n",
       "      <td>unknown</td>\n",
       "      <td>0.01</td>\n",
       "    </tr>\n",
       "  </tbody>\n",
       "</table>\n",
       "<p>14470 rows × 12 columns</p>\n",
       "</div>"
      ],
      "text/plain": [
       "                                name platform  year_of_release       genre  \\\n",
       "0                         Wii Sports      Wii             2006      Sports   \n",
       "2                     Mario Kart Wii      Wii             2008      Racing   \n",
       "3                  Wii Sports Resort      Wii             2009      Sports   \n",
       "6              New Super Mario Bros.       DS             2006    Platform   \n",
       "7                           Wii Play      Wii             2006        Misc   \n",
       "...                              ...      ...              ...         ...   \n",
       "16710  Samurai Warriors: Sanada Maru      PS3             2016      Action   \n",
       "16711               LMA Manager 2007     X360             2006      Sports   \n",
       "16712        Haitaka no Psychedelica      PSV             2016   Adventure   \n",
       "16713               Spirits & Spells      GBA             2003    Platform   \n",
       "16714            Winning Post 8 2016      PSV             2016  Simulation   \n",
       "\n",
       "       na_sales  eu_sales  jp_sales  other_sales  critic_score  user_score  \\\n",
       "0         41.36     28.96      3.77         8.45          76.0         8.0   \n",
       "2         15.68     12.76      3.79         3.29          82.0         8.3   \n",
       "3         15.61     10.93      3.28         2.95          80.0         8.0   \n",
       "6         11.28      9.14      6.50         2.88          89.0         8.5   \n",
       "7         13.96      9.18      2.93         2.84          58.0         6.6   \n",
       "...         ...       ...       ...          ...           ...         ...   \n",
       "16710      0.00      0.00      0.01         0.00          71.0         7.5   \n",
       "16711      0.00      0.01      0.00         0.00          71.0         7.5   \n",
       "16712      0.00      0.00      0.01         0.00          71.0         7.5   \n",
       "16713      0.01      0.00      0.00         0.00          71.0         7.5   \n",
       "16714      0.00      0.00      0.01         0.00          71.0         7.5   \n",
       "\n",
       "        rating  total_purchase  \n",
       "0            E           82.54  \n",
       "2            E           35.52  \n",
       "3            E           32.77  \n",
       "6            E           29.80  \n",
       "7            E           28.91  \n",
       "...        ...             ...  \n",
       "16710  unknown            0.01  \n",
       "16711  unknown            0.01  \n",
       "16712  unknown            0.01  \n",
       "16713  unknown            0.01  \n",
       "16714  unknown            0.01  \n",
       "\n",
       "[14470 rows x 12 columns]"
      ]
     },
     "execution_count": 109,
     "metadata": {},
     "output_type": "execute_result"
    }
   ],
   "source": [
    "df_2000=df.query('year_of_release>=2000')\n",
    "df_2000"
   ]
  },
  {
   "cell_type": "code",
   "execution_count": 110,
   "metadata": {},
   "outputs": [
    {
     "data": {
      "text/html": [
       "<div>\n",
       "<style scoped>\n",
       "    .dataframe tbody tr th:only-of-type {\n",
       "        vertical-align: middle;\n",
       "    }\n",
       "\n",
       "    .dataframe tbody tr th {\n",
       "        vertical-align: top;\n",
       "    }\n",
       "\n",
       "    .dataframe thead th {\n",
       "        text-align: right;\n",
       "    }\n",
       "</style>\n",
       "<table border=\"1\" class=\"dataframe\">\n",
       "  <thead>\n",
       "    <tr style=\"text-align: right;\">\n",
       "      <th></th>\n",
       "      <th>platform</th>\n",
       "      <th>purchase_platform</th>\n",
       "    </tr>\n",
       "  </thead>\n",
       "  <tbody>\n",
       "    <tr>\n",
       "      <th>9</th>\n",
       "      <td>PS2</td>\n",
       "      <td>1233.56</td>\n",
       "    </tr>\n",
       "    <tr>\n",
       "      <th>17</th>\n",
       "      <td>X360</td>\n",
       "      <td>961.24</td>\n",
       "    </tr>\n",
       "    <tr>\n",
       "      <th>10</th>\n",
       "      <td>PS3</td>\n",
       "      <td>931.34</td>\n",
       "    </tr>\n",
       "    <tr>\n",
       "      <th>15</th>\n",
       "      <td>Wii</td>\n",
       "      <td>891.18</td>\n",
       "    </tr>\n",
       "    <tr>\n",
       "      <th>2</th>\n",
       "      <td>DS</td>\n",
       "      <td>802.76</td>\n",
       "    </tr>\n",
       "    <tr>\n",
       "      <th>11</th>\n",
       "      <td>PS4</td>\n",
       "      <td>314.14</td>\n",
       "    </tr>\n",
       "    <tr>\n",
       "      <th>4</th>\n",
       "      <td>GBA</td>\n",
       "      <td>312.88</td>\n",
       "    </tr>\n",
       "    <tr>\n",
       "      <th>12</th>\n",
       "      <td>PSP</td>\n",
       "      <td>289.53</td>\n",
       "    </tr>\n",
       "    <tr>\n",
       "      <th>0</th>\n",
       "      <td>3DS</td>\n",
       "      <td>257.81</td>\n",
       "    </tr>\n",
       "    <tr>\n",
       "      <th>18</th>\n",
       "      <td>XB</td>\n",
       "      <td>251.57</td>\n",
       "    </tr>\n",
       "    <tr>\n",
       "      <th>7</th>\n",
       "      <td>PC</td>\n",
       "      <td>205.72</td>\n",
       "    </tr>\n",
       "    <tr>\n",
       "      <th>5</th>\n",
       "      <td>GC</td>\n",
       "      <td>196.73</td>\n",
       "    </tr>\n",
       "    <tr>\n",
       "      <th>19</th>\n",
       "      <td>XOne</td>\n",
       "      <td>159.32</td>\n",
       "    </tr>\n",
       "    <tr>\n",
       "      <th>8</th>\n",
       "      <td>PS</td>\n",
       "      <td>140.70</td>\n",
       "    </tr>\n",
       "    <tr>\n",
       "      <th>16</th>\n",
       "      <td>WiiU</td>\n",
       "      <td>82.19</td>\n",
       "    </tr>\n",
       "    <tr>\n",
       "      <th>13</th>\n",
       "      <td>PSV</td>\n",
       "      <td>53.81</td>\n",
       "    </tr>\n",
       "    <tr>\n",
       "      <th>6</th>\n",
       "      <td>N64</td>\n",
       "      <td>37.30</td>\n",
       "    </tr>\n",
       "    <tr>\n",
       "      <th>3</th>\n",
       "      <td>GB</td>\n",
       "      <td>29.00</td>\n",
       "    </tr>\n",
       "    <tr>\n",
       "      <th>1</th>\n",
       "      <td>DC</td>\n",
       "      <td>7.41</td>\n",
       "    </tr>\n",
       "    <tr>\n",
       "      <th>14</th>\n",
       "      <td>WS</td>\n",
       "      <td>0.96</td>\n",
       "    </tr>\n",
       "  </tbody>\n",
       "</table>\n",
       "</div>"
      ],
      "text/plain": [
       "   platform  purchase_platform\n",
       "9       PS2            1233.56\n",
       "17     X360             961.24\n",
       "10      PS3             931.34\n",
       "15      Wii             891.18\n",
       "2        DS             802.76\n",
       "11      PS4             314.14\n",
       "4       GBA             312.88\n",
       "12      PSP             289.53\n",
       "0       3DS             257.81\n",
       "18       XB             251.57\n",
       "7        PC             205.72\n",
       "5        GC             196.73\n",
       "19     XOne             159.32\n",
       "8        PS             140.70\n",
       "16     WiiU              82.19\n",
       "13      PSV              53.81\n",
       "6       N64              37.30\n",
       "3        GB              29.00\n",
       "1        DC               7.41\n",
       "14       WS               0.96"
      ]
     },
     "execution_count": 110,
     "metadata": {},
     "output_type": "execute_result"
    }
   ],
   "source": [
    "df_platform=df_2000.groupby('platform')['total_purchase'].sum().reset_index(name='purchase_platform')\n",
    "df_platform=df_platform.sort_values(by='purchase_platform', ascending=False)\n",
    "df_platform"
   ]
  },
  {
   "cell_type": "code",
   "execution_count": 111,
   "metadata": {},
   "outputs": [
    {
     "data": {
      "image/png": "[encoded data removed]",
      "text/plain": [
       "<Figure size 640x480 with 1 Axes>"
      ]
     },
     "metadata": {},
     "output_type": "display_data"
    }
   ],
   "source": [
    "plt.bar(df_platform['platform'],df_platform['purchase_platform'], color='#aeb0a4', label='Años')\n",
    "\n",
    "\n",
    "plt.xlabel(\"Plataforma\")\n",
    "plt.ylabel(\"Total de ventas\")\n",
    "plt.title(\"Total de ventas segun la plataforma\")\n",
    "plt.xticks(rotation=45)\n",
    "plt.legend()\n",
    "plt.show()"
   ]
  },
  {
   "cell_type": "markdown",
   "metadata": {},
   "source": [
    "Se evidencia que las plataformas que tienen mayor cantidad de ventas son PS2, X360, Wii, PS3 y DS, las demas plataformas no tienen mayor acogida."
   ]
  },
  {
   "cell_type": "markdown",
   "metadata": {},
   "source": [
    "### Ventas de cada plataforma por año"
   ]
  },
  {
   "cell_type": "markdown",
   "metadata": {},
   "source": [
    "Queremos saber cómo ha sido el comportamiendo de las plataformas desde su año de lanzamiento hasta el último registro que tenemos. Por eso, vamos a graficar como se han comportado las ventas para cada una segun los años"
   ]
  },
  {
   "cell_type": "code",
   "execution_count": 112,
   "metadata": {},
   "outputs": [
    {
     "data": {
      "text/html": [
       "<div>\n",
       "<style scoped>\n",
       "    .dataframe tbody tr th:only-of-type {\n",
       "        vertical-align: middle;\n",
       "    }\n",
       "\n",
       "    .dataframe tbody tr th {\n",
       "        vertical-align: top;\n",
       "    }\n",
       "\n",
       "    .dataframe thead th {\n",
       "        text-align: right;\n",
       "    }\n",
       "</style>\n",
       "<table border=\"1\" class=\"dataframe\">\n",
       "  <thead>\n",
       "    <tr style=\"text-align: right;\">\n",
       "      <th></th>\n",
       "      <th>platform</th>\n",
       "      <th>year_of_release</th>\n",
       "      <th>purchase_platform_year</th>\n",
       "    </tr>\n",
       "  </thead>\n",
       "  <tbody>\n",
       "    <tr>\n",
       "      <th>0</th>\n",
       "      <td>3DS</td>\n",
       "      <td>2011</td>\n",
       "      <td>63.20</td>\n",
       "    </tr>\n",
       "    <tr>\n",
       "      <th>1</th>\n",
       "      <td>3DS</td>\n",
       "      <td>2012</td>\n",
       "      <td>51.36</td>\n",
       "    </tr>\n",
       "    <tr>\n",
       "      <th>2</th>\n",
       "      <td>3DS</td>\n",
       "      <td>2013</td>\n",
       "      <td>56.57</td>\n",
       "    </tr>\n",
       "    <tr>\n",
       "      <th>3</th>\n",
       "      <td>3DS</td>\n",
       "      <td>2014</td>\n",
       "      <td>43.76</td>\n",
       "    </tr>\n",
       "    <tr>\n",
       "      <th>4</th>\n",
       "      <td>3DS</td>\n",
       "      <td>2015</td>\n",
       "      <td>27.78</td>\n",
       "    </tr>\n",
       "    <tr>\n",
       "      <th>...</th>\n",
       "      <td>...</td>\n",
       "      <td>...</td>\n",
       "      <td>...</td>\n",
       "    </tr>\n",
       "    <tr>\n",
       "      <th>145</th>\n",
       "      <td>XB</td>\n",
       "      <td>2008</td>\n",
       "      <td>0.18</td>\n",
       "    </tr>\n",
       "    <tr>\n",
       "      <th>146</th>\n",
       "      <td>XOne</td>\n",
       "      <td>2013</td>\n",
       "      <td>18.96</td>\n",
       "    </tr>\n",
       "    <tr>\n",
       "      <th>147</th>\n",
       "      <td>XOne</td>\n",
       "      <td>2014</td>\n",
       "      <td>54.07</td>\n",
       "    </tr>\n",
       "    <tr>\n",
       "      <th>148</th>\n",
       "      <td>XOne</td>\n",
       "      <td>2015</td>\n",
       "      <td>60.14</td>\n",
       "    </tr>\n",
       "    <tr>\n",
       "      <th>149</th>\n",
       "      <td>XOne</td>\n",
       "      <td>2016</td>\n",
       "      <td>26.15</td>\n",
       "    </tr>\n",
       "  </tbody>\n",
       "</table>\n",
       "<p>150 rows × 3 columns</p>\n",
       "</div>"
      ],
      "text/plain": [
       "    platform  year_of_release  purchase_platform_year\n",
       "0        3DS             2011                   63.20\n",
       "1        3DS             2012                   51.36\n",
       "2        3DS             2013                   56.57\n",
       "3        3DS             2014                   43.76\n",
       "4        3DS             2015                   27.78\n",
       "..       ...              ...                     ...\n",
       "145       XB             2008                    0.18\n",
       "146     XOne             2013                   18.96\n",
       "147     XOne             2014                   54.07\n",
       "148     XOne             2015                   60.14\n",
       "149     XOne             2016                   26.15\n",
       "\n",
       "[150 rows x 3 columns]"
      ]
     },
     "execution_count": 112,
     "metadata": {},
     "output_type": "execute_result"
    }
   ],
   "source": [
    "df_platform_year=df_2000.groupby(['platform', 'year_of_release'])['total_purchase'].sum().reset_index(name='purchase_platform_year')\n",
    "\n",
    "df_platform_year"
   ]
  },
  {
   "cell_type": "code",
   "execution_count": 113,
   "metadata": {},
   "outputs": [
    {
     "data": {
      "image/png": "[encoded data removed]",
      "text/plain": [
       "<Figure size 1200x600 with 1 Axes>"
      ]
     },
     "metadata": {},
     "output_type": "display_data"
    }
   ],
   "source": [
    "import seaborn as sns\n",
    "\n",
    "plt.figure(figsize=(12,6))\n",
    "\n",
    "sns.lineplot(data=df_platform_year, x=\"year_of_release\", y=\"purchase_platform_year\", hue= \"platform\", marker=\"o\") \n",
    "\n",
    "\n",
    "plt.xlabel(\"Años\")\n",
    "plt.ylabel(\"Total de ventas\")\n",
    "plt.title(\"Total de ventas segun la plataforma\")\n",
    "plt.xticks(rotation=45)\n",
    "plt.legend(title=\"Plataforma\", bbox_to_anchor=(1.05,1), loc='upper left')\n",
    "plt.grid(True, linestyle=\"--\", alpha=0.6)\n",
    "plt.show()"
   ]
  },
  {
   "cell_type": "markdown",
   "metadata": {},
   "source": [
    "En el grafico se evidencia que hubo plataformas que a medida del tiempo dejaron de tener ganancias y se descontinuaron, de hecho, se observa que no hay ninguna platafroma actual que este mostrando una tendencia hacia arriba, las ventas se han ido bajando con los años."
   ]
  },
  {
   "cell_type": "markdown",
   "metadata": {},
   "source": [
    "Adicional, se puede observar que las plataformas que mas acogida han tenido, tienden a tener un auge de 3 años y luego comienzan a bajar sus ventas. y su participacion en el mercado tiene un periodo aprox de 10 años"
   ]
  },
  {
   "cell_type": "markdown",
   "metadata": {},
   "source": [
    "### Plataformas vigentes del 2013 en adelante"
   ]
  },
  {
   "cell_type": "markdown",
   "metadata": {},
   "source": [
    "Para visualizar la tendencia un poco mejor, vamos a verificar las plataformas vigentes desde el 2013 al 2016."
   ]
  },
  {
   "cell_type": "code",
   "execution_count": 114,
   "metadata": {},
   "outputs": [
    {
     "data": {
      "text/html": [
       "<div>\n",
       "<style scoped>\n",
       "    .dataframe tbody tr th:only-of-type {\n",
       "        vertical-align: middle;\n",
       "    }\n",
       "\n",
       "    .dataframe tbody tr th {\n",
       "        vertical-align: top;\n",
       "    }\n",
       "\n",
       "    .dataframe thead th {\n",
       "        text-align: right;\n",
       "    }\n",
       "</style>\n",
       "<table border=\"1\" class=\"dataframe\">\n",
       "  <thead>\n",
       "    <tr style=\"text-align: right;\">\n",
       "      <th></th>\n",
       "      <th>name</th>\n",
       "      <th>platform</th>\n",
       "      <th>year_of_release</th>\n",
       "      <th>genre</th>\n",
       "      <th>na_sales</th>\n",
       "      <th>eu_sales</th>\n",
       "      <th>jp_sales</th>\n",
       "      <th>other_sales</th>\n",
       "      <th>critic_score</th>\n",
       "      <th>user_score</th>\n",
       "      <th>rating</th>\n",
       "      <th>total_purchase</th>\n",
       "    </tr>\n",
       "  </thead>\n",
       "  <tbody>\n",
       "    <tr>\n",
       "      <th>16</th>\n",
       "      <td>Grand Theft Auto V</td>\n",
       "      <td>PS3</td>\n",
       "      <td>2013</td>\n",
       "      <td>Action</td>\n",
       "      <td>7.02</td>\n",
       "      <td>9.09</td>\n",
       "      <td>0.98</td>\n",
       "      <td>3.96</td>\n",
       "      <td>97.0</td>\n",
       "      <td>8.2</td>\n",
       "      <td>M</td>\n",
       "      <td>21.05</td>\n",
       "    </tr>\n",
       "    <tr>\n",
       "      <th>23</th>\n",
       "      <td>Grand Theft Auto V</td>\n",
       "      <td>X360</td>\n",
       "      <td>2013</td>\n",
       "      <td>Action</td>\n",
       "      <td>9.66</td>\n",
       "      <td>5.14</td>\n",
       "      <td>0.06</td>\n",
       "      <td>1.41</td>\n",
       "      <td>97.0</td>\n",
       "      <td>8.1</td>\n",
       "      <td>M</td>\n",
       "      <td>16.27</td>\n",
       "    </tr>\n",
       "    <tr>\n",
       "      <th>31</th>\n",
       "      <td>Call of Duty: Black Ops 3</td>\n",
       "      <td>PS4</td>\n",
       "      <td>2015</td>\n",
       "      <td>Shooter</td>\n",
       "      <td>6.03</td>\n",
       "      <td>5.86</td>\n",
       "      <td>0.36</td>\n",
       "      <td>2.38</td>\n",
       "      <td>71.0</td>\n",
       "      <td>7.5</td>\n",
       "      <td>unknown</td>\n",
       "      <td>14.63</td>\n",
       "    </tr>\n",
       "    <tr>\n",
       "      <th>33</th>\n",
       "      <td>Pokemon X/Pokemon Y</td>\n",
       "      <td>3DS</td>\n",
       "      <td>2013</td>\n",
       "      <td>Role-Playing</td>\n",
       "      <td>5.28</td>\n",
       "      <td>4.19</td>\n",
       "      <td>4.35</td>\n",
       "      <td>0.78</td>\n",
       "      <td>71.0</td>\n",
       "      <td>7.5</td>\n",
       "      <td>unknown</td>\n",
       "      <td>14.60</td>\n",
       "    </tr>\n",
       "    <tr>\n",
       "      <th>42</th>\n",
       "      <td>Grand Theft Auto V</td>\n",
       "      <td>PS4</td>\n",
       "      <td>2014</td>\n",
       "      <td>Action</td>\n",
       "      <td>3.96</td>\n",
       "      <td>6.31</td>\n",
       "      <td>0.38</td>\n",
       "      <td>1.97</td>\n",
       "      <td>97.0</td>\n",
       "      <td>8.3</td>\n",
       "      <td>M</td>\n",
       "      <td>12.62</td>\n",
       "    </tr>\n",
       "    <tr>\n",
       "      <th>...</th>\n",
       "      <td>...</td>\n",
       "      <td>...</td>\n",
       "      <td>...</td>\n",
       "      <td>...</td>\n",
       "      <td>...</td>\n",
       "      <td>...</td>\n",
       "      <td>...</td>\n",
       "      <td>...</td>\n",
       "      <td>...</td>\n",
       "      <td>...</td>\n",
       "      <td>...</td>\n",
       "      <td>...</td>\n",
       "    </tr>\n",
       "    <tr>\n",
       "      <th>16703</th>\n",
       "      <td>Strawberry Nauts</td>\n",
       "      <td>PSV</td>\n",
       "      <td>2016</td>\n",
       "      <td>Adventure</td>\n",
       "      <td>0.00</td>\n",
       "      <td>0.00</td>\n",
       "      <td>0.01</td>\n",
       "      <td>0.00</td>\n",
       "      <td>71.0</td>\n",
       "      <td>7.5</td>\n",
       "      <td>unknown</td>\n",
       "      <td>0.01</td>\n",
       "    </tr>\n",
       "    <tr>\n",
       "      <th>16707</th>\n",
       "      <td>Aiyoku no Eustia</td>\n",
       "      <td>PSV</td>\n",
       "      <td>2014</td>\n",
       "      <td>Misc</td>\n",
       "      <td>0.00</td>\n",
       "      <td>0.00</td>\n",
       "      <td>0.01</td>\n",
       "      <td>0.00</td>\n",
       "      <td>71.0</td>\n",
       "      <td>7.5</td>\n",
       "      <td>unknown</td>\n",
       "      <td>0.01</td>\n",
       "    </tr>\n",
       "    <tr>\n",
       "      <th>16710</th>\n",
       "      <td>Samurai Warriors: Sanada Maru</td>\n",
       "      <td>PS3</td>\n",
       "      <td>2016</td>\n",
       "      <td>Action</td>\n",
       "      <td>0.00</td>\n",
       "      <td>0.00</td>\n",
       "      <td>0.01</td>\n",
       "      <td>0.00</td>\n",
       "      <td>71.0</td>\n",
       "      <td>7.5</td>\n",
       "      <td>unknown</td>\n",
       "      <td>0.01</td>\n",
       "    </tr>\n",
       "    <tr>\n",
       "      <th>16712</th>\n",
       "      <td>Haitaka no Psychedelica</td>\n",
       "      <td>PSV</td>\n",
       "      <td>2016</td>\n",
       "      <td>Adventure</td>\n",
       "      <td>0.00</td>\n",
       "      <td>0.00</td>\n",
       "      <td>0.01</td>\n",
       "      <td>0.00</td>\n",
       "      <td>71.0</td>\n",
       "      <td>7.5</td>\n",
       "      <td>unknown</td>\n",
       "      <td>0.01</td>\n",
       "    </tr>\n",
       "    <tr>\n",
       "      <th>16714</th>\n",
       "      <td>Winning Post 8 2016</td>\n",
       "      <td>PSV</td>\n",
       "      <td>2016</td>\n",
       "      <td>Simulation</td>\n",
       "      <td>0.00</td>\n",
       "      <td>0.00</td>\n",
       "      <td>0.01</td>\n",
       "      <td>0.00</td>\n",
       "      <td>71.0</td>\n",
       "      <td>7.5</td>\n",
       "      <td>unknown</td>\n",
       "      <td>0.01</td>\n",
       "    </tr>\n",
       "  </tbody>\n",
       "</table>\n",
       "<p>2233 rows × 12 columns</p>\n",
       "</div>"
      ],
      "text/plain": [
       "                                name platform  year_of_release         genre  \\\n",
       "16                Grand Theft Auto V      PS3             2013        Action   \n",
       "23                Grand Theft Auto V     X360             2013        Action   \n",
       "31         Call of Duty: Black Ops 3      PS4             2015       Shooter   \n",
       "33               Pokemon X/Pokemon Y      3DS             2013  Role-Playing   \n",
       "42                Grand Theft Auto V      PS4             2014        Action   \n",
       "...                              ...      ...              ...           ...   \n",
       "16703               Strawberry Nauts      PSV             2016     Adventure   \n",
       "16707               Aiyoku no Eustia      PSV             2014          Misc   \n",
       "16710  Samurai Warriors: Sanada Maru      PS3             2016        Action   \n",
       "16712        Haitaka no Psychedelica      PSV             2016     Adventure   \n",
       "16714            Winning Post 8 2016      PSV             2016    Simulation   \n",
       "\n",
       "       na_sales  eu_sales  jp_sales  other_sales  critic_score  user_score  \\\n",
       "16         7.02      9.09      0.98         3.96          97.0         8.2   \n",
       "23         9.66      5.14      0.06         1.41          97.0         8.1   \n",
       "31         6.03      5.86      0.36         2.38          71.0         7.5   \n",
       "33         5.28      4.19      4.35         0.78          71.0         7.5   \n",
       "42         3.96      6.31      0.38         1.97          97.0         8.3   \n",
       "...         ...       ...       ...          ...           ...         ...   \n",
       "16703      0.00      0.00      0.01         0.00          71.0         7.5   \n",
       "16707      0.00      0.00      0.01         0.00          71.0         7.5   \n",
       "16710      0.00      0.00      0.01         0.00          71.0         7.5   \n",
       "16712      0.00      0.00      0.01         0.00          71.0         7.5   \n",
       "16714      0.00      0.00      0.01         0.00          71.0         7.5   \n",
       "\n",
       "        rating  total_purchase  \n",
       "16           M           21.05  \n",
       "23           M           16.27  \n",
       "31     unknown           14.63  \n",
       "33     unknown           14.60  \n",
       "42           M           12.62  \n",
       "...        ...             ...  \n",
       "16703  unknown            0.01  \n",
       "16707  unknown            0.01  \n",
       "16710  unknown            0.01  \n",
       "16712  unknown            0.01  \n",
       "16714  unknown            0.01  \n",
       "\n",
       "[2233 rows x 12 columns]"
      ]
     },
     "execution_count": 114,
     "metadata": {},
     "output_type": "execute_result"
    }
   ],
   "source": [
    "df_2013=df.query('year_of_release>=2013')\n",
    "df_2013"
   ]
  },
  {
   "cell_type": "code",
   "execution_count": 115,
   "metadata": {},
   "outputs": [
    {
     "data": {
      "text/html": [
       "<div>\n",
       "<style scoped>\n",
       "    .dataframe tbody tr th:only-of-type {\n",
       "        vertical-align: middle;\n",
       "    }\n",
       "\n",
       "    .dataframe tbody tr th {\n",
       "        vertical-align: top;\n",
       "    }\n",
       "\n",
       "    .dataframe thead th {\n",
       "        text-align: right;\n",
       "    }\n",
       "</style>\n",
       "<table border=\"1\" class=\"dataframe\">\n",
       "  <thead>\n",
       "    <tr style=\"text-align: right;\">\n",
       "      <th></th>\n",
       "      <th>platform</th>\n",
       "      <th>year_of_release</th>\n",
       "      <th>purchase_platform_year</th>\n",
       "    </tr>\n",
       "  </thead>\n",
       "  <tbody>\n",
       "    <tr>\n",
       "      <th>0</th>\n",
       "      <td>3DS</td>\n",
       "      <td>2013</td>\n",
       "      <td>56.57</td>\n",
       "    </tr>\n",
       "    <tr>\n",
       "      <th>1</th>\n",
       "      <td>3DS</td>\n",
       "      <td>2014</td>\n",
       "      <td>43.76</td>\n",
       "    </tr>\n",
       "    <tr>\n",
       "      <th>2</th>\n",
       "      <td>3DS</td>\n",
       "      <td>2015</td>\n",
       "      <td>27.78</td>\n",
       "    </tr>\n",
       "    <tr>\n",
       "      <th>3</th>\n",
       "      <td>3DS</td>\n",
       "      <td>2016</td>\n",
       "      <td>15.14</td>\n",
       "    </tr>\n",
       "    <tr>\n",
       "      <th>4</th>\n",
       "      <td>DS</td>\n",
       "      <td>2013</td>\n",
       "      <td>1.54</td>\n",
       "    </tr>\n",
       "    <tr>\n",
       "      <th>5</th>\n",
       "      <td>PC</td>\n",
       "      <td>2013</td>\n",
       "      <td>12.38</td>\n",
       "    </tr>\n",
       "    <tr>\n",
       "      <th>6</th>\n",
       "      <td>PC</td>\n",
       "      <td>2014</td>\n",
       "      <td>13.28</td>\n",
       "    </tr>\n",
       "    <tr>\n",
       "      <th>7</th>\n",
       "      <td>PC</td>\n",
       "      <td>2015</td>\n",
       "      <td>8.52</td>\n",
       "    </tr>\n",
       "    <tr>\n",
       "      <th>8</th>\n",
       "      <td>PC</td>\n",
       "      <td>2016</td>\n",
       "      <td>5.25</td>\n",
       "    </tr>\n",
       "    <tr>\n",
       "      <th>9</th>\n",
       "      <td>PS3</td>\n",
       "      <td>2013</td>\n",
       "      <td>113.25</td>\n",
       "    </tr>\n",
       "    <tr>\n",
       "      <th>10</th>\n",
       "      <td>PS3</td>\n",
       "      <td>2014</td>\n",
       "      <td>47.76</td>\n",
       "    </tr>\n",
       "    <tr>\n",
       "      <th>11</th>\n",
       "      <td>PS3</td>\n",
       "      <td>2015</td>\n",
       "      <td>16.82</td>\n",
       "    </tr>\n",
       "    <tr>\n",
       "      <th>12</th>\n",
       "      <td>PS3</td>\n",
       "      <td>2016</td>\n",
       "      <td>3.60</td>\n",
       "    </tr>\n",
       "    <tr>\n",
       "      <th>13</th>\n",
       "      <td>PS4</td>\n",
       "      <td>2013</td>\n",
       "      <td>25.99</td>\n",
       "    </tr>\n",
       "    <tr>\n",
       "      <th>14</th>\n",
       "      <td>PS4</td>\n",
       "      <td>2014</td>\n",
       "      <td>100.00</td>\n",
       "    </tr>\n",
       "    <tr>\n",
       "      <th>15</th>\n",
       "      <td>PS4</td>\n",
       "      <td>2015</td>\n",
       "      <td>118.90</td>\n",
       "    </tr>\n",
       "    <tr>\n",
       "      <th>16</th>\n",
       "      <td>PS4</td>\n",
       "      <td>2016</td>\n",
       "      <td>69.25</td>\n",
       "    </tr>\n",
       "    <tr>\n",
       "      <th>17</th>\n",
       "      <td>PSP</td>\n",
       "      <td>2013</td>\n",
       "      <td>3.14</td>\n",
       "    </tr>\n",
       "    <tr>\n",
       "      <th>18</th>\n",
       "      <td>PSP</td>\n",
       "      <td>2014</td>\n",
       "      <td>0.24</td>\n",
       "    </tr>\n",
       "    <tr>\n",
       "      <th>19</th>\n",
       "      <td>PSP</td>\n",
       "      <td>2015</td>\n",
       "      <td>0.12</td>\n",
       "    </tr>\n",
       "    <tr>\n",
       "      <th>20</th>\n",
       "      <td>PSV</td>\n",
       "      <td>2013</td>\n",
       "      <td>10.59</td>\n",
       "    </tr>\n",
       "    <tr>\n",
       "      <th>21</th>\n",
       "      <td>PSV</td>\n",
       "      <td>2014</td>\n",
       "      <td>11.90</td>\n",
       "    </tr>\n",
       "    <tr>\n",
       "      <th>22</th>\n",
       "      <td>PSV</td>\n",
       "      <td>2015</td>\n",
       "      <td>6.25</td>\n",
       "    </tr>\n",
       "    <tr>\n",
       "      <th>23</th>\n",
       "      <td>PSV</td>\n",
       "      <td>2016</td>\n",
       "      <td>4.25</td>\n",
       "    </tr>\n",
       "    <tr>\n",
       "      <th>24</th>\n",
       "      <td>Wii</td>\n",
       "      <td>2013</td>\n",
       "      <td>8.59</td>\n",
       "    </tr>\n",
       "    <tr>\n",
       "      <th>25</th>\n",
       "      <td>Wii</td>\n",
       "      <td>2014</td>\n",
       "      <td>3.75</td>\n",
       "    </tr>\n",
       "    <tr>\n",
       "      <th>26</th>\n",
       "      <td>Wii</td>\n",
       "      <td>2015</td>\n",
       "      <td>1.14</td>\n",
       "    </tr>\n",
       "    <tr>\n",
       "      <th>27</th>\n",
       "      <td>Wii</td>\n",
       "      <td>2016</td>\n",
       "      <td>0.18</td>\n",
       "    </tr>\n",
       "    <tr>\n",
       "      <th>28</th>\n",
       "      <td>WiiU</td>\n",
       "      <td>2013</td>\n",
       "      <td>21.65</td>\n",
       "    </tr>\n",
       "    <tr>\n",
       "      <th>29</th>\n",
       "      <td>WiiU</td>\n",
       "      <td>2014</td>\n",
       "      <td>22.03</td>\n",
       "    </tr>\n",
       "    <tr>\n",
       "      <th>30</th>\n",
       "      <td>WiiU</td>\n",
       "      <td>2015</td>\n",
       "      <td>16.35</td>\n",
       "    </tr>\n",
       "    <tr>\n",
       "      <th>31</th>\n",
       "      <td>WiiU</td>\n",
       "      <td>2016</td>\n",
       "      <td>4.60</td>\n",
       "    </tr>\n",
       "    <tr>\n",
       "      <th>32</th>\n",
       "      <td>X360</td>\n",
       "      <td>2013</td>\n",
       "      <td>88.58</td>\n",
       "    </tr>\n",
       "    <tr>\n",
       "      <th>33</th>\n",
       "      <td>X360</td>\n",
       "      <td>2014</td>\n",
       "      <td>34.74</td>\n",
       "    </tr>\n",
       "    <tr>\n",
       "      <th>34</th>\n",
       "      <td>X360</td>\n",
       "      <td>2015</td>\n",
       "      <td>11.96</td>\n",
       "    </tr>\n",
       "    <tr>\n",
       "      <th>35</th>\n",
       "      <td>X360</td>\n",
       "      <td>2016</td>\n",
       "      <td>1.52</td>\n",
       "    </tr>\n",
       "    <tr>\n",
       "      <th>36</th>\n",
       "      <td>XOne</td>\n",
       "      <td>2013</td>\n",
       "      <td>18.96</td>\n",
       "    </tr>\n",
       "    <tr>\n",
       "      <th>37</th>\n",
       "      <td>XOne</td>\n",
       "      <td>2014</td>\n",
       "      <td>54.07</td>\n",
       "    </tr>\n",
       "    <tr>\n",
       "      <th>38</th>\n",
       "      <td>XOne</td>\n",
       "      <td>2015</td>\n",
       "      <td>60.14</td>\n",
       "    </tr>\n",
       "    <tr>\n",
       "      <th>39</th>\n",
       "      <td>XOne</td>\n",
       "      <td>2016</td>\n",
       "      <td>26.15</td>\n",
       "    </tr>\n",
       "  </tbody>\n",
       "</table>\n",
       "</div>"
      ],
      "text/plain": [
       "   platform  year_of_release  purchase_platform_year\n",
       "0       3DS             2013                   56.57\n",
       "1       3DS             2014                   43.76\n",
       "2       3DS             2015                   27.78\n",
       "3       3DS             2016                   15.14\n",
       "4        DS             2013                    1.54\n",
       "5        PC             2013                   12.38\n",
       "6        PC             2014                   13.28\n",
       "7        PC             2015                    8.52\n",
       "8        PC             2016                    5.25\n",
       "9       PS3             2013                  113.25\n",
       "10      PS3             2014                   47.76\n",
       "11      PS3             2015                   16.82\n",
       "12      PS3             2016                    3.60\n",
       "13      PS4             2013                   25.99\n",
       "14      PS4             2014                  100.00\n",
       "15      PS4             2015                  118.90\n",
       "16      PS4             2016                   69.25\n",
       "17      PSP             2013                    3.14\n",
       "18      PSP             2014                    0.24\n",
       "19      PSP             2015                    0.12\n",
       "20      PSV             2013                   10.59\n",
       "21      PSV             2014                   11.90\n",
       "22      PSV             2015                    6.25\n",
       "23      PSV             2016                    4.25\n",
       "24      Wii             2013                    8.59\n",
       "25      Wii             2014                    3.75\n",
       "26      Wii             2015                    1.14\n",
       "27      Wii             2016                    0.18\n",
       "28     WiiU             2013                   21.65\n",
       "29     WiiU             2014                   22.03\n",
       "30     WiiU             2015                   16.35\n",
       "31     WiiU             2016                    4.60\n",
       "32     X360             2013                   88.58\n",
       "33     X360             2014                   34.74\n",
       "34     X360             2015                   11.96\n",
       "35     X360             2016                    1.52\n",
       "36     XOne             2013                   18.96\n",
       "37     XOne             2014                   54.07\n",
       "38     XOne             2015                   60.14\n",
       "39     XOne             2016                   26.15"
      ]
     },
     "execution_count": 115,
     "metadata": {},
     "output_type": "execute_result"
    }
   ],
   "source": [
    "df_platform_year_2013=df_2013.groupby(['platform', 'year_of_release'])['total_purchase'].sum().reset_index(name='purchase_platform_year')\n",
    "\n",
    "df_platform_year_2013"
   ]
  },
  {
   "cell_type": "code",
   "execution_count": 116,
   "metadata": {},
   "outputs": [
    {
     "data": {
      "image/png": "[encoded data removed]",
      "text/plain": [
       "<Figure size 1200x600 with 1 Axes>"
      ]
     },
     "metadata": {},
     "output_type": "display_data"
    }
   ],
   "source": [
    "import seaborn as sns\n",
    "\n",
    "plt.figure(figsize=(12,6))\n",
    "\n",
    "sns.lineplot(data=df_platform_year_2013, x=\"year_of_release\", y=\"purchase_platform_year\", hue= \"platform\", marker=\"o\") \n",
    "\n",
    "\n",
    "plt.xlabel(\"Años\")\n",
    "plt.ylabel(\"Total de ventas\")\n",
    "plt.title(\"Total de ventas segun la plataforma\")\n",
    "plt.xticks(rotation=45)\n",
    "plt.legend(title=\"Plataforma\", bbox_to_anchor=(1.05,1), loc='upper left')\n",
    "plt.grid(True, linestyle=\"--\", alpha=0.6)\n",
    "plt.show()"
   ]
  },
  {
   "cell_type": "markdown",
   "metadata": {},
   "source": [
    "Se evidencia que plataformas que generaron muchas ganancias, con el paso del tiempo desaparecieron, como el caso de PS2, que inicialmente muestra que es la que mas ganancias ha recaudado, pero que al ver el paso del tiempo dejó de tener participación en el mercado"
   ]
  },
  {
   "cell_type": "markdown",
   "metadata": {},
   "source": [
    "Por otro lado, se evidencia un periodo importante, que fue el 2014, donde se ve que la gran mayoria de las plataformas tiene una caida importate o salida del mercado, pero que, 2 de ellas por el contrario tienen mejor acogida, que son PS4 y XOne. Sin embargo, para el año 2015 se ve que todas las plataformas vigentes siguen teniendo una tendencia a bajar el numero de las ventas"
   ]
  },
  {
   "cell_type": "markdown",
   "metadata": {},
   "source": [
    "### Top 5 de plataformas que mas han vendido en los ultimos 3 años"
   ]
  },
  {
   "cell_type": "code",
   "execution_count": 117,
   "metadata": {},
   "outputs": [
    {
     "data": {
      "text/html": [
       "<div>\n",
       "<style scoped>\n",
       "    .dataframe tbody tr th:only-of-type {\n",
       "        vertical-align: middle;\n",
       "    }\n",
       "\n",
       "    .dataframe tbody tr th {\n",
       "        vertical-align: top;\n",
       "    }\n",
       "\n",
       "    .dataframe thead th {\n",
       "        text-align: right;\n",
       "    }\n",
       "</style>\n",
       "<table border=\"1\" class=\"dataframe\">\n",
       "  <thead>\n",
       "    <tr style=\"text-align: right;\">\n",
       "      <th></th>\n",
       "      <th>platform</th>\n",
       "      <th>purchase_platform</th>\n",
       "    </tr>\n",
       "  </thead>\n",
       "  <tbody>\n",
       "    <tr>\n",
       "      <th>4</th>\n",
       "      <td>PS4</td>\n",
       "      <td>314.14</td>\n",
       "    </tr>\n",
       "    <tr>\n",
       "      <th>3</th>\n",
       "      <td>PS3</td>\n",
       "      <td>181.43</td>\n",
       "    </tr>\n",
       "    <tr>\n",
       "      <th>10</th>\n",
       "      <td>XOne</td>\n",
       "      <td>159.32</td>\n",
       "    </tr>\n",
       "    <tr>\n",
       "      <th>0</th>\n",
       "      <td>3DS</td>\n",
       "      <td>143.25</td>\n",
       "    </tr>\n",
       "    <tr>\n",
       "      <th>9</th>\n",
       "      <td>X360</td>\n",
       "      <td>136.80</td>\n",
       "    </tr>\n",
       "  </tbody>\n",
       "</table>\n",
       "</div>"
      ],
      "text/plain": [
       "   platform  purchase_platform\n",
       "4       PS4             314.14\n",
       "3       PS3             181.43\n",
       "10     XOne             159.32\n",
       "0       3DS             143.25\n",
       "9      X360             136.80"
      ]
     },
     "execution_count": 117,
     "metadata": {},
     "output_type": "execute_result"
    }
   ],
   "source": [
    "df_platform_since_2013=df_2013.groupby('platform')['total_purchase'].sum().reset_index(name='purchase_platform')\n",
    "\n",
    "df_platform_since_2013=df_platform_since_2013.sort_values(by='purchase_platform', ascending=False).head()\n",
    "\n",
    "df_platform_since_2013"
   ]
  },
  {
   "cell_type": "code",
   "execution_count": 118,
   "metadata": {},
   "outputs": [
    {
     "data": {
      "image/png": "[encoded data removed]",
      "text/plain": [
       "<Figure size 640x480 with 1 Axes>"
      ]
     },
     "metadata": {},
     "output_type": "display_data"
    }
   ],
   "source": [
    "plt.bar(df_platform_since_2013['platform'],df_platform_since_2013['purchase_platform'], color='#687351', label='Años')\n",
    "\n",
    "\n",
    "plt.xlabel(\"Plataforma\")\n",
    "plt.ylabel(\"Total de ventas\")\n",
    "plt.title(\"Total de ventas segun la plataforma\")\n",
    "plt.xticks(rotation=45)\n",
    "plt.legend()\n",
    "plt.show()"
   ]
  },
  {
   "cell_type": "markdown",
   "metadata": {},
   "source": [
    "La plataforma PS4 lleva una ventaja casi que por el doble de ventas que las otras plataformas para los ultimos 3 años. No obstante, es necesario tener en cuenta que aunque la plataforma PS2 ya no esta en auge, sus ventas superan a todas las plataformas y a la PS4 por mas de tres veces "
   ]
  },
  {
   "cell_type": "markdown",
   "metadata": {},
   "source": [
    "### Diagrama de caja para el top 5 de plataformas de las ventas de los ultimos 3 años"
   ]
  },
  {
   "cell_type": "code",
   "execution_count": 119,
   "metadata": {},
   "outputs": [
    {
     "data": {
      "text/html": [
       "<div>\n",
       "<style scoped>\n",
       "    .dataframe tbody tr th:only-of-type {\n",
       "        vertical-align: middle;\n",
       "    }\n",
       "\n",
       "    .dataframe tbody tr th {\n",
       "        vertical-align: top;\n",
       "    }\n",
       "\n",
       "    .dataframe thead th {\n",
       "        text-align: right;\n",
       "    }\n",
       "</style>\n",
       "<table border=\"1\" class=\"dataframe\">\n",
       "  <thead>\n",
       "    <tr style=\"text-align: right;\">\n",
       "      <th>platform</th>\n",
       "      <th>3DS</th>\n",
       "      <th>DS</th>\n",
       "      <th>PC</th>\n",
       "      <th>PS3</th>\n",
       "      <th>PS4</th>\n",
       "      <th>PSP</th>\n",
       "      <th>PSV</th>\n",
       "      <th>Wii</th>\n",
       "      <th>WiiU</th>\n",
       "      <th>X360</th>\n",
       "      <th>XOne</th>\n",
       "    </tr>\n",
       "    <tr>\n",
       "      <th>year_of_release</th>\n",
       "      <th></th>\n",
       "      <th></th>\n",
       "      <th></th>\n",
       "      <th></th>\n",
       "      <th></th>\n",
       "      <th></th>\n",
       "      <th></th>\n",
       "      <th></th>\n",
       "      <th></th>\n",
       "      <th></th>\n",
       "      <th></th>\n",
       "    </tr>\n",
       "  </thead>\n",
       "  <tbody>\n",
       "    <tr>\n",
       "      <th>2013</th>\n",
       "      <td>56.57</td>\n",
       "      <td>1.54</td>\n",
       "      <td>12.38</td>\n",
       "      <td>113.25</td>\n",
       "      <td>25.99</td>\n",
       "      <td>3.14</td>\n",
       "      <td>10.59</td>\n",
       "      <td>8.59</td>\n",
       "      <td>21.65</td>\n",
       "      <td>88.58</td>\n",
       "      <td>18.96</td>\n",
       "    </tr>\n",
       "    <tr>\n",
       "      <th>2014</th>\n",
       "      <td>43.76</td>\n",
       "      <td>NaN</td>\n",
       "      <td>13.28</td>\n",
       "      <td>47.76</td>\n",
       "      <td>100.00</td>\n",
       "      <td>0.24</td>\n",
       "      <td>11.90</td>\n",
       "      <td>3.75</td>\n",
       "      <td>22.03</td>\n",
       "      <td>34.74</td>\n",
       "      <td>54.07</td>\n",
       "    </tr>\n",
       "    <tr>\n",
       "      <th>2015</th>\n",
       "      <td>27.78</td>\n",
       "      <td>NaN</td>\n",
       "      <td>8.52</td>\n",
       "      <td>16.82</td>\n",
       "      <td>118.90</td>\n",
       "      <td>0.12</td>\n",
       "      <td>6.25</td>\n",
       "      <td>1.14</td>\n",
       "      <td>16.35</td>\n",
       "      <td>11.96</td>\n",
       "      <td>60.14</td>\n",
       "    </tr>\n",
       "    <tr>\n",
       "      <th>2016</th>\n",
       "      <td>15.14</td>\n",
       "      <td>NaN</td>\n",
       "      <td>5.25</td>\n",
       "      <td>3.60</td>\n",
       "      <td>69.25</td>\n",
       "      <td>NaN</td>\n",
       "      <td>4.25</td>\n",
       "      <td>0.18</td>\n",
       "      <td>4.60</td>\n",
       "      <td>1.52</td>\n",
       "      <td>26.15</td>\n",
       "    </tr>\n",
       "  </tbody>\n",
       "</table>\n",
       "</div>"
      ],
      "text/plain": [
       "platform           3DS    DS     PC     PS3     PS4   PSP    PSV   Wii   WiiU  \\\n",
       "year_of_release                                                                 \n",
       "2013             56.57  1.54  12.38  113.25   25.99  3.14  10.59  8.59  21.65   \n",
       "2014             43.76   NaN  13.28   47.76  100.00  0.24  11.90  3.75  22.03   \n",
       "2015             27.78   NaN   8.52   16.82  118.90  0.12   6.25  1.14  16.35   \n",
       "2016             15.14   NaN   5.25    3.60   69.25   NaN   4.25  0.18   4.60   \n",
       "\n",
       "platform          X360   XOne  \n",
       "year_of_release                \n",
       "2013             88.58  18.96  \n",
       "2014             34.74  54.07  \n",
       "2015             11.96  60.14  \n",
       "2016              1.52  26.15  "
      ]
     },
     "execution_count": 119,
     "metadata": {},
     "output_type": "execute_result"
    }
   ],
   "source": [
    "df_platform_year_2013=df_platform_year_2013.sort_values(by='year_of_release', ascending=True)\n",
    "df_platform_year_2013_pt=df_platform_year_2013.pivot_table(index='year_of_release', columns='platform', values='purchase_platform_year')\n",
    "df_platform_year_2013_pt"
   ]
  },
  {
   "cell_type": "code",
   "execution_count": 120,
   "metadata": {},
   "outputs": [
    {
     "data": {
      "image/png": "[encoded data removed]",
      "text/plain": [
       "<Figure size 640x480 with 1 Axes>"
      ]
     },
     "metadata": {},
     "output_type": "display_data"
    }
   ],
   "source": [
    "\n",
    "plt.boxplot([df_platform_year_2013_pt['PS4'],\n",
    "             df_platform_year_2013_pt['PS3'],\n",
    "             df_platform_year_2013_pt['XOne'],\n",
    "             df_platform_year_2013_pt['3DS'],\n",
    "             df_platform_year_2013_pt['X360']], labels=['PS4','PS3','XOne','3DS','X360'])\n",
    "\n",
    "\n",
    "plt.title('Distribucion de ventas de los ultimos 3 años para el top 5 de plataformas')\n",
    "plt.ylabel('Ventas ultimos 3 años')\n",
    "             \n",
    "plt.show()"
   ]
  },
  {
   "cell_type": "markdown",
   "metadata": {},
   "source": [
    "Se evidencia que la mediana para todas las plataformas ha sido diferente,lo que indica la variabilidad de sus ventas, excepto para Xone y 3DS que han tenido un comportamiento parecido. Se observa tambien que la plataforma PS3 ha tenido valores maximos mas alejados de su mediana, lo que indica que ha tenido picos de ventas, mientras que la plataforma PS4 tiene valores consistentes. 3DS tiene una distribucion mas compacta, lo que significa una menor variabilidad en las ventas"
   ]
  },
  {
   "cell_type": "markdown",
   "metadata": {},
   "source": [
    "### Cómo se han afectado las ventas según las calificaciones"
   ]
  },
  {
   "cell_type": "markdown",
   "metadata": {},
   "source": [
    "Se va a elegir la plataforma que mas ventas ha tenido en los ultimos 3 años para verificar cómo han afectado las calificaciones."
   ]
  },
  {
   "cell_type": "code",
   "execution_count": 121,
   "metadata": {},
   "outputs": [
    {
     "data": {
      "text/html": [
       "<div>\n",
       "<style scoped>\n",
       "    .dataframe tbody tr th:only-of-type {\n",
       "        vertical-align: middle;\n",
       "    }\n",
       "\n",
       "    .dataframe tbody tr th {\n",
       "        vertical-align: top;\n",
       "    }\n",
       "\n",
       "    .dataframe thead th {\n",
       "        text-align: right;\n",
       "    }\n",
       "</style>\n",
       "<table border=\"1\" class=\"dataframe\">\n",
       "  <thead>\n",
       "    <tr style=\"text-align: right;\">\n",
       "      <th></th>\n",
       "      <th>name</th>\n",
       "      <th>platform</th>\n",
       "      <th>year_of_release</th>\n",
       "      <th>genre</th>\n",
       "      <th>na_sales</th>\n",
       "      <th>eu_sales</th>\n",
       "      <th>jp_sales</th>\n",
       "      <th>other_sales</th>\n",
       "      <th>critic_score</th>\n",
       "      <th>user_score</th>\n",
       "      <th>rating</th>\n",
       "      <th>total_purchase</th>\n",
       "    </tr>\n",
       "  </thead>\n",
       "  <tbody>\n",
       "    <tr>\n",
       "      <th>31</th>\n",
       "      <td>Call of Duty: Black Ops 3</td>\n",
       "      <td>PS4</td>\n",
       "      <td>2015</td>\n",
       "      <td>Shooter</td>\n",
       "      <td>6.03</td>\n",
       "      <td>5.86</td>\n",
       "      <td>0.36</td>\n",
       "      <td>2.38</td>\n",
       "      <td>71.0</td>\n",
       "      <td>7.5</td>\n",
       "      <td>unknown</td>\n",
       "      <td>14.63</td>\n",
       "    </tr>\n",
       "    <tr>\n",
       "      <th>42</th>\n",
       "      <td>Grand Theft Auto V</td>\n",
       "      <td>PS4</td>\n",
       "      <td>2014</td>\n",
       "      <td>Action</td>\n",
       "      <td>3.96</td>\n",
       "      <td>6.31</td>\n",
       "      <td>0.38</td>\n",
       "      <td>1.97</td>\n",
       "      <td>97.0</td>\n",
       "      <td>8.3</td>\n",
       "      <td>M</td>\n",
       "      <td>12.62</td>\n",
       "    </tr>\n",
       "    <tr>\n",
       "      <th>77</th>\n",
       "      <td>FIFA 16</td>\n",
       "      <td>PS4</td>\n",
       "      <td>2015</td>\n",
       "      <td>Sports</td>\n",
       "      <td>1.12</td>\n",
       "      <td>6.12</td>\n",
       "      <td>0.06</td>\n",
       "      <td>1.28</td>\n",
       "      <td>82.0</td>\n",
       "      <td>4.3</td>\n",
       "      <td>E</td>\n",
       "      <td>8.58</td>\n",
       "    </tr>\n",
       "    <tr>\n",
       "      <th>87</th>\n",
       "      <td>Star Wars Battlefront (2015)</td>\n",
       "      <td>PS4</td>\n",
       "      <td>2015</td>\n",
       "      <td>Shooter</td>\n",
       "      <td>2.99</td>\n",
       "      <td>3.49</td>\n",
       "      <td>0.22</td>\n",
       "      <td>1.28</td>\n",
       "      <td>71.0</td>\n",
       "      <td>7.5</td>\n",
       "      <td>unknown</td>\n",
       "      <td>7.98</td>\n",
       "    </tr>\n",
       "    <tr>\n",
       "      <th>92</th>\n",
       "      <td>Call of Duty: Advanced Warfare</td>\n",
       "      <td>PS4</td>\n",
       "      <td>2014</td>\n",
       "      <td>Shooter</td>\n",
       "      <td>2.81</td>\n",
       "      <td>3.48</td>\n",
       "      <td>0.14</td>\n",
       "      <td>1.23</td>\n",
       "      <td>83.0</td>\n",
       "      <td>5.7</td>\n",
       "      <td>M</td>\n",
       "      <td>7.66</td>\n",
       "    </tr>\n",
       "    <tr>\n",
       "      <th>...</th>\n",
       "      <td>...</td>\n",
       "      <td>...</td>\n",
       "      <td>...</td>\n",
       "      <td>...</td>\n",
       "      <td>...</td>\n",
       "      <td>...</td>\n",
       "      <td>...</td>\n",
       "      <td>...</td>\n",
       "      <td>...</td>\n",
       "      <td>...</td>\n",
       "      <td>...</td>\n",
       "      <td>...</td>\n",
       "    </tr>\n",
       "    <tr>\n",
       "      <th>16500</th>\n",
       "      <td>Root Letter</td>\n",
       "      <td>PS4</td>\n",
       "      <td>2016</td>\n",
       "      <td>Adventure</td>\n",
       "      <td>0.00</td>\n",
       "      <td>0.00</td>\n",
       "      <td>0.01</td>\n",
       "      <td>0.00</td>\n",
       "      <td>69.0</td>\n",
       "      <td>7.5</td>\n",
       "      <td>unknown</td>\n",
       "      <td>0.01</td>\n",
       "    </tr>\n",
       "    <tr>\n",
       "      <th>16503</th>\n",
       "      <td>Shin Hayarigami 2</td>\n",
       "      <td>PS4</td>\n",
       "      <td>2016</td>\n",
       "      <td>Adventure</td>\n",
       "      <td>0.00</td>\n",
       "      <td>0.00</td>\n",
       "      <td>0.01</td>\n",
       "      <td>0.00</td>\n",
       "      <td>71.0</td>\n",
       "      <td>7.5</td>\n",
       "      <td>unknown</td>\n",
       "      <td>0.01</td>\n",
       "    </tr>\n",
       "    <tr>\n",
       "      <th>16526</th>\n",
       "      <td>Dungeons 2</td>\n",
       "      <td>PS4</td>\n",
       "      <td>2016</td>\n",
       "      <td>Role-Playing</td>\n",
       "      <td>0.01</td>\n",
       "      <td>0.00</td>\n",
       "      <td>0.00</td>\n",
       "      <td>0.00</td>\n",
       "      <td>61.0</td>\n",
       "      <td>7.9</td>\n",
       "      <td>T</td>\n",
       "      <td>0.01</td>\n",
       "    </tr>\n",
       "    <tr>\n",
       "      <th>16530</th>\n",
       "      <td>Carmageddon: Max Damage</td>\n",
       "      <td>PS4</td>\n",
       "      <td>2016</td>\n",
       "      <td>Action</td>\n",
       "      <td>0.01</td>\n",
       "      <td>0.00</td>\n",
       "      <td>0.00</td>\n",
       "      <td>0.00</td>\n",
       "      <td>51.0</td>\n",
       "      <td>5.5</td>\n",
       "      <td>M</td>\n",
       "      <td>0.01</td>\n",
       "    </tr>\n",
       "    <tr>\n",
       "      <th>16585</th>\n",
       "      <td>Farming 2017 - The Simulation</td>\n",
       "      <td>PS4</td>\n",
       "      <td>2016</td>\n",
       "      <td>Simulation</td>\n",
       "      <td>0.00</td>\n",
       "      <td>0.01</td>\n",
       "      <td>0.00</td>\n",
       "      <td>0.00</td>\n",
       "      <td>71.0</td>\n",
       "      <td>7.5</td>\n",
       "      <td>unknown</td>\n",
       "      <td>0.01</td>\n",
       "    </tr>\n",
       "  </tbody>\n",
       "</table>\n",
       "<p>392 rows × 12 columns</p>\n",
       "</div>"
      ],
      "text/plain": [
       "                                 name platform  year_of_release         genre  \\\n",
       "31          Call of Duty: Black Ops 3      PS4             2015       Shooter   \n",
       "42                 Grand Theft Auto V      PS4             2014        Action   \n",
       "77                            FIFA 16      PS4             2015        Sports   \n",
       "87       Star Wars Battlefront (2015)      PS4             2015       Shooter   \n",
       "92     Call of Duty: Advanced Warfare      PS4             2014       Shooter   \n",
       "...                               ...      ...              ...           ...   \n",
       "16500                     Root Letter      PS4             2016     Adventure   \n",
       "16503               Shin Hayarigami 2      PS4             2016     Adventure   \n",
       "16526                      Dungeons 2      PS4             2016  Role-Playing   \n",
       "16530         Carmageddon: Max Damage      PS4             2016        Action   \n",
       "16585   Farming 2017 - The Simulation      PS4             2016    Simulation   \n",
       "\n",
       "       na_sales  eu_sales  jp_sales  other_sales  critic_score  user_score  \\\n",
       "31         6.03      5.86      0.36         2.38          71.0         7.5   \n",
       "42         3.96      6.31      0.38         1.97          97.0         8.3   \n",
       "77         1.12      6.12      0.06         1.28          82.0         4.3   \n",
       "87         2.99      3.49      0.22         1.28          71.0         7.5   \n",
       "92         2.81      3.48      0.14         1.23          83.0         5.7   \n",
       "...         ...       ...       ...          ...           ...         ...   \n",
       "16500      0.00      0.00      0.01         0.00          69.0         7.5   \n",
       "16503      0.00      0.00      0.01         0.00          71.0         7.5   \n",
       "16526      0.01      0.00      0.00         0.00          61.0         7.9   \n",
       "16530      0.01      0.00      0.00         0.00          51.0         5.5   \n",
       "16585      0.00      0.01      0.00         0.00          71.0         7.5   \n",
       "\n",
       "        rating  total_purchase  \n",
       "31     unknown           14.63  \n",
       "42           M           12.62  \n",
       "77           E            8.58  \n",
       "87     unknown            7.98  \n",
       "92           M            7.66  \n",
       "...        ...             ...  \n",
       "16500  unknown            0.01  \n",
       "16503  unknown            0.01  \n",
       "16526        T            0.01  \n",
       "16530        M            0.01  \n",
       "16585  unknown            0.01  \n",
       "\n",
       "[392 rows x 12 columns]"
      ]
     },
     "execution_count": 121,
     "metadata": {},
     "output_type": "execute_result"
    }
   ],
   "source": [
    "df_rating=df_2013.query(\"platform=='PS4'\")\n",
    "df_rating"
   ]
  },
  {
   "cell_type": "code",
   "execution_count": 122,
   "metadata": {},
   "outputs": [
    {
     "data": {
      "text/html": [
       "<div>\n",
       "<style scoped>\n",
       "    .dataframe tbody tr th:only-of-type {\n",
       "        vertical-align: middle;\n",
       "    }\n",
       "\n",
       "    .dataframe tbody tr th {\n",
       "        vertical-align: top;\n",
       "    }\n",
       "\n",
       "    .dataframe thead th {\n",
       "        text-align: right;\n",
       "    }\n",
       "</style>\n",
       "<table border=\"1\" class=\"dataframe\">\n",
       "  <thead>\n",
       "    <tr style=\"text-align: right;\">\n",
       "      <th></th>\n",
       "      <th>year_of_release</th>\n",
       "      <th>mean_critic_score</th>\n",
       "    </tr>\n",
       "  </thead>\n",
       "  <tbody>\n",
       "    <tr>\n",
       "      <th>0</th>\n",
       "      <td>2013</td>\n",
       "      <td>70.937500</td>\n",
       "    </tr>\n",
       "    <tr>\n",
       "      <th>1</th>\n",
       "      <td>2014</td>\n",
       "      <td>72.480000</td>\n",
       "    </tr>\n",
       "    <tr>\n",
       "      <th>2</th>\n",
       "      <td>2015</td>\n",
       "      <td>71.722628</td>\n",
       "    </tr>\n",
       "    <tr>\n",
       "      <th>3</th>\n",
       "      <td>2016</td>\n",
       "      <td>71.402439</td>\n",
       "    </tr>\n",
       "  </tbody>\n",
       "</table>\n",
       "</div>"
      ],
      "text/plain": [
       "   year_of_release  mean_critic_score\n",
       "0             2013          70.937500\n",
       "1             2014          72.480000\n",
       "2             2015          71.722628\n",
       "3             2016          71.402439"
      ]
     },
     "execution_count": 122,
     "metadata": {},
     "output_type": "execute_result"
    }
   ],
   "source": [
    "df_rating_PS4=df_rating.groupby('year_of_release')['critic_score'].mean().reset_index(name='mean_critic_score')\n",
    "df_rating_PS4"
   ]
  },
  {
   "cell_type": "code",
   "execution_count": 123,
   "metadata": {},
   "outputs": [
    {
     "data": {
      "text/html": [
       "<div>\n",
       "<style scoped>\n",
       "    .dataframe tbody tr th:only-of-type {\n",
       "        vertical-align: middle;\n",
       "    }\n",
       "\n",
       "    .dataframe tbody tr th {\n",
       "        vertical-align: top;\n",
       "    }\n",
       "\n",
       "    .dataframe thead th {\n",
       "        text-align: right;\n",
       "    }\n",
       "</style>\n",
       "<table border=\"1\" class=\"dataframe\">\n",
       "  <thead>\n",
       "    <tr style=\"text-align: right;\">\n",
       "      <th></th>\n",
       "      <th>year_of_release</th>\n",
       "      <th>mean_user_score</th>\n",
       "    </tr>\n",
       "  </thead>\n",
       "  <tbody>\n",
       "    <tr>\n",
       "      <th>0</th>\n",
       "      <td>2013</td>\n",
       "      <td>5.587500</td>\n",
       "    </tr>\n",
       "    <tr>\n",
       "      <th>1</th>\n",
       "      <td>2014</td>\n",
       "      <td>6.973333</td>\n",
       "    </tr>\n",
       "    <tr>\n",
       "      <th>2</th>\n",
       "      <td>2015</td>\n",
       "      <td>7.062774</td>\n",
       "    </tr>\n",
       "    <tr>\n",
       "      <th>3</th>\n",
       "      <td>2016</td>\n",
       "      <td>7.114634</td>\n",
       "    </tr>\n",
       "  </tbody>\n",
       "</table>\n",
       "</div>"
      ],
      "text/plain": [
       "   year_of_release  mean_user_score\n",
       "0             2013         5.587500\n",
       "1             2014         6.973333\n",
       "2             2015         7.062774\n",
       "3             2016         7.114634"
      ]
     },
     "execution_count": 123,
     "metadata": {},
     "output_type": "execute_result"
    }
   ],
   "source": [
    "df_rating_PS4_user=df_rating.groupby('year_of_release')['user_score'].mean().reset_index(name='mean_user_score')\n",
    "df_rating_PS4_user"
   ]
  },
  {
   "cell_type": "markdown",
   "metadata": {},
   "source": [
    "Al parecer, las calificaciones de los usuarios han mejorado con los años, no de manera significativa, pero si han mejorado, entonces no podriamos concluir que se han bajado las ventas por la percepcion de los usuarios sobre la plataforma"
   ]
  },
  {
   "cell_type": "markdown",
   "metadata": {},
   "source": [
    "### Qué juegos han tenido las mejores calificaciones en los ultimos 3 años "
   ]
  },
  {
   "cell_type": "code",
   "execution_count": 124,
   "metadata": {},
   "outputs": [
    {
     "data": {
      "text/html": [
       "<div>\n",
       "<style scoped>\n",
       "    .dataframe tbody tr th:only-of-type {\n",
       "        vertical-align: middle;\n",
       "    }\n",
       "\n",
       "    .dataframe tbody tr th {\n",
       "        vertical-align: top;\n",
       "    }\n",
       "\n",
       "    .dataframe thead th {\n",
       "        text-align: right;\n",
       "    }\n",
       "</style>\n",
       "<table border=\"1\" class=\"dataframe\">\n",
       "  <thead>\n",
       "    <tr style=\"text-align: right;\">\n",
       "      <th></th>\n",
       "      <th>name</th>\n",
       "      <th>platform</th>\n",
       "      <th>year_of_release</th>\n",
       "      <th>genre</th>\n",
       "      <th>na_sales</th>\n",
       "      <th>eu_sales</th>\n",
       "      <th>jp_sales</th>\n",
       "      <th>other_sales</th>\n",
       "      <th>critic_score</th>\n",
       "      <th>user_score</th>\n",
       "      <th>rating</th>\n",
       "      <th>total_purchase</th>\n",
       "    </tr>\n",
       "  </thead>\n",
       "  <tbody>\n",
       "    <tr>\n",
       "      <th>16</th>\n",
       "      <td>Grand Theft Auto V</td>\n",
       "      <td>PS3</td>\n",
       "      <td>2013</td>\n",
       "      <td>Action</td>\n",
       "      <td>7.02</td>\n",
       "      <td>9.09</td>\n",
       "      <td>0.98</td>\n",
       "      <td>3.96</td>\n",
       "      <td>97.0</td>\n",
       "      <td>8.2</td>\n",
       "      <td>M</td>\n",
       "      <td>21.05</td>\n",
       "    </tr>\n",
       "    <tr>\n",
       "      <th>165</th>\n",
       "      <td>Grand Theft Auto V</td>\n",
       "      <td>XOne</td>\n",
       "      <td>2014</td>\n",
       "      <td>Action</td>\n",
       "      <td>2.81</td>\n",
       "      <td>2.19</td>\n",
       "      <td>0.00</td>\n",
       "      <td>0.47</td>\n",
       "      <td>97.0</td>\n",
       "      <td>7.9</td>\n",
       "      <td>M</td>\n",
       "      <td>5.47</td>\n",
       "    </tr>\n",
       "    <tr>\n",
       "      <th>23</th>\n",
       "      <td>Grand Theft Auto V</td>\n",
       "      <td>X360</td>\n",
       "      <td>2013</td>\n",
       "      <td>Action</td>\n",
       "      <td>9.66</td>\n",
       "      <td>5.14</td>\n",
       "      <td>0.06</td>\n",
       "      <td>1.41</td>\n",
       "      <td>97.0</td>\n",
       "      <td>8.1</td>\n",
       "      <td>M</td>\n",
       "      <td>16.27</td>\n",
       "    </tr>\n",
       "    <tr>\n",
       "      <th>42</th>\n",
       "      <td>Grand Theft Auto V</td>\n",
       "      <td>PS4</td>\n",
       "      <td>2014</td>\n",
       "      <td>Action</td>\n",
       "      <td>3.96</td>\n",
       "      <td>6.31</td>\n",
       "      <td>0.38</td>\n",
       "      <td>1.97</td>\n",
       "      <td>97.0</td>\n",
       "      <td>8.3</td>\n",
       "      <td>M</td>\n",
       "      <td>12.62</td>\n",
       "    </tr>\n",
       "    <tr>\n",
       "      <th>1730</th>\n",
       "      <td>Grand Theft Auto V</td>\n",
       "      <td>PC</td>\n",
       "      <td>2015</td>\n",
       "      <td>Action</td>\n",
       "      <td>0.39</td>\n",
       "      <td>0.69</td>\n",
       "      <td>0.00</td>\n",
       "      <td>0.09</td>\n",
       "      <td>96.0</td>\n",
       "      <td>7.9</td>\n",
       "      <td>M</td>\n",
       "      <td>1.17</td>\n",
       "    </tr>\n",
       "    <tr>\n",
       "      <th>...</th>\n",
       "      <td>...</td>\n",
       "      <td>...</td>\n",
       "      <td>...</td>\n",
       "      <td>...</td>\n",
       "      <td>...</td>\n",
       "      <td>...</td>\n",
       "      <td>...</td>\n",
       "      <td>...</td>\n",
       "      <td>...</td>\n",
       "      <td>...</td>\n",
       "      <td>...</td>\n",
       "      <td>...</td>\n",
       "    </tr>\n",
       "    <tr>\n",
       "      <th>7790</th>\n",
       "      <td>Fighter Within</td>\n",
       "      <td>XOne</td>\n",
       "      <td>2013</td>\n",
       "      <td>Fighting</td>\n",
       "      <td>0.11</td>\n",
       "      <td>0.07</td>\n",
       "      <td>0.00</td>\n",
       "      <td>0.02</td>\n",
       "      <td>23.0</td>\n",
       "      <td>3.0</td>\n",
       "      <td>T</td>\n",
       "      <td>0.20</td>\n",
       "    </tr>\n",
       "    <tr>\n",
       "      <th>11222</th>\n",
       "      <td>Rugby 15</td>\n",
       "      <td>XOne</td>\n",
       "      <td>2015</td>\n",
       "      <td>Sports</td>\n",
       "      <td>0.03</td>\n",
       "      <td>0.05</td>\n",
       "      <td>0.00</td>\n",
       "      <td>0.01</td>\n",
       "      <td>20.0</td>\n",
       "      <td>3.1</td>\n",
       "      <td>E</td>\n",
       "      <td>0.09</td>\n",
       "    </tr>\n",
       "    <tr>\n",
       "      <th>12822</th>\n",
       "      <td>Ride to Hell</td>\n",
       "      <td>X360</td>\n",
       "      <td>2013</td>\n",
       "      <td>Racing</td>\n",
       "      <td>0.04</td>\n",
       "      <td>0.01</td>\n",
       "      <td>0.00</td>\n",
       "      <td>0.01</td>\n",
       "      <td>19.0</td>\n",
       "      <td>1.3</td>\n",
       "      <td>M</td>\n",
       "      <td>0.06</td>\n",
       "    </tr>\n",
       "    <tr>\n",
       "      <th>10015</th>\n",
       "      <td>Rugby 15</td>\n",
       "      <td>PS4</td>\n",
       "      <td>2015</td>\n",
       "      <td>Sports</td>\n",
       "      <td>0.04</td>\n",
       "      <td>0.06</td>\n",
       "      <td>0.00</td>\n",
       "      <td>0.02</td>\n",
       "      <td>19.0</td>\n",
       "      <td>3.4</td>\n",
       "      <td>E</td>\n",
       "      <td>0.12</td>\n",
       "    </tr>\n",
       "    <tr>\n",
       "      <th>13689</th>\n",
       "      <td>Ride to Hell</td>\n",
       "      <td>PS3</td>\n",
       "      <td>2013</td>\n",
       "      <td>Racing</td>\n",
       "      <td>0.02</td>\n",
       "      <td>0.01</td>\n",
       "      <td>0.00</td>\n",
       "      <td>0.01</td>\n",
       "      <td>13.0</td>\n",
       "      <td>1.0</td>\n",
       "      <td>M</td>\n",
       "      <td>0.04</td>\n",
       "    </tr>\n",
       "  </tbody>\n",
       "</table>\n",
       "<p>2233 rows × 12 columns</p>\n",
       "</div>"
      ],
      "text/plain": [
       "                     name platform  year_of_release     genre  na_sales  \\\n",
       "16     Grand Theft Auto V      PS3             2013    Action      7.02   \n",
       "165    Grand Theft Auto V     XOne             2014    Action      2.81   \n",
       "23     Grand Theft Auto V     X360             2013    Action      9.66   \n",
       "42     Grand Theft Auto V      PS4             2014    Action      3.96   \n",
       "1730   Grand Theft Auto V       PC             2015    Action      0.39   \n",
       "...                   ...      ...              ...       ...       ...   \n",
       "7790       Fighter Within     XOne             2013  Fighting      0.11   \n",
       "11222            Rugby 15     XOne             2015    Sports      0.03   \n",
       "12822        Ride to Hell     X360             2013    Racing      0.04   \n",
       "10015            Rugby 15      PS4             2015    Sports      0.04   \n",
       "13689        Ride to Hell      PS3             2013    Racing      0.02   \n",
       "\n",
       "       eu_sales  jp_sales  other_sales  critic_score  user_score rating  \\\n",
       "16         9.09      0.98         3.96          97.0         8.2      M   \n",
       "165        2.19      0.00         0.47          97.0         7.9      M   \n",
       "23         5.14      0.06         1.41          97.0         8.1      M   \n",
       "42         6.31      0.38         1.97          97.0         8.3      M   \n",
       "1730       0.69      0.00         0.09          96.0         7.9      M   \n",
       "...         ...       ...          ...           ...         ...    ...   \n",
       "7790       0.07      0.00         0.02          23.0         3.0      T   \n",
       "11222      0.05      0.00         0.01          20.0         3.1      E   \n",
       "12822      0.01      0.00         0.01          19.0         1.3      M   \n",
       "10015      0.06      0.00         0.02          19.0         3.4      E   \n",
       "13689      0.01      0.00         0.01          13.0         1.0      M   \n",
       "\n",
       "       total_purchase  \n",
       "16              21.05  \n",
       "165              5.47  \n",
       "23              16.27  \n",
       "42              12.62  \n",
       "1730             1.17  \n",
       "...               ...  \n",
       "7790             0.20  \n",
       "11222            0.09  \n",
       "12822            0.06  \n",
       "10015            0.12  \n",
       "13689            0.04  \n",
       "\n",
       "[2233 rows x 12 columns]"
      ]
     },
     "execution_count": 124,
     "metadata": {},
     "output_type": "execute_result"
    }
   ],
   "source": [
    "df_best_games=df_2013.sort_values(by='critic_score', ascending=False)\n",
    "df_best_games"
   ]
  },
  {
   "cell_type": "code",
   "execution_count": 125,
   "metadata": {},
   "outputs": [
    {
     "data": {
      "text/html": [
       "<div>\n",
       "<style scoped>\n",
       "    .dataframe tbody tr th:only-of-type {\n",
       "        vertical-align: middle;\n",
       "    }\n",
       "\n",
       "    .dataframe tbody tr th {\n",
       "        vertical-align: top;\n",
       "    }\n",
       "\n",
       "    .dataframe thead th {\n",
       "        text-align: right;\n",
       "    }\n",
       "</style>\n",
       "<table border=\"1\" class=\"dataframe\">\n",
       "  <thead>\n",
       "    <tr style=\"text-align: right;\">\n",
       "      <th></th>\n",
       "      <th>name</th>\n",
       "      <th>mean_critic_score</th>\n",
       "    </tr>\n",
       "  </thead>\n",
       "  <tbody>\n",
       "    <tr>\n",
       "      <th>430</th>\n",
       "      <td>Grand Theft Auto V</td>\n",
       "      <td>96.800000</td>\n",
       "    </tr>\n",
       "    <tr>\n",
       "      <th>114</th>\n",
       "      <td>BioShock Infinite</td>\n",
       "      <td>93.666667</td>\n",
       "    </tr>\n",
       "    <tr>\n",
       "      <th>655</th>\n",
       "      <td>Metal Gear Solid: The Legacy Collection</td>\n",
       "      <td>93.000000</td>\n",
       "    </tr>\n",
       "    <tr>\n",
       "      <th>1010</th>\n",
       "      <td>Super Mario 3D World</td>\n",
       "      <td>93.000000</td>\n",
       "    </tr>\n",
       "    <tr>\n",
       "      <th>1174</th>\n",
       "      <td>Uncharted 4: A Thief's End</td>\n",
       "      <td>93.000000</td>\n",
       "    </tr>\n",
       "    <tr>\n",
       "      <th>122</th>\n",
       "      <td>Bloodborne</td>\n",
       "      <td>92.000000</td>\n",
       "    </tr>\n",
       "    <tr>\n",
       "      <th>1114</th>\n",
       "      <td>The Witcher 3: Wild Hunt</td>\n",
       "      <td>92.000000</td>\n",
       "    </tr>\n",
       "    <tr>\n",
       "      <th>374</th>\n",
       "      <td>Forza Horizon 3</td>\n",
       "      <td>91.000000</td>\n",
       "    </tr>\n",
       "    <tr>\n",
       "      <th>1091</th>\n",
       "      <td>The Legend of Zelda: A Link Between Worlds</td>\n",
       "      <td>91.000000</td>\n",
       "    </tr>\n",
       "    <tr>\n",
       "      <th>106</th>\n",
       "      <td>Bayonetta 2</td>\n",
       "      <td>91.000000</td>\n",
       "    </tr>\n",
       "  </tbody>\n",
       "</table>\n",
       "</div>"
      ],
      "text/plain": [
       "                                            name  mean_critic_score\n",
       "430                           Grand Theft Auto V          96.800000\n",
       "114                            BioShock Infinite          93.666667\n",
       "655      Metal Gear Solid: The Legacy Collection          93.000000\n",
       "1010                        Super Mario 3D World          93.000000\n",
       "1174                  Uncharted 4: A Thief's End          93.000000\n",
       "122                                   Bloodborne          92.000000\n",
       "1114                    The Witcher 3: Wild Hunt          92.000000\n",
       "374                              Forza Horizon 3          91.000000\n",
       "1091  The Legend of Zelda: A Link Between Worlds          91.000000\n",
       "106                                  Bayonetta 2          91.000000"
      ]
     },
     "execution_count": 125,
     "metadata": {},
     "output_type": "execute_result"
    }
   ],
   "source": [
    "#Mejores juegos segun el critic_score\n",
    "\n",
    "df_best_games=df_2013.groupby('name')['critic_score'].mean().reset_index(name='mean_critic_score')\n",
    "df_best_games=df_best_games.sort_values(by='mean_critic_score', ascending=False)\n",
    "df_best_games.head(10)"
   ]
  },
  {
   "cell_type": "code",
   "execution_count": 126,
   "metadata": {},
   "outputs": [
    {
     "data": {
      "text/html": [
       "<div>\n",
       "<style scoped>\n",
       "    .dataframe tbody tr th:only-of-type {\n",
       "        vertical-align: middle;\n",
       "    }\n",
       "\n",
       "    .dataframe tbody tr th {\n",
       "        vertical-align: top;\n",
       "    }\n",
       "\n",
       "    .dataframe thead th {\n",
       "        text-align: right;\n",
       "    }\n",
       "</style>\n",
       "<table border=\"1\" class=\"dataframe\">\n",
       "  <thead>\n",
       "    <tr style=\"text-align: right;\">\n",
       "      <th></th>\n",
       "      <th>name</th>\n",
       "      <th>mean_user_score</th>\n",
       "    </tr>\n",
       "  </thead>\n",
       "  <tbody>\n",
       "    <tr>\n",
       "      <th>1114</th>\n",
       "      <td>The Witcher 3: Wild Hunt</td>\n",
       "      <td>9.233333</td>\n",
       "    </tr>\n",
       "    <tr>\n",
       "      <th>987</th>\n",
       "      <td>Steins;Gate</td>\n",
       "      <td>9.200000</td>\n",
       "    </tr>\n",
       "    <tr>\n",
       "      <th>633</th>\n",
       "      <td>Mario Kart 8</td>\n",
       "      <td>9.100000</td>\n",
       "    </tr>\n",
       "    <tr>\n",
       "      <th>655</th>\n",
       "      <td>Metal Gear Solid: The Legacy Collection</td>\n",
       "      <td>9.000000</td>\n",
       "    </tr>\n",
       "    <tr>\n",
       "      <th>786</th>\n",
       "      <td>Phoenix Wright: Ace Attorney Trilogy</td>\n",
       "      <td>9.000000</td>\n",
       "    </tr>\n",
       "    <tr>\n",
       "      <th>1092</th>\n",
       "      <td>The Legend of Zelda: Majora's Mask 3D</td>\n",
       "      <td>9.000000</td>\n",
       "    </tr>\n",
       "    <tr>\n",
       "      <th>1010</th>\n",
       "      <td>Super Mario 3D World</td>\n",
       "      <td>9.000000</td>\n",
       "    </tr>\n",
       "    <tr>\n",
       "      <th>261</th>\n",
       "      <td>Donkey Kong Country: Tropical Freeze</td>\n",
       "      <td>8.900000</td>\n",
       "    </tr>\n",
       "    <tr>\n",
       "      <th>158</th>\n",
       "      <td>Cities: Skylines</td>\n",
       "      <td>8.900000</td>\n",
       "    </tr>\n",
       "    <tr>\n",
       "      <th>1228</th>\n",
       "      <td>Xenoblade Chronicles X</td>\n",
       "      <td>8.900000</td>\n",
       "    </tr>\n",
       "  </tbody>\n",
       "</table>\n",
       "</div>"
      ],
      "text/plain": [
       "                                         name  mean_user_score\n",
       "1114                 The Witcher 3: Wild Hunt         9.233333\n",
       "987                               Steins;Gate         9.200000\n",
       "633                              Mario Kart 8         9.100000\n",
       "655   Metal Gear Solid: The Legacy Collection         9.000000\n",
       "786      Phoenix Wright: Ace Attorney Trilogy         9.000000\n",
       "1092    The Legend of Zelda: Majora's Mask 3D         9.000000\n",
       "1010                     Super Mario 3D World         9.000000\n",
       "261      Donkey Kong Country: Tropical Freeze         8.900000\n",
       "158                          Cities: Skylines         8.900000\n",
       "1228                   Xenoblade Chronicles X         8.900000"
      ]
     },
     "execution_count": 126,
     "metadata": {},
     "output_type": "execute_result"
    }
   ],
   "source": [
    "#Mejores juegos segun el user_score\n",
    "df_best_games_user=df_2013.groupby('name')['user_score'].mean().reset_index(name='mean_user_score')\n",
    "df_best_games_user=df_best_games_user.sort_values(by='mean_user_score', ascending=False)\n",
    "df_best_games_user.head(10)"
   ]
  },
  {
   "cell_type": "code",
   "execution_count": 127,
   "metadata": {
    "scrolled": true
   },
   "outputs": [
    {
     "data": {
      "text/html": [
       "<div>\n",
       "<style scoped>\n",
       "    .dataframe tbody tr th:only-of-type {\n",
       "        vertical-align: middle;\n",
       "    }\n",
       "\n",
       "    .dataframe tbody tr th {\n",
       "        vertical-align: top;\n",
       "    }\n",
       "\n",
       "    .dataframe thead th {\n",
       "        text-align: right;\n",
       "    }\n",
       "</style>\n",
       "<table border=\"1\" class=\"dataframe\">\n",
       "  <thead>\n",
       "    <tr style=\"text-align: right;\">\n",
       "      <th></th>\n",
       "      <th>name</th>\n",
       "      <th>platform</th>\n",
       "      <th>critic_score</th>\n",
       "      <th>user_score</th>\n",
       "      <th>rating</th>\n",
       "      <th>genre</th>\n",
       "      <th>total_purchase</th>\n",
       "    </tr>\n",
       "  </thead>\n",
       "  <tbody>\n",
       "    <tr>\n",
       "      <th>748</th>\n",
       "      <td>Grand Theft Auto V</td>\n",
       "      <td>PS3</td>\n",
       "      <td>97.0</td>\n",
       "      <td>8.2</td>\n",
       "      <td>M</td>\n",
       "      <td>Action</td>\n",
       "      <td>21.05</td>\n",
       "    </tr>\n",
       "    <tr>\n",
       "      <th>750</th>\n",
       "      <td>Grand Theft Auto V</td>\n",
       "      <td>X360</td>\n",
       "      <td>97.0</td>\n",
       "      <td>8.1</td>\n",
       "      <td>M</td>\n",
       "      <td>Action</td>\n",
       "      <td>16.27</td>\n",
       "    </tr>\n",
       "    <tr>\n",
       "      <th>254</th>\n",
       "      <td>Call of Duty: Black Ops 3</td>\n",
       "      <td>PS4</td>\n",
       "      <td>71.0</td>\n",
       "      <td>7.5</td>\n",
       "      <td>unknown</td>\n",
       "      <td>Shooter</td>\n",
       "      <td>14.63</td>\n",
       "    </tr>\n",
       "    <tr>\n",
       "      <th>1402</th>\n",
       "      <td>Pokemon X/Pokemon Y</td>\n",
       "      <td>3DS</td>\n",
       "      <td>71.0</td>\n",
       "      <td>7.5</td>\n",
       "      <td>unknown</td>\n",
       "      <td>Role-Playing</td>\n",
       "      <td>14.60</td>\n",
       "    </tr>\n",
       "    <tr>\n",
       "      <th>749</th>\n",
       "      <td>Grand Theft Auto V</td>\n",
       "      <td>PS4</td>\n",
       "      <td>97.0</td>\n",
       "      <td>8.3</td>\n",
       "      <td>M</td>\n",
       "      <td>Action</td>\n",
       "      <td>12.62</td>\n",
       "    </tr>\n",
       "    <tr>\n",
       "      <th>1398</th>\n",
       "      <td>Pokemon Omega Ruby/Pokemon Alpha Sapphire</td>\n",
       "      <td>3DS</td>\n",
       "      <td>71.0</td>\n",
       "      <td>7.5</td>\n",
       "      <td>unknown</td>\n",
       "      <td>Role-Playing</td>\n",
       "      <td>11.68</td>\n",
       "    </tr>\n",
       "    <tr>\n",
       "      <th>261</th>\n",
       "      <td>Call of Duty: Ghosts</td>\n",
       "      <td>X360</td>\n",
       "      <td>73.0</td>\n",
       "      <td>2.6</td>\n",
       "      <td>M</td>\n",
       "      <td>Shooter</td>\n",
       "      <td>10.24</td>\n",
       "    </tr>\n",
       "    <tr>\n",
       "      <th>258</th>\n",
       "      <td>Call of Duty: Ghosts</td>\n",
       "      <td>PS3</td>\n",
       "      <td>71.0</td>\n",
       "      <td>2.6</td>\n",
       "      <td>M</td>\n",
       "      <td>Shooter</td>\n",
       "      <td>9.36</td>\n",
       "    </tr>\n",
       "    <tr>\n",
       "      <th>1167</th>\n",
       "      <td>Minecraft</td>\n",
       "      <td>X360</td>\n",
       "      <td>71.0</td>\n",
       "      <td>7.5</td>\n",
       "      <td>unknown</td>\n",
       "      <td>Misc</td>\n",
       "      <td>9.18</td>\n",
       "    </tr>\n",
       "    <tr>\n",
       "      <th>606</th>\n",
       "      <td>FIFA 16</td>\n",
       "      <td>PS4</td>\n",
       "      <td>82.0</td>\n",
       "      <td>4.3</td>\n",
       "      <td>E</td>\n",
       "      <td>Sports</td>\n",
       "      <td>8.58</td>\n",
       "    </tr>\n",
       "  </tbody>\n",
       "</table>\n",
       "</div>"
      ],
      "text/plain": [
       "                                           name platform  critic_score  \\\n",
       "748                          Grand Theft Auto V      PS3          97.0   \n",
       "750                          Grand Theft Auto V     X360          97.0   \n",
       "254                   Call of Duty: Black Ops 3      PS4          71.0   \n",
       "1402                        Pokemon X/Pokemon Y      3DS          71.0   \n",
       "749                          Grand Theft Auto V      PS4          97.0   \n",
       "1398  Pokemon Omega Ruby/Pokemon Alpha Sapphire      3DS          71.0   \n",
       "261                        Call of Duty: Ghosts     X360          73.0   \n",
       "258                        Call of Duty: Ghosts      PS3          71.0   \n",
       "1167                                  Minecraft     X360          71.0   \n",
       "606                                     FIFA 16      PS4          82.0   \n",
       "\n",
       "      user_score   rating         genre  total_purchase  \n",
       "748          8.2        M        Action           21.05  \n",
       "750          8.1        M        Action           16.27  \n",
       "254          7.5  unknown       Shooter           14.63  \n",
       "1402         7.5  unknown  Role-Playing           14.60  \n",
       "749          8.3        M        Action           12.62  \n",
       "1398         7.5  unknown  Role-Playing           11.68  \n",
       "261          2.6        M       Shooter           10.24  \n",
       "258          2.6        M       Shooter            9.36  \n",
       "1167         7.5  unknown          Misc            9.18  \n",
       "606          4.3        E        Sports            8.58  "
      ]
     },
     "execution_count": 127,
     "metadata": {},
     "output_type": "execute_result"
    }
   ],
   "source": [
    "# Los 10 juegos que mas ventas tuvieron\n",
    "\n",
    "df_best_games_purchase=df_2013.groupby(['name', 'platform','critic_score','user_score', 'rating','genre'])['total_purchase'].mean().reset_index(name='total_purchase')\n",
    "df_best_games_purchase=df_best_games_purchase.sort_values(by='total_purchase', ascending=False).head(10)\n",
    "df_best_games_purchase"
   ]
  },
  {
   "cell_type": "markdown",
   "metadata": {},
   "source": [
    "Como se puede ver en la tabla, las calificaciones no estan directamente relacionadas con la cantidad de ventas, dado que hay juegos que tienen mejores calificaciones y no han presentado grandes volumenes de ventas, sin embargo, lo confirmaremos graficando los datos y obteniendo la correlacion. El juego que mas destaca por su puntaje y las ventas que ha tenido es Grand Theft Auto V."
   ]
  },
  {
   "cell_type": "markdown",
   "metadata": {},
   "source": [
    "### Grafico de dispersion entre las calificaciones y las ventas"
   ]
  },
  {
   "cell_type": "code",
   "execution_count": 128,
   "metadata": {},
   "outputs": [
    {
     "data": {
      "image/png": "[encoded data removed]",
      "text/plain": [
       "<Figure size 640x480 with 1 Axes>"
      ]
     },
     "metadata": {},
     "output_type": "display_data"
    }
   ],
   "source": [
    "import seaborn as sns\n",
    "\n",
    "\n",
    "sns.scatterplot(x=df_best_games_purchase['critic_score'],y=df_best_games_purchase['total_purchase'], color='#d08c60')\n",
    "plt.xlabel('Puntaje critico')\n",
    "plt.ylabel('Ventas en millones')\n",
    "plt.title('Relacion entre las ventas y la calificacion critica')\n",
    "plt.show()\n"
   ]
  },
  {
   "cell_type": "code",
   "execution_count": 129,
   "metadata": {},
   "outputs": [
    {
     "data": {
      "image/png": "[encoded data removed]",
      "text/plain": [
       "<Figure size 640x480 with 1 Axes>"
      ]
     },
     "metadata": {},
     "output_type": "display_data"
    }
   ],
   "source": [
    "import seaborn as sns\n",
    "\n",
    "\n",
    "sns.scatterplot(x=df_best_games_purchase['user_score'],y=df_best_games_purchase['total_purchase'], color='#937662')\n",
    "plt.xlabel('Puntaje de los usuarios')\n",
    "plt.ylabel('Ventas en millones')\n",
    "plt.title('Relacion entre las ventas y la calificacion de los usuarios')\n",
    "plt.show()\n"
   ]
  },
  {
   "cell_type": "code",
   "execution_count": 130,
   "metadata": {},
   "outputs": [
    {
     "name": "stdout",
     "output_type": "stream",
     "text": [
      "Correlacion de las calificaciones criticas y las ventas                 critic_score  total_purchase\n",
      "critic_score        1.000000        0.578212\n",
      "total_purchase      0.578212        1.000000\n",
      "Correlacion de las calificaciones de los usuarios y las ventas                 user_score  total_purchase\n",
      "user_score         1.00000         0.62724\n",
      "total_purchase     0.62724         1.00000\n"
     ]
    }
   ],
   "source": [
    "correlacion_critic=df_best_games_purchase[['critic_score','total_purchase']].corr()\n",
    "correlacion_user=df_best_games_purchase[['user_score','total_purchase']].corr()\n",
    "\n",
    "print(f'Correlacion de las calificaciones criticas y las ventas', correlacion_critic)\n",
    "\n",
    "print(f'Correlacion de las calificaciones de los usuarios y las ventas', correlacion_user)"
   ]
  },
  {
   "cell_type": "markdown",
   "metadata": {},
   "source": [
    "Confirmando lo observado en la tabla, las graficas nos muestran que la dispersion de los datos no tiende a ser lineal ni a tener una forma en especifico, por lo que no podemos asegurar que las calificaciones son directamente proporcionales al volumen de ventas, su correlacion es 0.5 y 0.6 para las dos calificaciones, al estar lejos del valor 1, corroboramos la no linealidad de los datos."
   ]
  },
  {
   "cell_type": "markdown",
   "metadata": {},
   "source": [
    "### Los 10 juegos que menos ventas han recibido"
   ]
  },
  {
   "cell_type": "code",
   "execution_count": 131,
   "metadata": {},
   "outputs": [
    {
     "data": {
      "text/html": [
       "<div>\n",
       "<style scoped>\n",
       "    .dataframe tbody tr th:only-of-type {\n",
       "        vertical-align: middle;\n",
       "    }\n",
       "\n",
       "    .dataframe tbody tr th {\n",
       "        vertical-align: top;\n",
       "    }\n",
       "\n",
       "    .dataframe thead th {\n",
       "        text-align: right;\n",
       "    }\n",
       "</style>\n",
       "<table border=\"1\" class=\"dataframe\">\n",
       "  <thead>\n",
       "    <tr style=\"text-align: right;\">\n",
       "      <th></th>\n",
       "      <th>name</th>\n",
       "      <th>platform</th>\n",
       "      <th>critic_score</th>\n",
       "      <th>user_score</th>\n",
       "      <th>rating</th>\n",
       "      <th>genre</th>\n",
       "      <th>total_purchase</th>\n",
       "    </tr>\n",
       "  </thead>\n",
       "  <tbody>\n",
       "    <tr>\n",
       "      <th>1116</th>\n",
       "      <td>Mark McMorris Infinite Air</td>\n",
       "      <td>XOne</td>\n",
       "      <td>71.0</td>\n",
       "      <td>7.1</td>\n",
       "      <td>T</td>\n",
       "      <td>Sports</td>\n",
       "      <td>0.01</td>\n",
       "    </tr>\n",
       "    <tr>\n",
       "      <th>1455</th>\n",
       "      <td>Prototype: Biohazard Bundle</td>\n",
       "      <td>XOne</td>\n",
       "      <td>56.0</td>\n",
       "      <td>3.1</td>\n",
       "      <td>M</td>\n",
       "      <td>Action</td>\n",
       "      <td>0.01</td>\n",
       "    </tr>\n",
       "    <tr>\n",
       "      <th>1457</th>\n",
       "      <td>Psycho-Pass</td>\n",
       "      <td>XOne</td>\n",
       "      <td>71.0</td>\n",
       "      <td>7.5</td>\n",
       "      <td>unknown</td>\n",
       "      <td>Adventure</td>\n",
       "      <td>0.01</td>\n",
       "    </tr>\n",
       "    <tr>\n",
       "      <th>274</th>\n",
       "      <td>Cartoon Network Battle Crashers</td>\n",
       "      <td>3DS</td>\n",
       "      <td>71.0</td>\n",
       "      <td>7.5</td>\n",
       "      <td>E10+</td>\n",
       "      <td>Action</td>\n",
       "      <td>0.01</td>\n",
       "    </tr>\n",
       "    <tr>\n",
       "      <th>272</th>\n",
       "      <td>Carmageddon: Max Damage</td>\n",
       "      <td>PS4</td>\n",
       "      <td>51.0</td>\n",
       "      <td>5.5</td>\n",
       "      <td>M</td>\n",
       "      <td>Action</td>\n",
       "      <td>0.01</td>\n",
       "    </tr>\n",
       "    <tr>\n",
       "      <th>1470</th>\n",
       "      <td>Quantum Break</td>\n",
       "      <td>PC</td>\n",
       "      <td>66.0</td>\n",
       "      <td>4.3</td>\n",
       "      <td>M</td>\n",
       "      <td>Action</td>\n",
       "      <td>0.01</td>\n",
       "    </tr>\n",
       "    <tr>\n",
       "      <th>1472</th>\n",
       "      <td>R.B.I. Baseball 2016</td>\n",
       "      <td>PS4</td>\n",
       "      <td>71.0</td>\n",
       "      <td>7.5</td>\n",
       "      <td>unknown</td>\n",
       "      <td>Sports</td>\n",
       "      <td>0.01</td>\n",
       "    </tr>\n",
       "    <tr>\n",
       "      <th>1454</th>\n",
       "      <td>Prototype: Biohazard Bundle</td>\n",
       "      <td>PS4</td>\n",
       "      <td>48.0</td>\n",
       "      <td>2.0</td>\n",
       "      <td>M</td>\n",
       "      <td>Action</td>\n",
       "      <td>0.01</td>\n",
       "    </tr>\n",
       "    <tr>\n",
       "      <th>1475</th>\n",
       "      <td>Rabbids Invasion: The Interactive TV Show</td>\n",
       "      <td>PS4</td>\n",
       "      <td>71.0</td>\n",
       "      <td>7.5</td>\n",
       "      <td>unknown</td>\n",
       "      <td>Misc</td>\n",
       "      <td>0.01</td>\n",
       "    </tr>\n",
       "    <tr>\n",
       "      <th>1483</th>\n",
       "      <td>Raven's Cry</td>\n",
       "      <td>PS4</td>\n",
       "      <td>71.0</td>\n",
       "      <td>7.5</td>\n",
       "      <td>unknown</td>\n",
       "      <td>Role-Playing</td>\n",
       "      <td>0.01</td>\n",
       "    </tr>\n",
       "  </tbody>\n",
       "</table>\n",
       "</div>"
      ],
      "text/plain": [
       "                                           name platform  critic_score  \\\n",
       "1116                 Mark McMorris Infinite Air     XOne          71.0   \n",
       "1455                Prototype: Biohazard Bundle     XOne          56.0   \n",
       "1457                                Psycho-Pass     XOne          71.0   \n",
       "274             Cartoon Network Battle Crashers      3DS          71.0   \n",
       "272                     Carmageddon: Max Damage      PS4          51.0   \n",
       "1470                              Quantum Break       PC          66.0   \n",
       "1472                       R.B.I. Baseball 2016      PS4          71.0   \n",
       "1454                Prototype: Biohazard Bundle      PS4          48.0   \n",
       "1475  Rabbids Invasion: The Interactive TV Show      PS4          71.0   \n",
       "1483                                Raven's Cry      PS4          71.0   \n",
       "\n",
       "      user_score   rating         genre  total_purchase  \n",
       "1116         7.1        T        Sports            0.01  \n",
       "1455         3.1        M        Action            0.01  \n",
       "1457         7.5  unknown     Adventure            0.01  \n",
       "274          7.5     E10+        Action            0.01  \n",
       "272          5.5        M        Action            0.01  \n",
       "1470         4.3        M        Action            0.01  \n",
       "1472         7.5  unknown        Sports            0.01  \n",
       "1454         2.0        M        Action            0.01  \n",
       "1475         7.5  unknown          Misc            0.01  \n",
       "1483         7.5  unknown  Role-Playing            0.01  "
      ]
     },
     "execution_count": 131,
     "metadata": {},
     "output_type": "execute_result"
    }
   ],
   "source": [
    "df_worst_games_purchase=df_2013.groupby(['name', 'platform','critic_score','user_score', 'rating','genre'])['total_purchase'].mean().reset_index(name='total_purchase')\n",
    "df_worst_games_purchase=df_worst_games_purchase.sort_values(by='total_purchase', ascending=True).head(10)\n",
    "df_worst_games_purchase"
   ]
  },
  {
   "cell_type": "markdown",
   "metadata": {},
   "source": [
    "En cuanto al genero de los juegos, se observa que tanto los 10 mejores como los 10 peores tienen generos de accion, y de roles, sin embargo, categorias como deportes y disparos no se encuentra en ambos listados."
   ]
  },
  {
   "cell_type": "markdown",
   "metadata": {},
   "source": [
    "### Análisis por región "
   ]
  },
  {
   "cell_type": "markdown",
   "metadata": {},
   "source": [
    "#### Región NA "
   ]
  },
  {
   "cell_type": "code",
   "execution_count": 132,
   "metadata": {},
   "outputs": [
    {
     "data": {
      "text/html": [
       "<div>\n",
       "<style scoped>\n",
       "    .dataframe tbody tr th:only-of-type {\n",
       "        vertical-align: middle;\n",
       "    }\n",
       "\n",
       "    .dataframe tbody tr th {\n",
       "        vertical-align: top;\n",
       "    }\n",
       "\n",
       "    .dataframe thead th {\n",
       "        text-align: right;\n",
       "    }\n",
       "</style>\n",
       "<table border=\"1\" class=\"dataframe\">\n",
       "  <thead>\n",
       "    <tr style=\"text-align: right;\">\n",
       "      <th></th>\n",
       "      <th>platform</th>\n",
       "      <th>mean_sales</th>\n",
       "    </tr>\n",
       "  </thead>\n",
       "  <tbody>\n",
       "    <tr>\n",
       "      <th>9</th>\n",
       "      <td>X360</td>\n",
       "      <td>0.439032</td>\n",
       "    </tr>\n",
       "    <tr>\n",
       "      <th>10</th>\n",
       "      <td>XOne</td>\n",
       "      <td>0.377004</td>\n",
       "    </tr>\n",
       "    <tr>\n",
       "      <th>7</th>\n",
       "      <td>Wii</td>\n",
       "      <td>0.285217</td>\n",
       "    </tr>\n",
       "    <tr>\n",
       "      <th>4</th>\n",
       "      <td>PS4</td>\n",
       "      <td>0.277398</td>\n",
       "    </tr>\n",
       "    <tr>\n",
       "      <th>8</th>\n",
       "      <td>WiiU</td>\n",
       "      <td>0.254000</td>\n",
       "    </tr>\n",
       "  </tbody>\n",
       "</table>\n",
       "</div>"
      ],
      "text/plain": [
       "   platform  mean_sales\n",
       "9      X360    0.439032\n",
       "10     XOne    0.377004\n",
       "7       Wii    0.285217\n",
       "4       PS4    0.277398\n",
       "8      WiiU    0.254000"
      ]
     },
     "execution_count": 132,
     "metadata": {},
     "output_type": "execute_result"
    }
   ],
   "source": [
    "df_2013_na=df_2013.groupby(\"platform\")['na_sales'].mean().reset_index(name='mean_sales')\n",
    "df_2013_na=df_2013_na.sort_values(by='mean_sales', ascending=False).head()\n",
    "df_2013_na"
   ]
  },
  {
   "cell_type": "markdown",
   "metadata": {},
   "source": [
    "#### Región EU "
   ]
  },
  {
   "cell_type": "code",
   "execution_count": 133,
   "metadata": {},
   "outputs": [
    {
     "data": {
      "text/html": [
       "<div>\n",
       "<style scoped>\n",
       "    .dataframe tbody tr th:only-of-type {\n",
       "        vertical-align: middle;\n",
       "    }\n",
       "\n",
       "    .dataframe tbody tr th {\n",
       "        vertical-align: top;\n",
       "    }\n",
       "\n",
       "    .dataframe thead th {\n",
       "        text-align: right;\n",
       "    }\n",
       "</style>\n",
       "<table border=\"1\" class=\"dataframe\">\n",
       "  <thead>\n",
       "    <tr style=\"text-align: right;\">\n",
       "      <th></th>\n",
       "      <th>platform</th>\n",
       "      <th>mean_sales</th>\n",
       "    </tr>\n",
       "  </thead>\n",
       "  <tbody>\n",
       "    <tr>\n",
       "      <th>4</th>\n",
       "      <td>PS4</td>\n",
       "      <td>0.359923</td>\n",
       "    </tr>\n",
       "    <tr>\n",
       "      <th>7</th>\n",
       "      <td>Wii</td>\n",
       "      <td>0.257826</td>\n",
       "    </tr>\n",
       "    <tr>\n",
       "      <th>9</th>\n",
       "      <td>X360</td>\n",
       "      <td>0.228602</td>\n",
       "    </tr>\n",
       "    <tr>\n",
       "      <th>10</th>\n",
       "      <td>XOne</td>\n",
       "      <td>0.208866</td>\n",
       "    </tr>\n",
       "    <tr>\n",
       "      <th>3</th>\n",
       "      <td>PS3</td>\n",
       "      <td>0.196551</td>\n",
       "    </tr>\n",
       "  </tbody>\n",
       "</table>\n",
       "</div>"
      ],
      "text/plain": [
       "   platform  mean_sales\n",
       "4       PS4    0.359923\n",
       "7       Wii    0.257826\n",
       "9      X360    0.228602\n",
       "10     XOne    0.208866\n",
       "3       PS3    0.196551"
      ]
     },
     "execution_count": 133,
     "metadata": {},
     "output_type": "execute_result"
    }
   ],
   "source": [
    "df_2013_eu=df_2013.groupby(\"platform\")['eu_sales'].mean().reset_index(name='mean_sales')\n",
    "df_2013_eu=df_2013_eu.sort_values(by='mean_sales', ascending=False).head()\n",
    "df_2013_eu"
   ]
  },
  {
   "cell_type": "markdown",
   "metadata": {},
   "source": [
    "#### Región JP "
   ]
  },
  {
   "cell_type": "code",
   "execution_count": 134,
   "metadata": {},
   "outputs": [
    {
     "data": {
      "text/html": [
       "<div>\n",
       "<style scoped>\n",
       "    .dataframe tbody tr th:only-of-type {\n",
       "        vertical-align: middle;\n",
       "    }\n",
       "\n",
       "    .dataframe tbody tr th {\n",
       "        vertical-align: top;\n",
       "    }\n",
       "\n",
       "    .dataframe thead th {\n",
       "        text-align: right;\n",
       "    }\n",
       "</style>\n",
       "<table border=\"1\" class=\"dataframe\">\n",
       "  <thead>\n",
       "    <tr style=\"text-align: right;\">\n",
       "      <th></th>\n",
       "      <th>platform</th>\n",
       "      <th>mean_sales</th>\n",
       "    </tr>\n",
       "  </thead>\n",
       "  <tbody>\n",
       "    <tr>\n",
       "      <th>0</th>\n",
       "      <td>3DS</td>\n",
       "      <td>0.223795</td>\n",
       "    </tr>\n",
       "    <tr>\n",
       "      <th>8</th>\n",
       "      <td>WiiU</td>\n",
       "      <td>0.094609</td>\n",
       "    </tr>\n",
       "    <tr>\n",
       "      <th>3</th>\n",
       "      <td>PS3</td>\n",
       "      <td>0.067681</td>\n",
       "    </tr>\n",
       "    <tr>\n",
       "      <th>6</th>\n",
       "      <td>PSV</td>\n",
       "      <td>0.051927</td>\n",
       "    </tr>\n",
       "    <tr>\n",
       "      <th>5</th>\n",
       "      <td>PSP</td>\n",
       "      <td>0.049104</td>\n",
       "    </tr>\n",
       "  </tbody>\n",
       "</table>\n",
       "</div>"
      ],
      "text/plain": [
       "  platform  mean_sales\n",
       "0      3DS    0.223795\n",
       "8     WiiU    0.094609\n",
       "3      PS3    0.067681\n",
       "6      PSV    0.051927\n",
       "5      PSP    0.049104"
      ]
     },
     "execution_count": 134,
     "metadata": {},
     "output_type": "execute_result"
    }
   ],
   "source": [
    "df_2013_jp=df_2013.groupby(\"platform\")['jp_sales'].mean().reset_index(name='mean_sales')\n",
    "df_2013_jp=df_2013_jp.sort_values(by='mean_sales', ascending=False).head()\n",
    "df_2013_jp"
   ]
  },
  {
   "cell_type": "markdown",
   "metadata": {},
   "source": [
    "Como se puede ver, las 5 plataformas que mas han generado ingresos varian para cada region. La region que mas ingresos ha presentado es la region de Norte America, despues le sigue la región de Europa y finalmente Japon"
   ]
  },
  {
   "cell_type": "markdown",
   "metadata": {},
   "source": [
    "### Género por región"
   ]
  },
  {
   "cell_type": "code",
   "execution_count": 135,
   "metadata": {},
   "outputs": [
    {
     "data": {
      "text/html": [
       "<div>\n",
       "<style scoped>\n",
       "    .dataframe tbody tr th:only-of-type {\n",
       "        vertical-align: middle;\n",
       "    }\n",
       "\n",
       "    .dataframe tbody tr th {\n",
       "        vertical-align: top;\n",
       "    }\n",
       "\n",
       "    .dataframe thead th {\n",
       "        text-align: right;\n",
       "    }\n",
       "</style>\n",
       "<table border=\"1\" class=\"dataframe\">\n",
       "  <thead>\n",
       "    <tr style=\"text-align: right;\">\n",
       "      <th></th>\n",
       "      <th>genre</th>\n",
       "      <th>na</th>\n",
       "      <th>eu</th>\n",
       "      <th>jp</th>\n",
       "    </tr>\n",
       "  </thead>\n",
       "  <tbody>\n",
       "    <tr>\n",
       "      <th>0</th>\n",
       "      <td>Action</td>\n",
       "      <td>0.164556</td>\n",
       "      <td>0.154217</td>\n",
       "      <td>0.052859</td>\n",
       "    </tr>\n",
       "    <tr>\n",
       "      <th>1</th>\n",
       "      <td>Adventure</td>\n",
       "      <td>0.029143</td>\n",
       "      <td>0.033673</td>\n",
       "      <td>0.023755</td>\n",
       "    </tr>\n",
       "    <tr>\n",
       "      <th>2</th>\n",
       "      <td>Fighting</td>\n",
       "      <td>0.194375</td>\n",
       "      <td>0.106875</td>\n",
       "      <td>0.095625</td>\n",
       "    </tr>\n",
       "    <tr>\n",
       "      <th>3</th>\n",
       "      <td>Misc</td>\n",
       "      <td>0.177355</td>\n",
       "      <td>0.129290</td>\n",
       "      <td>0.059355</td>\n",
       "    </tr>\n",
       "    <tr>\n",
       "      <th>4</th>\n",
       "      <td>Platform</td>\n",
       "      <td>0.245135</td>\n",
       "      <td>0.210541</td>\n",
       "      <td>0.064730</td>\n",
       "    </tr>\n",
       "    <tr>\n",
       "      <th>5</th>\n",
       "      <td>Puzzle</td>\n",
       "      <td>0.048824</td>\n",
       "      <td>0.058824</td>\n",
       "      <td>0.069412</td>\n",
       "    </tr>\n",
       "    <tr>\n",
       "      <th>6</th>\n",
       "      <td>Racing</td>\n",
       "      <td>0.152471</td>\n",
       "      <td>0.237529</td>\n",
       "      <td>0.027059</td>\n",
       "    </tr>\n",
       "    <tr>\n",
       "      <th>7</th>\n",
       "      <td>Role-Playing</td>\n",
       "      <td>0.158904</td>\n",
       "      <td>0.126610</td>\n",
       "      <td>0.174795</td>\n",
       "    </tr>\n",
       "    <tr>\n",
       "      <th>8</th>\n",
       "      <td>Shooter</td>\n",
       "      <td>0.586845</td>\n",
       "      <td>0.469840</td>\n",
       "      <td>0.035348</td>\n",
       "    </tr>\n",
       "    <tr>\n",
       "      <th>9</th>\n",
       "      <td>Simulation</td>\n",
       "      <td>0.078387</td>\n",
       "      <td>0.176129</td>\n",
       "      <td>0.072903</td>\n",
       "    </tr>\n",
       "    <tr>\n",
       "      <th>10</th>\n",
       "      <td>Sports</td>\n",
       "      <td>0.305000</td>\n",
       "      <td>0.282804</td>\n",
       "      <td>0.025280</td>\n",
       "    </tr>\n",
       "    <tr>\n",
       "      <th>11</th>\n",
       "      <td>Strategy</td>\n",
       "      <td>0.058571</td>\n",
       "      <td>0.075357</td>\n",
       "      <td>0.031607</td>\n",
       "    </tr>\n",
       "  </tbody>\n",
       "</table>\n",
       "</div>"
      ],
      "text/plain": [
       "           genre        na        eu        jp\n",
       "0         Action  0.164556  0.154217  0.052859\n",
       "1      Adventure  0.029143  0.033673  0.023755\n",
       "2       Fighting  0.194375  0.106875  0.095625\n",
       "3           Misc  0.177355  0.129290  0.059355\n",
       "4       Platform  0.245135  0.210541  0.064730\n",
       "5         Puzzle  0.048824  0.058824  0.069412\n",
       "6         Racing  0.152471  0.237529  0.027059\n",
       "7   Role-Playing  0.158904  0.126610  0.174795\n",
       "8        Shooter  0.586845  0.469840  0.035348\n",
       "9     Simulation  0.078387  0.176129  0.072903\n",
       "10        Sports  0.305000  0.282804  0.025280\n",
       "11      Strategy  0.058571  0.075357  0.031607"
      ]
     },
     "execution_count": 135,
     "metadata": {},
     "output_type": "execute_result"
    }
   ],
   "source": [
    "df_2013_genre=df_2013.groupby('genre')[['na_sales','eu_sales','jp_sales']].mean().reset_index()\n",
    "\n",
    "df_2013_genre=df_2013_genre.rename(columns={'na_sales':'na','eu_sales':'eu','jp_sales':'jp'})\n",
    "df_2013_genre"
   ]
  },
  {
   "cell_type": "code",
   "execution_count": 136,
   "metadata": {},
   "outputs": [
    {
     "data": {
      "image/png": "[encoded data removed]",
      "text/plain": [
       "<Figure size 640x480 with 1 Axes>"
      ]
     },
     "metadata": {},
     "output_type": "display_data"
    }
   ],
   "source": [
    "plt.bar(df_2013_genre['genre'], df_2013_genre['na'], alpha=0.7, color='#0d3b66', label='NA' )\n",
    "\n",
    "plt.bar(df_2013_genre['genre'], df_2013_genre['eu'], alpha=0.5, color='#faf0ca', label='EU' )\n",
    "\n",
    "plt.bar(df_2013_genre['genre'], df_2013_genre['jp'], alpha=0.4, color='#f4d35e', label='JP' )\n",
    "\n",
    "\n",
    "plt.xlabel('Género')\n",
    "plt.ylabel('Volumen de ventas')\n",
    "plt.title('Volumen de ventas segun el genero y la region')\n",
    "plt.legend(['na','eu','jp'])\n",
    "plt.xticks(rotation=90)\n",
    "plt.show()\n"
   ]
  },
  {
   "cell_type": "markdown",
   "metadata": {},
   "source": [
    "Como se puede observar, para todas las regiones, el genero que mas factura es el shooter. Sin embargo, se evidencia que los juegos que man ventas han tenido, son los de accion."
   ]
  },
  {
   "cell_type": "markdown",
   "metadata": {},
   "source": [
    "## Prueba de hipótesis"
   ]
  },
  {
   "cell_type": "markdown",
   "metadata": {},
   "source": [
    "### Hipótesis 1\n"
   ]
  },
  {
   "cell_type": "markdown",
   "metadata": {},
   "source": [
    "H0=Las calificaciones promedio de los usuarios para las plataformas Xbox One y PC son las mismas\n",
    "H1=Las calificaciones promedio de los usuarios para las plataformas Xbox One y PC son diferentes"
   ]
  },
  {
   "cell_type": "markdown",
   "metadata": {},
   "source": [
    "Para este tipo de hipotesis se ha decidio usar una prueba t-student para muestras independientes, ya que es la me ayuda a corroborar si una media es igual o no a otra"
   ]
  },
  {
   "cell_type": "code",
   "execution_count": 137,
   "metadata": {},
   "outputs": [],
   "source": [
    "# Se estraen los datos necesarios\n",
    "df_xbox=df_2013[df_2013['platform']=='XOne']['user_score']\n",
    "df_pc=df_2013[df_2013['platform']=='PC']['user_score']"
   ]
  },
  {
   "cell_type": "code",
   "execution_count": 138,
   "metadata": {},
   "outputs": [
    {
     "data": {
      "text/plain": [
       "6.778947368421053"
      ]
     },
     "execution_count": 138,
     "metadata": {},
     "output_type": "execute_result"
    }
   ],
   "source": [
    "popmean=df_xbox.mean()\n",
    "popmean"
   ]
  },
  {
   "cell_type": "code",
   "execution_count": 139,
   "metadata": {},
   "outputs": [
    {
     "name": "stdout",
     "output_type": "stream",
     "text": [
      "0.017185763252153617\n"
     ]
    }
   ],
   "source": [
    "#Se comprueba que tan cerca esta la media de los datos de las demas ciudades de la ciudad de NY/NJ\n",
    "results=st.ttest_1samp(df_pc,popmean)\n",
    "\n",
    "print(results.pvalue)"
   ]
  },
  {
   "cell_type": "markdown",
   "metadata": {},
   "source": [
    "Para estos casos se va a tomar a alfa=0.05. Como el valor p<alpha, rechazamos la hipotesis nula. Lo que indica que el promedio de las calificaciones de los usuarios para las plataformas XOne y PC son diferentes "
   ]
  },
  {
   "cell_type": "markdown",
   "metadata": {},
   "source": [
    "### Hipótesis 2\n"
   ]
  },
  {
   "cell_type": "markdown",
   "metadata": {},
   "source": [
    "H0=Las calificaciones promedio de los usuarios para los géneros de Acción y Deportes son iguales. H1=Las calificaciones promedio de los usuarios para los géneros de Acción y Deportes son diferentes"
   ]
  },
  {
   "cell_type": "markdown",
   "metadata": {},
   "source": [
    "Para este tipo de hipotesis se ha decidio usar una prueba t-student para muestras independientes, ya que es la me ayuda a corroborar si una media es igual o no a otra"
   ]
  },
  {
   "cell_type": "code",
   "execution_count": 140,
   "metadata": {},
   "outputs": [],
   "source": [
    "# Se estraen los datos necesarios\n",
    "df_accion=df_2013[df_2013['genre']=='Action']['user_score']\n",
    "df_sport=df_2013[df_2013['genre']=='Sports']['user_score']"
   ]
  },
  {
   "cell_type": "code",
   "execution_count": 141,
   "metadata": {},
   "outputs": [
    {
     "data": {
      "text/plain": [
       "7.163577023498694"
      ]
     },
     "execution_count": 141,
     "metadata": {},
     "output_type": "execute_result"
    }
   ],
   "source": [
    "popmean=df_accion.mean()\n",
    "popmean"
   ]
  },
  {
   "cell_type": "code",
   "execution_count": 142,
   "metadata": {},
   "outputs": [
    {
     "name": "stdout",
     "output_type": "stream",
     "text": [
      "4.433423576580476e-22\n"
     ]
    }
   ],
   "source": [
    "#Se comprueba que tan cerca esta la media de los datos de las demas ciudades de la ciudad de NY/NJ\n",
    "results=st.ttest_1samp(df_sport,popmean)\n",
    "\n",
    "print(results.pvalue)"
   ]
  },
  {
   "cell_type": "markdown",
   "metadata": {},
   "source": [
    "Para estos casos se va a tomar a alfa=0.05. Como el valor p<alpha, rechazamos la hipotesis nula. Lo que indica que el promedio de las calificaciones de los generos accion y deportes son diferentes"
   ]
  },
  {
   "cell_type": "markdown",
   "metadata": {},
   "source": [
    "## CONCLUSIONES "
   ]
  },
  {
   "cell_type": "markdown",
   "metadata": {},
   "source": [
    "Se observó que los videojuegos empiezan a tener mas popularidad y a lanzar mas videojuegos hacia el año 2000, con un auge entre el 2005 y 2010."
   ]
  },
  {
   "cell_type": "markdown",
   "metadata": {},
   "source": [
    "Se realizaron los cálculos teniendo en cuenta los 3 ultimos años dada la tendencia de los juegos."
   ]
  },
  {
   "cell_type": "markdown",
   "metadata": {},
   "source": [
    "Se evidenció que las plataformas que tienen mayor cantidad de ventas son PS2, X360, Wii, PS3 y DS, las demas plataformas no tienen mayor acogida."
   ]
  },
  {
   "cell_type": "markdown",
   "metadata": {},
   "source": [
    "Se observó que hubo plataformas que a medida del tiempo dejaron de tener ganancias y se descontinuaron, de hecho, se observa que no hay ninguna platafroma actual que este mostrando una tendencia hacia arriba, las ventas se han ido bajando con los años. Por otro lado, se evidencia un periodo importante, que fue el 2014, donde se ve que la gran mayoria de las plataformas tiene una caida importate o salida del mercado, pero que, 2 de ellas por el contrario tienen mejor acogida, que son PS4 y XOne. Sin embargo, para el año 2015 se ve que todas las plataformas vigentes siguen teniendo una tendencia a bajar el numero de las ventas"
   ]
  },
  {
   "cell_type": "markdown",
   "metadata": {},
   "source": [
    "Se concluye que las calificaciones no estan directamente relacionadas con la cantidad de ventas, dado que hay juegos que tienen mejores calificaciones y no han presentado grandes volumenes de ventas. El juego que mas destaca por su puntaje y las ventas que ha tenido es Grand Theft Auto V."
   ]
  },
  {
   "cell_type": "markdown",
   "metadata": {},
   "source": [
    "Es dificil deducir que un juego tiene un patron de exito, lo que se puede mencionar es que la plataforma PS4 ha tenido buena acogida y que juegos de accion y shooter tambien tiene buena acogida. Lo anterior podria servir como estrategia de ventas para el proximo año"
   ]
  },
  {
   "cell_type": "markdown",
   "metadata": {},
   "source": [
    " La region que mas ingresos ha presentado es la region de Norte America, despues le sigue la región de Europa y finalmente Japon"
   ]
  },
  {
   "cell_type": "markdown",
   "metadata": {},
   "source": [
    "Se evidencia que la mediana para todas las plataformas ha sido diferente,lo que indica la variabilidad de sus ventas, excepto para Xone y 3DS que han tenido un comportamiento parecido. Se observa tambien que la plataforma PS3 ha tenido valores maximos mas alejados de su mediana, lo que indica que ha tenido picos de ventas, mientras que la plataforma PS4 tiene valores consistentes. 3DS tiene una distribucion mas compacta, lo que significa una menor variabilidad en las ventas"
   ]
  }
 ],
 "metadata": {
  "ExecuteTimeLog": [
   {
    "duration": 158,
    "start_time": "2025-03-05T19:52:55.290Z"
   },
   {
    "duration": 2483,
    "start_time": "2025-03-05T19:52:59.972Z"
   },
   {
    "duration": 85,
    "start_time": "2025-03-05T19:53:02.803Z"
   },
   {
    "duration": 5,
    "start_time": "2025-03-05T19:53:15.495Z"
   },
   {
    "duration": 17,
    "start_time": "2025-03-05T19:53:15.958Z"
   },
   {
    "duration": 2,
    "start_time": "2025-03-05T19:53:24.559Z"
   },
   {
    "duration": 401,
    "start_time": "2025-03-05T19:53:26.826Z"
   },
   {
    "duration": 35,
    "start_time": "2025-03-05T19:53:40.153Z"
   },
   {
    "duration": 22,
    "start_time": "2025-03-05T19:53:42.709Z"
   },
   {
    "duration": 15,
    "start_time": "2025-03-05T19:53:48.299Z"
   },
   {
    "duration": 16,
    "start_time": "2025-03-05T19:53:56.874Z"
   },
   {
    "duration": 5,
    "start_time": "2025-03-05T19:56:37.565Z"
   },
   {
    "duration": 19,
    "start_time": "2025-03-05T19:56:50.893Z"
   },
   {
    "duration": 19,
    "start_time": "2025-03-05T19:57:00.821Z"
   },
   {
    "duration": 18,
    "start_time": "2025-03-05T19:57:21.208Z"
   },
   {
    "duration": 21,
    "start_time": "2025-03-05T19:57:25.867Z"
   },
   {
    "duration": 23,
    "start_time": "2025-03-05T19:57:30.147Z"
   },
   {
    "duration": 20,
    "start_time": "2025-03-05T19:57:30.833Z"
   },
   {
    "duration": 7,
    "start_time": "2025-03-05T19:57:46.831Z"
   },
   {
    "duration": 16,
    "start_time": "2025-03-05T19:57:50.022Z"
   },
   {
    "duration": 3,
    "start_time": "2025-03-05T19:57:55.986Z"
   },
   {
    "duration": 28,
    "start_time": "2025-03-05T19:57:55.992Z"
   },
   {
    "duration": 11,
    "start_time": "2025-03-05T19:57:56.022Z"
   },
   {
    "duration": 11,
    "start_time": "2025-03-05T19:57:56.035Z"
   },
   {
    "duration": 3,
    "start_time": "2025-03-05T19:57:59.248Z"
   },
   {
    "duration": 13,
    "start_time": "2025-03-05T19:58:00.335Z"
   },
   {
    "duration": 17,
    "start_time": "2025-03-05T19:58:02.744Z"
   },
   {
    "duration": 15,
    "start_time": "2025-03-05T19:59:26.451Z"
   },
   {
    "duration": 17,
    "start_time": "2025-03-05T19:59:30.408Z"
   },
   {
    "duration": 18,
    "start_time": "2025-03-05T19:59:40.924Z"
   },
   {
    "duration": 2,
    "start_time": "2025-03-05T19:59:47.265Z"
   },
   {
    "duration": 29,
    "start_time": "2025-03-05T19:59:47.718Z"
   },
   {
    "duration": 12,
    "start_time": "2025-03-05T19:59:48.344Z"
   },
   {
    "duration": 12,
    "start_time": "2025-03-05T19:59:49.046Z"
   },
   {
    "duration": 6,
    "start_time": "2025-03-05T19:59:51.112Z"
   },
   {
    "duration": 15,
    "start_time": "2025-03-05T19:59:52.486Z"
   },
   {
    "duration": 8,
    "start_time": "2025-03-05T20:01:12.763Z"
   },
   {
    "duration": 5,
    "start_time": "2025-03-05T20:09:03.765Z"
   },
   {
    "duration": 5,
    "start_time": "2025-03-05T20:09:14.306Z"
   },
   {
    "duration": 16,
    "start_time": "2025-03-05T20:16:34.035Z"
   },
   {
    "duration": 18,
    "start_time": "2025-03-05T20:21:40.985Z"
   },
   {
    "duration": 12,
    "start_time": "2025-03-05T20:21:44.075Z"
   },
   {
    "duration": 3,
    "start_time": "2025-03-05T20:21:47.623Z"
   },
   {
    "duration": 26,
    "start_time": "2025-03-05T20:21:47.628Z"
   },
   {
    "duration": 11,
    "start_time": "2025-03-05T20:21:47.656Z"
   },
   {
    "duration": 12,
    "start_time": "2025-03-05T20:21:47.669Z"
   },
   {
    "duration": 5,
    "start_time": "2025-03-05T20:21:47.682Z"
   },
   {
    "duration": 37,
    "start_time": "2025-03-05T20:21:47.689Z"
   },
   {
    "duration": 8,
    "start_time": "2025-03-05T20:21:47.728Z"
   },
   {
    "duration": 6,
    "start_time": "2025-03-05T20:21:47.738Z"
   },
   {
    "duration": 5,
    "start_time": "2025-03-05T20:21:47.747Z"
   },
   {
    "duration": 10,
    "start_time": "2025-03-05T20:21:47.754Z"
   },
   {
    "duration": 6,
    "start_time": "2025-03-05T20:21:52.266Z"
   },
   {
    "duration": 8,
    "start_time": "2025-03-05T20:22:23.884Z"
   },
   {
    "duration": 711,
    "start_time": "2025-03-05T20:22:48.889Z"
   },
   {
    "duration": 5,
    "start_time": "2025-03-05T20:23:14.002Z"
   },
   {
    "duration": 3,
    "start_time": "2025-03-05T20:23:25.919Z"
   },
   {
    "duration": 5,
    "start_time": "2025-03-05T20:23:29.482Z"
   },
   {
    "duration": 5,
    "start_time": "2025-03-05T20:24:06.123Z"
   },
   {
    "duration": 4,
    "start_time": "2025-03-05T20:24:43.358Z"
   },
   {
    "duration": 8,
    "start_time": "2025-03-05T20:26:15.972Z"
   },
   {
    "duration": 5,
    "start_time": "2025-03-05T20:28:15.298Z"
   },
   {
    "duration": 33,
    "start_time": "2025-03-05T20:28:15.305Z"
   },
   {
    "duration": 12,
    "start_time": "2025-03-05T20:28:15.339Z"
   },
   {
    "duration": 11,
    "start_time": "2025-03-05T20:28:15.353Z"
   },
   {
    "duration": 5,
    "start_time": "2025-03-05T20:28:15.367Z"
   },
   {
    "duration": 15,
    "start_time": "2025-03-05T20:28:15.373Z"
   },
   {
    "duration": 8,
    "start_time": "2025-03-05T20:28:15.390Z"
   },
   {
    "duration": 3,
    "start_time": "2025-03-05T20:28:15.425Z"
   },
   {
    "duration": 4,
    "start_time": "2025-03-05T20:28:15.430Z"
   },
   {
    "duration": 5,
    "start_time": "2025-03-05T20:28:15.435Z"
   },
   {
    "duration": 3,
    "start_time": "2025-03-05T20:28:15.441Z"
   },
   {
    "duration": 5,
    "start_time": "2025-03-05T20:28:15.446Z"
   },
   {
    "duration": 8,
    "start_time": "2025-03-05T20:28:15.453Z"
   },
   {
    "duration": 157,
    "start_time": "2025-03-05T21:28:10.054Z"
   },
   {
    "duration": 2522,
    "start_time": "2025-03-05T21:28:13.382Z"
   },
   {
    "duration": 36,
    "start_time": "2025-03-05T21:28:15.907Z"
   },
   {
    "duration": 13,
    "start_time": "2025-03-05T21:28:15.944Z"
   },
   {
    "duration": 17,
    "start_time": "2025-03-05T21:28:15.958Z"
   },
   {
    "duration": 6,
    "start_time": "2025-03-05T21:28:15.978Z"
   },
   {
    "duration": 14,
    "start_time": "2025-03-05T21:28:15.986Z"
   },
   {
    "duration": 7,
    "start_time": "2025-03-05T21:28:16.002Z"
   },
   {
    "duration": 4,
    "start_time": "2025-03-05T21:28:16.011Z"
   },
   {
    "duration": 4,
    "start_time": "2025-03-05T21:28:16.017Z"
   },
   {
    "duration": 5,
    "start_time": "2025-03-05T21:28:16.022Z"
   },
   {
    "duration": 3,
    "start_time": "2025-03-05T21:28:16.028Z"
   },
   {
    "duration": 5,
    "start_time": "2025-03-05T21:30:17.270Z"
   },
   {
    "duration": 3,
    "start_time": "2025-03-05T21:30:18.366Z"
   },
   {
    "duration": 6,
    "start_time": "2025-03-05T21:30:18.886Z"
   },
   {
    "duration": 7,
    "start_time": "2025-03-05T21:30:23.575Z"
   },
   {
    "duration": 15,
    "start_time": "2025-03-05T21:30:59.195Z"
   },
   {
    "duration": 10,
    "start_time": "2025-03-05T21:31:16.575Z"
   },
   {
    "duration": 17,
    "start_time": "2025-03-05T21:37:25.558Z"
   },
   {
    "duration": 8,
    "start_time": "2025-03-05T21:37:48.897Z"
   },
   {
    "duration": 5,
    "start_time": "2025-03-05T21:39:37.319Z"
   },
   {
    "duration": 4,
    "start_time": "2025-03-05T21:39:47.694Z"
   },
   {
    "duration": 3,
    "start_time": "2025-03-05T21:47:04.204Z"
   },
   {
    "duration": 70,
    "start_time": "2025-03-05T21:47:11.904Z"
   },
   {
    "duration": 3,
    "start_time": "2025-03-05T21:47:18.255Z"
   },
   {
    "duration": 2,
    "start_time": "2025-03-05T22:10:14.972Z"
   },
   {
    "duration": 347,
    "start_time": "2025-03-05T22:12:44.213Z"
   },
   {
    "duration": 47,
    "start_time": "2025-03-05T22:16:22.754Z"
   },
   {
    "duration": 46,
    "start_time": "2025-03-05T22:16:28.356Z"
   },
   {
    "duration": 47,
    "start_time": "2025-03-05T22:16:55.181Z"
   },
   {
    "duration": 3,
    "start_time": "2025-03-05T22:17:14.195Z"
   },
   {
    "duration": 25,
    "start_time": "2025-03-05T22:17:14.200Z"
   },
   {
    "duration": 14,
    "start_time": "2025-03-05T22:17:14.228Z"
   },
   {
    "duration": 13,
    "start_time": "2025-03-05T22:17:14.244Z"
   },
   {
    "duration": 4,
    "start_time": "2025-03-05T22:17:14.260Z"
   },
   {
    "duration": 14,
    "start_time": "2025-03-05T22:17:14.290Z"
   },
   {
    "duration": 8,
    "start_time": "2025-03-05T22:17:14.306Z"
   },
   {
    "duration": 4,
    "start_time": "2025-03-05T22:17:14.315Z"
   },
   {
    "duration": 4,
    "start_time": "2025-03-05T22:17:14.320Z"
   },
   {
    "duration": 4,
    "start_time": "2025-03-05T22:17:14.327Z"
   },
   {
    "duration": 3,
    "start_time": "2025-03-05T22:17:14.333Z"
   },
   {
    "duration": 6,
    "start_time": "2025-03-05T22:17:14.379Z"
   },
   {
    "duration": 8,
    "start_time": "2025-03-05T22:17:14.387Z"
   },
   {
    "duration": 7,
    "start_time": "2025-03-05T22:17:14.397Z"
   },
   {
    "duration": 5,
    "start_time": "2025-03-05T22:17:14.405Z"
   },
   {
    "duration": 47,
    "start_time": "2025-03-05T22:17:22.021Z"
   },
   {
    "duration": 283,
    "start_time": "2025-03-05T22:17:43.601Z"
   },
   {
    "duration": 48,
    "start_time": "2025-03-05T22:17:54.204Z"
   },
   {
    "duration": 13,
    "start_time": "2025-03-05T22:18:10.948Z"
   },
   {
    "duration": 14,
    "start_time": "2025-03-05T22:18:26.698Z"
   },
   {
    "duration": 14,
    "start_time": "2025-03-05T22:19:10.726Z"
   },
   {
    "duration": 14,
    "start_time": "2025-03-05T22:21:04.194Z"
   },
   {
    "duration": 21,
    "start_time": "2025-03-05T22:38:26.462Z"
   },
   {
    "duration": 19,
    "start_time": "2025-03-05T22:40:16.268Z"
   },
   {
    "duration": 5,
    "start_time": "2025-03-05T22:42:01.759Z"
   },
   {
    "duration": 5,
    "start_time": "2025-03-05T22:42:55.632Z"
   },
   {
    "duration": 14,
    "start_time": "2025-03-05T22:43:19.731Z"
   },
   {
    "duration": 6,
    "start_time": "2025-03-05T22:44:33.323Z"
   },
   {
    "duration": 14,
    "start_time": "2025-03-05T22:47:58.335Z"
   },
   {
    "duration": 5,
    "start_time": "2025-03-05T22:48:17.854Z"
   },
   {
    "duration": 5,
    "start_time": "2025-03-05T22:58:20.327Z"
   },
   {
    "duration": 5,
    "start_time": "2025-03-05T23:07:12.850Z"
   },
   {
    "duration": 7,
    "start_time": "2025-03-05T23:07:30.729Z"
   },
   {
    "duration": 330,
    "start_time": "2025-03-05T23:07:57.866Z"
   },
   {
    "duration": 4,
    "start_time": "2025-03-05T23:08:11.916Z"
   },
   {
    "duration": 18,
    "start_time": "2025-03-05T23:08:25.372Z"
   },
   {
    "duration": 8,
    "start_time": "2025-03-05T23:08:41.903Z"
   },
   {
    "duration": 17,
    "start_time": "2025-03-05T23:08:52.684Z"
   },
   {
    "duration": 20,
    "start_time": "2025-03-05T23:19:04.308Z"
   },
   {
    "duration": 564,
    "start_time": "2025-03-05T23:21:25.997Z"
   },
   {
    "duration": 434,
    "start_time": "2025-03-05T23:21:36.591Z"
   },
   {
    "duration": 47,
    "start_time": "2025-03-05T23:21:53.717Z"
   },
   {
    "duration": 56,
    "start_time": "2025-03-05T23:22:22.894Z"
   },
   {
    "duration": 14,
    "start_time": "2025-03-05T23:24:04.723Z"
   },
   {
    "duration": 5,
    "start_time": "2025-03-05T23:31:31.137Z"
   },
   {
    "duration": 14,
    "start_time": "2025-03-05T23:32:20.906Z"
   },
   {
    "duration": 4,
    "start_time": "2025-03-05T23:32:53.150Z"
   },
   {
    "duration": 47,
    "start_time": "2025-03-05T23:39:06.136Z"
   },
   {
    "duration": 10,
    "start_time": "2025-03-05T23:59:29.370Z"
   },
   {
    "duration": 4,
    "start_time": "2025-03-05T23:59:52.986Z"
   },
   {
    "duration": 4,
    "start_time": "2025-03-06T00:01:20.290Z"
   },
   {
    "duration": 7,
    "start_time": "2025-03-06T00:02:58.042Z"
   },
   {
    "duration": 14,
    "start_time": "2025-03-06T00:03:39.377Z"
   },
   {
    "duration": 5,
    "start_time": "2025-03-06T00:04:06.104Z"
   },
   {
    "duration": 14,
    "start_time": "2025-03-06T00:04:56.760Z"
   },
   {
    "duration": 14,
    "start_time": "2025-03-06T00:05:05.070Z"
   },
   {
    "duration": 4,
    "start_time": "2025-03-06T00:08:18.450Z"
   },
   {
    "duration": 5,
    "start_time": "2025-03-06T00:24:02.598Z"
   },
   {
    "duration": 6,
    "start_time": "2025-03-06T00:38:09.905Z"
   },
   {
    "duration": 6,
    "start_time": "2025-03-06T00:41:52.903Z"
   },
   {
    "duration": 6,
    "start_time": "2025-03-06T00:42:04.151Z"
   },
   {
    "duration": 11,
    "start_time": "2025-03-06T00:43:17.886Z"
   },
   {
    "duration": 6,
    "start_time": "2025-03-06T00:43:23.061Z"
   },
   {
    "duration": 6,
    "start_time": "2025-03-06T00:44:24.842Z"
   },
   {
    "duration": 12,
    "start_time": "2025-03-06T00:46:13.181Z"
   },
   {
    "duration": 7,
    "start_time": "2025-03-06T00:46:35.967Z"
   },
   {
    "duration": 3,
    "start_time": "2025-03-06T00:51:09.886Z"
   },
   {
    "duration": 13,
    "start_time": "2025-03-06T00:53:39.487Z"
   },
   {
    "duration": 12,
    "start_time": "2025-03-06T00:53:55.886Z"
   },
   {
    "duration": 11,
    "start_time": "2025-03-06T00:54:08.296Z"
   },
   {
    "duration": 6,
    "start_time": "2025-03-06T02:01:04.363Z"
   },
   {
    "duration": 10,
    "start_time": "2025-03-06T02:01:28.478Z"
   },
   {
    "duration": 178,
    "start_time": "2025-03-06T02:05:56.887Z"
   },
   {
    "duration": 183,
    "start_time": "2025-03-06T02:06:24.438Z"
   },
   {
    "duration": 16,
    "start_time": "2025-03-06T02:06:43.806Z"
   },
   {
    "duration": 173,
    "start_time": "2025-03-06T02:07:21.651Z"
   },
   {
    "duration": 160,
    "start_time": "2025-03-06T02:08:15.397Z"
   },
   {
    "duration": 141,
    "start_time": "2025-03-06T02:09:08.339Z"
   },
   {
    "duration": 161,
    "start_time": "2025-03-06T02:09:19.619Z"
   },
   {
    "duration": 7,
    "start_time": "2025-03-06T02:11:00.416Z"
   },
   {
    "duration": 9,
    "start_time": "2025-03-06T02:11:06.729Z"
   },
   {
    "duration": 167,
    "start_time": "2025-03-06T02:12:23.635Z"
   },
   {
    "duration": 159,
    "start_time": "2025-03-06T02:15:36.071Z"
   },
   {
    "duration": 175,
    "start_time": "2025-03-06T02:15:46.382Z"
   },
   {
    "duration": 343,
    "start_time": "2025-03-06T02:17:06.679Z"
   },
   {
    "duration": 160,
    "start_time": "2025-03-06T02:17:15.088Z"
   },
   {
    "duration": 161,
    "start_time": "2025-03-06T02:17:28.280Z"
   },
   {
    "duration": 159,
    "start_time": "2025-03-06T02:17:38.912Z"
   },
   {
    "duration": 165,
    "start_time": "2025-03-06T02:17:52.464Z"
   },
   {
    "duration": 158,
    "start_time": "2025-03-06T02:18:12.794Z"
   },
   {
    "duration": 160,
    "start_time": "2025-03-06T20:14:29.988Z"
   },
   {
    "duration": 2554,
    "start_time": "2025-03-06T20:14:35.859Z"
   },
   {
    "duration": 36,
    "start_time": "2025-03-06T20:14:38.416Z"
   },
   {
    "duration": 11,
    "start_time": "2025-03-06T20:14:38.454Z"
   },
   {
    "duration": 14,
    "start_time": "2025-03-06T20:14:38.467Z"
   },
   {
    "duration": 3,
    "start_time": "2025-03-06T20:14:38.484Z"
   },
   {
    "duration": 12,
    "start_time": "2025-03-06T20:14:38.489Z"
   },
   {
    "duration": 20,
    "start_time": "2025-03-06T20:14:38.503Z"
   },
   {
    "duration": 8,
    "start_time": "2025-03-06T20:14:38.525Z"
   },
   {
    "duration": 36,
    "start_time": "2025-03-06T20:14:38.535Z"
   },
   {
    "duration": 4,
    "start_time": "2025-03-06T20:14:38.573Z"
   },
   {
    "duration": 5,
    "start_time": "2025-03-06T20:14:38.580Z"
   },
   {
    "duration": 3,
    "start_time": "2025-03-06T20:14:38.587Z"
   },
   {
    "duration": 6,
    "start_time": "2025-03-06T20:14:38.592Z"
   },
   {
    "duration": 7,
    "start_time": "2025-03-06T20:14:38.602Z"
   },
   {
    "duration": 7,
    "start_time": "2025-03-06T20:14:38.611Z"
   },
   {
    "duration": 4,
    "start_time": "2025-03-06T20:14:38.620Z"
   },
   {
    "duration": 48,
    "start_time": "2025-03-06T20:14:38.625Z"
   },
   {
    "duration": 12,
    "start_time": "2025-03-06T20:14:38.674Z"
   },
   {
    "duration": 4,
    "start_time": "2025-03-06T20:14:38.688Z"
   },
   {
    "duration": 4,
    "start_time": "2025-03-06T20:14:38.694Z"
   },
   {
    "duration": 7,
    "start_time": "2025-03-06T20:14:38.699Z"
   },
   {
    "duration": 16,
    "start_time": "2025-03-06T20:14:38.707Z"
   },
   {
    "duration": 8,
    "start_time": "2025-03-06T20:14:38.724Z"
   },
   {
    "duration": 40,
    "start_time": "2025-03-06T20:14:38.733Z"
   },
   {
    "duration": 6,
    "start_time": "2025-03-06T20:14:38.775Z"
   },
   {
    "duration": 12,
    "start_time": "2025-03-06T20:14:38.783Z"
   },
   {
    "duration": 4,
    "start_time": "2025-03-06T20:14:38.796Z"
   },
   {
    "duration": 10,
    "start_time": "2025-03-06T20:14:38.802Z"
   },
   {
    "duration": 4,
    "start_time": "2025-03-06T20:14:38.814Z"
   },
   {
    "duration": 50,
    "start_time": "2025-03-06T20:14:38.820Z"
   },
   {
    "duration": 11,
    "start_time": "2025-03-06T20:14:38.872Z"
   },
   {
    "duration": 12,
    "start_time": "2025-03-06T20:14:38.885Z"
   },
   {
    "duration": 10,
    "start_time": "2025-03-06T20:14:38.898Z"
   },
   {
    "duration": 190,
    "start_time": "2025-03-06T20:14:38.909Z"
   },
   {
    "duration": 10,
    "start_time": "2025-03-06T20:14:39.100Z"
   },
   {
    "duration": 472,
    "start_time": "2025-03-06T20:15:57.479Z"
   },
   {
    "duration": 10,
    "start_time": "2025-03-06T20:16:09.193Z"
   },
   {
    "duration": 43,
    "start_time": "2025-03-06T20:16:12.460Z"
   },
   {
    "duration": 164,
    "start_time": "2025-03-06T20:16:36.032Z"
   },
   {
    "duration": 153,
    "start_time": "2025-03-06T20:19:48.830Z"
   },
   {
    "duration": 157,
    "start_time": "2025-03-06T20:21:03.527Z"
   },
   {
    "duration": 6,
    "start_time": "2025-03-06T20:22:47.713Z"
   },
   {
    "duration": 20,
    "start_time": "2025-03-06T20:25:31.532Z"
   },
   {
    "duration": 7,
    "start_time": "2025-03-06T20:26:44.768Z"
   },
   {
    "duration": 15,
    "start_time": "2025-03-06T20:27:03.649Z"
   },
   {
    "duration": 11,
    "start_time": "2025-03-06T20:27:12.336Z"
   },
   {
    "duration": 246,
    "start_time": "2025-03-06T20:28:34.678Z"
   },
   {
    "duration": 16,
    "start_time": "2025-03-06T20:28:55.503Z"
   },
   {
    "duration": 15,
    "start_time": "2025-03-06T20:29:09.243Z"
   },
   {
    "duration": 10,
    "start_time": "2025-03-06T20:29:42.317Z"
   },
   {
    "duration": 11,
    "start_time": "2025-03-06T20:29:50.701Z"
   },
   {
    "duration": 164,
    "start_time": "2025-03-06T20:29:54.296Z"
   },
   {
    "duration": 163,
    "start_time": "2025-03-06T20:30:44.522Z"
   },
   {
    "duration": 12,
    "start_time": "2025-03-06T20:31:00.216Z"
   },
   {
    "duration": 174,
    "start_time": "2025-03-06T20:31:03.516Z"
   },
   {
    "duration": 10,
    "start_time": "2025-03-06T20:35:32.098Z"
   },
   {
    "duration": 164,
    "start_time": "2025-03-06T20:35:34.593Z"
   },
   {
    "duration": 4,
    "start_time": "2025-03-06T20:36:53.909Z"
   },
   {
    "duration": 3,
    "start_time": "2025-03-06T20:42:31.106Z"
   },
   {
    "duration": 11,
    "start_time": "2025-03-06T20:42:37.825Z"
   },
   {
    "duration": 45,
    "start_time": "2025-03-06T20:43:52.172Z"
   },
   {
    "duration": 272,
    "start_time": "2025-03-06T20:44:14.051Z"
   },
   {
    "duration": 78,
    "start_time": "2025-03-06T20:52:11.943Z"
   },
   {
    "duration": 506,
    "start_time": "2025-03-06T20:52:20.844Z"
   },
   {
    "duration": 502,
    "start_time": "2025-03-06T20:53:03.413Z"
   },
   {
    "duration": 419,
    "start_time": "2025-03-06T20:53:11.837Z"
   },
   {
    "duration": 391,
    "start_time": "2025-03-06T20:54:31.520Z"
   },
   {
    "duration": 414,
    "start_time": "2025-03-06T20:56:24.194Z"
   },
   {
    "duration": 4,
    "start_time": "2025-03-06T20:57:38.583Z"
   },
   {
    "duration": 20,
    "start_time": "2025-03-06T20:57:54.748Z"
   },
   {
    "duration": 401,
    "start_time": "2025-03-06T20:58:53.727Z"
   },
   {
    "duration": 17,
    "start_time": "2025-03-06T21:03:13.697Z"
   },
   {
    "duration": 12,
    "start_time": "2025-03-06T21:04:15.635Z"
   },
   {
    "duration": 388,
    "start_time": "2025-03-06T21:04:39.608Z"
   },
   {
    "duration": 166,
    "start_time": "2025-03-06T21:07:33.258Z"
   },
   {
    "duration": 5,
    "start_time": "2025-03-06T21:10:03.921Z"
   },
   {
    "duration": 8,
    "start_time": "2025-03-06T21:23:30.177Z"
   },
   {
    "duration": 6,
    "start_time": "2025-03-06T21:24:02.975Z"
   },
   {
    "duration": 9,
    "start_time": "2025-03-06T21:24:09.042Z"
   },
   {
    "duration": 10,
    "start_time": "2025-03-06T21:25:58.258Z"
   },
   {
    "duration": 115,
    "start_time": "2025-03-06T21:26:53.157Z"
   },
   {
    "duration": 140,
    "start_time": "2025-03-06T21:27:17.504Z"
   },
   {
    "duration": 107,
    "start_time": "2025-03-06T21:27:41.590Z"
   },
   {
    "duration": 6,
    "start_time": "2025-03-06T22:02:15.929Z"
   },
   {
    "duration": 9,
    "start_time": "2025-03-06T22:02:54.518Z"
   },
   {
    "duration": 106,
    "start_time": "2025-03-06T22:03:03.243Z"
   },
   {
    "duration": 6,
    "start_time": "2025-03-06T22:03:17.320Z"
   },
   {
    "duration": 2,
    "start_time": "2025-03-06T22:03:22.724Z"
   },
   {
    "duration": 25,
    "start_time": "2025-03-06T22:03:22.729Z"
   },
   {
    "duration": 10,
    "start_time": "2025-03-06T22:03:22.756Z"
   },
   {
    "duration": 10,
    "start_time": "2025-03-06T22:03:22.768Z"
   },
   {
    "duration": 4,
    "start_time": "2025-03-06T22:03:22.780Z"
   },
   {
    "duration": 11,
    "start_time": "2025-03-06T22:03:22.786Z"
   },
   {
    "duration": 20,
    "start_time": "2025-03-06T22:03:22.799Z"
   },
   {
    "duration": 8,
    "start_time": "2025-03-06T22:03:22.820Z"
   },
   {
    "duration": 4,
    "start_time": "2025-03-06T22:03:22.830Z"
   },
   {
    "duration": 4,
    "start_time": "2025-03-06T22:03:22.869Z"
   },
   {
    "duration": 4,
    "start_time": "2025-03-06T22:03:22.875Z"
   },
   {
    "duration": 3,
    "start_time": "2025-03-06T22:03:22.881Z"
   },
   {
    "duration": 5,
    "start_time": "2025-03-06T22:03:22.885Z"
   },
   {
    "duration": 7,
    "start_time": "2025-03-06T22:03:22.892Z"
   },
   {
    "duration": 9,
    "start_time": "2025-03-06T22:03:22.901Z"
   },
   {
    "duration": 4,
    "start_time": "2025-03-06T22:03:22.911Z"
   },
   {
    "duration": 6,
    "start_time": "2025-03-06T22:03:22.917Z"
   },
   {
    "duration": 56,
    "start_time": "2025-03-06T22:03:22.925Z"
   },
   {
    "duration": 4,
    "start_time": "2025-03-06T22:03:22.983Z"
   },
   {
    "duration": 4,
    "start_time": "2025-03-06T22:03:22.989Z"
   },
   {
    "duration": 6,
    "start_time": "2025-03-06T22:03:22.995Z"
   },
   {
    "duration": 15,
    "start_time": "2025-03-06T22:03:23.003Z"
   },
   {
    "duration": 8,
    "start_time": "2025-03-06T22:03:23.019Z"
   },
   {
    "duration": 42,
    "start_time": "2025-03-06T22:03:23.029Z"
   },
   {
    "duration": 6,
    "start_time": "2025-03-06T22:03:23.072Z"
   },
   {
    "duration": 12,
    "start_time": "2025-03-06T22:03:23.080Z"
   },
   {
    "duration": 5,
    "start_time": "2025-03-06T22:03:23.093Z"
   },
   {
    "duration": 10,
    "start_time": "2025-03-06T22:03:23.103Z"
   },
   {
    "duration": 5,
    "start_time": "2025-03-06T22:03:23.115Z"
   },
   {
    "duration": 6,
    "start_time": "2025-03-06T22:03:23.122Z"
   },
   {
    "duration": 50,
    "start_time": "2025-03-06T22:03:23.129Z"
   },
   {
    "duration": 11,
    "start_time": "2025-03-06T22:03:23.181Z"
   },
   {
    "duration": 8,
    "start_time": "2025-03-06T22:03:23.194Z"
   },
   {
    "duration": 182,
    "start_time": "2025-03-06T22:03:23.204Z"
   },
   {
    "duration": 9,
    "start_time": "2025-03-06T22:03:23.388Z"
   },
   {
    "duration": 176,
    "start_time": "2025-03-06T22:03:23.398Z"
   },
   {
    "duration": 17,
    "start_time": "2025-03-06T22:03:23.576Z"
   },
   {
    "duration": 9,
    "start_time": "2025-03-06T22:03:23.595Z"
   },
   {
    "duration": 186,
    "start_time": "2025-03-06T22:03:23.606Z"
   },
   {
    "duration": 11,
    "start_time": "2025-03-06T22:03:23.794Z"
   },
   {
    "duration": 413,
    "start_time": "2025-03-06T22:03:23.807Z"
   },
   {
    "duration": 17,
    "start_time": "2025-03-06T22:03:24.223Z"
   },
   {
    "duration": 11,
    "start_time": "2025-03-06T22:03:24.241Z"
   },
   {
    "duration": 292,
    "start_time": "2025-03-06T22:03:24.271Z"
   },
   {
    "duration": 11,
    "start_time": "2025-03-06T22:03:24.565Z"
   },
   {
    "duration": 119,
    "start_time": "2025-03-06T22:03:24.580Z"
   },
   {
    "duration": 9,
    "start_time": "2025-03-06T22:03:27.757Z"
   },
   {
    "duration": 785,
    "start_time": "2025-03-06T22:11:40.240Z"
   },
   {
    "duration": 17,
    "start_time": "2025-03-06T22:12:27.455Z"
   },
   {
    "duration": 2,
    "start_time": "2025-03-06T22:12:38.518Z"
   },
   {
    "duration": 23,
    "start_time": "2025-03-06T22:12:38.525Z"
   },
   {
    "duration": 11,
    "start_time": "2025-03-06T22:12:38.551Z"
   },
   {
    "duration": 10,
    "start_time": "2025-03-06T22:12:38.564Z"
   },
   {
    "duration": 5,
    "start_time": "2025-03-06T22:12:38.578Z"
   },
   {
    "duration": 13,
    "start_time": "2025-03-06T22:12:38.586Z"
   },
   {
    "duration": 20,
    "start_time": "2025-03-06T22:12:38.601Z"
   },
   {
    "duration": 6,
    "start_time": "2025-03-06T22:12:38.623Z"
   },
   {
    "duration": 4,
    "start_time": "2025-03-06T22:12:38.631Z"
   },
   {
    "duration": 33,
    "start_time": "2025-03-06T22:12:38.637Z"
   },
   {
    "duration": 5,
    "start_time": "2025-03-06T22:12:38.672Z"
   },
   {
    "duration": 3,
    "start_time": "2025-03-06T22:12:38.678Z"
   },
   {
    "duration": 6,
    "start_time": "2025-03-06T22:12:38.682Z"
   },
   {
    "duration": 8,
    "start_time": "2025-03-06T22:12:38.690Z"
   },
   {
    "duration": 7,
    "start_time": "2025-03-06T22:12:38.702Z"
   },
   {
    "duration": 4,
    "start_time": "2025-03-06T22:12:38.711Z"
   },
   {
    "duration": 6,
    "start_time": "2025-03-06T22:12:38.717Z"
   },
   {
    "duration": 55,
    "start_time": "2025-03-06T22:12:38.726Z"
   },
   {
    "duration": 4,
    "start_time": "2025-03-06T22:12:38.783Z"
   },
   {
    "duration": 5,
    "start_time": "2025-03-06T22:12:38.788Z"
   },
   {
    "duration": 6,
    "start_time": "2025-03-06T22:12:38.796Z"
   },
   {
    "duration": 16,
    "start_time": "2025-03-06T22:12:38.804Z"
   },
   {
    "duration": 9,
    "start_time": "2025-03-06T22:12:38.821Z"
   },
   {
    "duration": 39,
    "start_time": "2025-03-06T22:12:38.832Z"
   },
   {
    "duration": 6,
    "start_time": "2025-03-06T22:12:38.873Z"
   },
   {
    "duration": 11,
    "start_time": "2025-03-06T22:12:38.881Z"
   },
   {
    "duration": 4,
    "start_time": "2025-03-06T22:12:38.894Z"
   },
   {
    "duration": 10,
    "start_time": "2025-03-06T22:12:38.899Z"
   },
   {
    "duration": 4,
    "start_time": "2025-03-06T22:12:38.911Z"
   },
   {
    "duration": 6,
    "start_time": "2025-03-06T22:12:38.916Z"
   },
   {
    "duration": 53,
    "start_time": "2025-03-06T22:12:38.923Z"
   },
   {
    "duration": 11,
    "start_time": "2025-03-06T22:12:38.977Z"
   },
   {
    "duration": 8,
    "start_time": "2025-03-06T22:12:38.990Z"
   },
   {
    "duration": 175,
    "start_time": "2025-03-06T22:12:38.999Z"
   },
   {
    "duration": 11,
    "start_time": "2025-03-06T22:12:39.175Z"
   },
   {
    "duration": 171,
    "start_time": "2025-03-06T22:12:39.187Z"
   },
   {
    "duration": 25,
    "start_time": "2025-03-06T22:12:39.360Z"
   },
   {
    "duration": 9,
    "start_time": "2025-03-06T22:12:39.387Z"
   },
   {
    "duration": 177,
    "start_time": "2025-03-06T22:12:39.397Z"
   },
   {
    "duration": 12,
    "start_time": "2025-03-06T22:12:39.577Z"
   },
   {
    "duration": 424,
    "start_time": "2025-03-06T22:12:39.590Z"
   },
   {
    "duration": 17,
    "start_time": "2025-03-06T22:12:40.018Z"
   },
   {
    "duration": 11,
    "start_time": "2025-03-06T22:12:40.037Z"
   },
   {
    "duration": 303,
    "start_time": "2025-03-06T22:12:40.049Z"
   },
   {
    "duration": 26,
    "start_time": "2025-03-06T22:12:40.354Z"
   },
   {
    "duration": 0,
    "start_time": "2025-03-06T22:12:40.382Z"
   },
   {
    "duration": 18,
    "start_time": "2025-03-06T22:12:51.188Z"
   },
   {
    "duration": 17,
    "start_time": "2025-03-06T22:13:01.722Z"
   },
   {
    "duration": 9,
    "start_time": "2025-03-06T22:13:07.928Z"
   },
   {
    "duration": 105,
    "start_time": "2025-03-06T22:13:11.083Z"
   },
   {
    "duration": 142,
    "start_time": "2025-03-06T22:14:15.277Z"
   },
   {
    "duration": 128,
    "start_time": "2025-03-06T22:15:15.848Z"
   },
   {
    "duration": 13,
    "start_time": "2025-03-06T22:19:14.753Z"
   },
   {
    "duration": 9,
    "start_time": "2025-03-06T22:19:20.025Z"
   },
   {
    "duration": 9,
    "start_time": "2025-03-06T22:19:28.089Z"
   },
   {
    "duration": 43,
    "start_time": "2025-03-06T22:19:54.730Z"
   },
   {
    "duration": 125,
    "start_time": "2025-03-06T22:20:12.303Z"
   },
   {
    "duration": 19,
    "start_time": "2025-03-06T22:22:28.301Z"
   },
   {
    "duration": 42,
    "start_time": "2025-03-06T22:24:13.762Z"
   },
   {
    "duration": 43,
    "start_time": "2025-03-06T22:24:37.472Z"
   },
   {
    "duration": 54,
    "start_time": "2025-03-06T22:24:55.092Z"
   },
   {
    "duration": 128,
    "start_time": "2025-03-06T22:25:24.099Z"
   },
   {
    "duration": 89,
    "start_time": "2025-03-06T22:25:58.952Z"
   },
   {
    "duration": 113,
    "start_time": "2025-03-06T22:27:46.200Z"
   },
   {
    "duration": 127,
    "start_time": "2025-03-06T22:28:04.787Z"
   },
   {
    "duration": 9,
    "start_time": "2025-03-06T22:47:38.191Z"
   },
   {
    "duration": 15,
    "start_time": "2025-03-06T22:48:01.441Z"
   },
   {
    "duration": 18,
    "start_time": "2025-03-06T22:48:51.947Z"
   },
   {
    "duration": 7,
    "start_time": "2025-03-06T22:50:09.255Z"
   },
   {
    "duration": 8,
    "start_time": "2025-03-06T22:50:54.436Z"
   },
   {
    "duration": 7,
    "start_time": "2025-03-06T22:51:31.152Z"
   },
   {
    "duration": 17,
    "start_time": "2025-03-06T22:56:12.990Z"
   },
   {
    "duration": 16,
    "start_time": "2025-03-06T22:56:29.986Z"
   },
   {
    "duration": 9,
    "start_time": "2025-03-06T22:57:51.078Z"
   },
   {
    "duration": 177,
    "start_time": "2025-03-06T22:58:07.941Z"
   },
   {
    "duration": 18,
    "start_time": "2025-03-06T22:58:27.884Z"
   },
   {
    "duration": 20,
    "start_time": "2025-03-06T22:58:41.020Z"
   },
   {
    "duration": 16,
    "start_time": "2025-03-06T22:58:43.302Z"
   },
   {
    "duration": 9,
    "start_time": "2025-03-06T22:58:48.522Z"
   },
   {
    "duration": 18,
    "start_time": "2025-03-06T22:59:45.020Z"
   },
   {
    "duration": 21,
    "start_time": "2025-03-06T23:00:22.452Z"
   },
   {
    "duration": 20,
    "start_time": "2025-03-06T23:00:27.192Z"
   },
   {
    "duration": 16,
    "start_time": "2025-03-06T23:00:29.287Z"
   },
   {
    "duration": 8,
    "start_time": "2025-03-06T23:00:31.691Z"
   },
   {
    "duration": 17,
    "start_time": "2025-03-06T23:01:04.293Z"
   },
   {
    "duration": 17,
    "start_time": "2025-03-06T23:01:06.331Z"
   },
   {
    "duration": 14,
    "start_time": "2025-03-06T23:01:21.022Z"
   },
   {
    "duration": 17,
    "start_time": "2025-03-06T23:01:30.238Z"
   },
   {
    "duration": 13,
    "start_time": "2025-03-06T23:01:33.257Z"
   },
   {
    "duration": 14,
    "start_time": "2025-03-06T23:01:41.400Z"
   },
   {
    "duration": 8,
    "start_time": "2025-03-06T23:01:48.557Z"
   },
   {
    "duration": 18,
    "start_time": "2025-03-06T23:02:13.540Z"
   },
   {
    "duration": 19,
    "start_time": "2025-03-06T23:02:18.410Z"
   },
   {
    "duration": 19,
    "start_time": "2025-03-06T23:02:23.607Z"
   },
   {
    "duration": 18,
    "start_time": "2025-03-06T23:02:30.881Z"
   },
   {
    "duration": 17,
    "start_time": "2025-03-06T23:02:34.030Z"
   },
   {
    "duration": 7,
    "start_time": "2025-03-06T23:02:35.740Z"
   },
   {
    "duration": 7,
    "start_time": "2025-03-06T23:03:51.626Z"
   },
   {
    "duration": 11,
    "start_time": "2025-03-06T23:04:14.340Z"
   },
   {
    "duration": 7,
    "start_time": "2025-03-06T23:05:06.968Z"
   },
   {
    "duration": 12,
    "start_time": "2025-03-06T23:05:13.120Z"
   },
   {
    "duration": 2391,
    "start_time": "2025-03-07T17:21:07.861Z"
   },
   {
    "duration": 74,
    "start_time": "2025-03-07T17:21:10.254Z"
   },
   {
    "duration": 11,
    "start_time": "2025-03-07T17:21:10.330Z"
   },
   {
    "duration": 13,
    "start_time": "2025-03-07T17:21:10.343Z"
   },
   {
    "duration": 4,
    "start_time": "2025-03-07T17:21:10.358Z"
   },
   {
    "duration": 12,
    "start_time": "2025-03-07T17:21:10.364Z"
   },
   {
    "duration": 52,
    "start_time": "2025-03-07T17:21:10.378Z"
   },
   {
    "duration": 7,
    "start_time": "2025-03-07T17:21:10.432Z"
   },
   {
    "duration": 3,
    "start_time": "2025-03-07T17:21:10.441Z"
   },
   {
    "duration": 4,
    "start_time": "2025-03-07T17:21:10.446Z"
   },
   {
    "duration": 5,
    "start_time": "2025-03-07T17:21:10.452Z"
   },
   {
    "duration": 2,
    "start_time": "2025-03-07T17:21:10.459Z"
   },
   {
    "duration": 5,
    "start_time": "2025-03-07T17:21:10.464Z"
   },
   {
    "duration": 7,
    "start_time": "2025-03-07T17:21:10.511Z"
   },
   {
    "duration": 8,
    "start_time": "2025-03-07T17:21:10.520Z"
   },
   {
    "duration": 4,
    "start_time": "2025-03-07T17:21:10.530Z"
   },
   {
    "duration": 6,
    "start_time": "2025-03-07T17:21:10.536Z"
   },
   {
    "duration": 12,
    "start_time": "2025-03-07T17:21:10.544Z"
   },
   {
    "duration": 3,
    "start_time": "2025-03-07T17:21:10.558Z"
   },
   {
    "duration": 5,
    "start_time": "2025-03-07T17:21:10.563Z"
   },
   {
    "duration": 48,
    "start_time": "2025-03-07T17:21:10.569Z"
   },
   {
    "duration": 17,
    "start_time": "2025-03-07T17:21:10.619Z"
   },
   {
    "duration": 8,
    "start_time": "2025-03-07T17:21:10.637Z"
   },
   {
    "duration": 3,
    "start_time": "2025-03-07T17:21:10.647Z"
   },
   {
    "duration": 6,
    "start_time": "2025-03-07T17:21:10.652Z"
   },
   {
    "duration": 14,
    "start_time": "2025-03-07T17:21:10.659Z"
   },
   {
    "duration": 41,
    "start_time": "2025-03-07T17:21:10.674Z"
   },
   {
    "duration": 10,
    "start_time": "2025-03-07T17:21:10.717Z"
   },
   {
    "duration": 5,
    "start_time": "2025-03-07T17:21:10.728Z"
   },
   {
    "duration": 6,
    "start_time": "2025-03-07T17:21:10.734Z"
   },
   {
    "duration": 10,
    "start_time": "2025-03-07T17:21:10.742Z"
   },
   {
    "duration": 11,
    "start_time": "2025-03-07T17:21:10.754Z"
   },
   {
    "duration": 49,
    "start_time": "2025-03-07T17:21:10.767Z"
   },
   {
    "duration": 178,
    "start_time": "2025-03-07T17:21:10.817Z"
   },
   {
    "duration": 15,
    "start_time": "2025-03-07T17:21:10.998Z"
   },
   {
    "duration": 159,
    "start_time": "2025-03-07T17:21:11.014Z"
   },
   {
    "duration": 17,
    "start_time": "2025-03-07T17:21:11.175Z"
   },
   {
    "duration": 24,
    "start_time": "2025-03-07T17:21:11.194Z"
   },
   {
    "duration": 169,
    "start_time": "2025-03-07T17:21:11.220Z"
   },
   {
    "duration": 11,
    "start_time": "2025-03-07T17:21:11.390Z"
   },
   {
    "duration": 486,
    "start_time": "2025-03-07T17:21:11.414Z"
   },
   {
    "duration": 22,
    "start_time": "2025-03-07T17:21:11.903Z"
   },
   {
    "duration": 11,
    "start_time": "2025-03-07T17:21:11.926Z"
   },
   {
    "duration": 297,
    "start_time": "2025-03-07T17:21:11.939Z"
   },
   {
    "duration": 10,
    "start_time": "2025-03-07T17:21:12.237Z"
   },
   {
    "duration": 119,
    "start_time": "2025-03-07T17:21:12.248Z"
   },
   {
    "duration": 18,
    "start_time": "2025-03-07T17:21:12.368Z"
   },
   {
    "duration": 188,
    "start_time": "2025-03-07T17:21:12.388Z"
   },
   {
    "duration": 34,
    "start_time": "2025-03-07T17:21:12.578Z"
   },
   {
    "duration": 8,
    "start_time": "2025-03-07T17:21:12.613Z"
   },
   {
    "duration": 7,
    "start_time": "2025-03-07T17:21:12.624Z"
   },
   {
    "duration": 17,
    "start_time": "2025-03-07T17:21:12.632Z"
   },
   {
    "duration": 11,
    "start_time": "2025-03-07T17:21:12.650Z"
   },
   {
    "duration": 129,
    "start_time": "2025-03-07T17:31:54.275Z"
   },
   {
    "duration": 10,
    "start_time": "2025-03-07T17:32:18.714Z"
   },
   {
    "duration": 10,
    "start_time": "2025-03-07T17:33:53.184Z"
   },
   {
    "duration": 11,
    "start_time": "2025-03-07T17:33:59.207Z"
   },
   {
    "duration": 13,
    "start_time": "2025-03-07T17:39:36.387Z"
   },
   {
    "duration": 7,
    "start_time": "2025-03-07T17:40:16.986Z"
   },
   {
    "duration": 13,
    "start_time": "2025-03-07T17:40:22.779Z"
   },
   {
    "duration": 12,
    "start_time": "2025-03-07T17:40:48.768Z"
   },
   {
    "duration": 15,
    "start_time": "2025-03-07T17:42:50.379Z"
   },
   {
    "duration": 14,
    "start_time": "2025-03-07T17:45:23.822Z"
   },
   {
    "duration": 14,
    "start_time": "2025-03-07T17:46:27.723Z"
   },
   {
    "duration": 15,
    "start_time": "2025-03-07T17:48:31.540Z"
   },
   {
    "duration": 17,
    "start_time": "2025-03-07T17:48:57.180Z"
   },
   {
    "duration": 17,
    "start_time": "2025-03-07T17:49:24.102Z"
   },
   {
    "duration": 11,
    "start_time": "2025-03-07T17:54:35.796Z"
   },
   {
    "duration": 16,
    "start_time": "2025-03-07T17:54:40.285Z"
   },
   {
    "duration": 10,
    "start_time": "2025-03-07T17:54:40.303Z"
   },
   {
    "duration": 159,
    "start_time": "2025-03-07T17:54:40.315Z"
   },
   {
    "duration": 9,
    "start_time": "2025-03-07T17:54:40.476Z"
   },
   {
    "duration": 168,
    "start_time": "2025-03-07T17:54:40.487Z"
   },
   {
    "duration": 17,
    "start_time": "2025-03-07T17:54:40.657Z"
   },
   {
    "duration": 9,
    "start_time": "2025-03-07T17:54:40.675Z"
   },
   {
    "duration": 188,
    "start_time": "2025-03-07T17:54:40.686Z"
   },
   {
    "duration": 11,
    "start_time": "2025-03-07T17:54:40.878Z"
   },
   {
    "duration": 395,
    "start_time": "2025-03-07T17:54:40.890Z"
   },
   {
    "duration": 30,
    "start_time": "2025-03-07T17:54:41.287Z"
   },
   {
    "duration": 11,
    "start_time": "2025-03-07T17:54:41.318Z"
   },
   {
    "duration": 301,
    "start_time": "2025-03-07T17:54:41.330Z"
   },
   {
    "duration": 10,
    "start_time": "2025-03-07T17:54:41.633Z"
   },
   {
    "duration": 119,
    "start_time": "2025-03-07T17:54:41.646Z"
   },
   {
    "duration": 18,
    "start_time": "2025-03-07T17:54:41.767Z"
   },
   {
    "duration": 139,
    "start_time": "2025-03-07T17:54:41.787Z"
   },
   {
    "duration": 17,
    "start_time": "2025-03-07T17:54:41.928Z"
   },
   {
    "duration": 7,
    "start_time": "2025-03-07T17:54:41.946Z"
   },
   {
    "duration": 6,
    "start_time": "2025-03-07T17:54:41.955Z"
   },
   {
    "duration": 16,
    "start_time": "2025-03-07T17:54:41.962Z"
   },
   {
    "duration": 37,
    "start_time": "2025-03-07T17:54:41.979Z"
   },
   {
    "duration": 73,
    "start_time": "2025-03-07T17:54:42.017Z"
   },
   {
    "duration": 28,
    "start_time": "2025-03-07T17:54:42.092Z"
   },
   {
    "duration": 118,
    "start_time": "2025-03-07T17:54:42.122Z"
   },
   {
    "duration": 113,
    "start_time": "2025-03-07T17:56:49.641Z"
   },
   {
    "duration": 111,
    "start_time": "2025-03-07T17:58:30.688Z"
   },
   {
    "duration": 7,
    "start_time": "2025-03-07T17:59:30.287Z"
   },
   {
    "duration": 6,
    "start_time": "2025-03-07T18:05:17.695Z"
   },
   {
    "duration": 7,
    "start_time": "2025-03-07T18:05:32.791Z"
   },
   {
    "duration": 7,
    "start_time": "2025-03-07T18:05:55.474Z"
   },
   {
    "duration": 112,
    "start_time": "2025-03-07T18:07:14.483Z"
   },
   {
    "duration": 123,
    "start_time": "2025-03-07T18:07:30.335Z"
   },
   {
    "duration": 118,
    "start_time": "2025-03-07T18:07:59.438Z"
   },
   {
    "duration": 15,
    "start_time": "2025-03-07T18:12:02.240Z"
   },
   {
    "duration": 2,
    "start_time": "2025-03-07T20:28:58.073Z"
   },
   {
    "duration": 23,
    "start_time": "2025-03-07T20:28:58.077Z"
   },
   {
    "duration": 10,
    "start_time": "2025-03-07T20:28:58.102Z"
   },
   {
    "duration": 10,
    "start_time": "2025-03-07T20:28:58.114Z"
   },
   {
    "duration": 4,
    "start_time": "2025-03-07T20:28:58.127Z"
   },
   {
    "duration": 12,
    "start_time": "2025-03-07T20:28:58.133Z"
   },
   {
    "duration": 19,
    "start_time": "2025-03-07T20:28:58.146Z"
   },
   {
    "duration": 8,
    "start_time": "2025-03-07T20:28:58.166Z"
   },
   {
    "duration": 38,
    "start_time": "2025-03-07T20:28:58.175Z"
   },
   {
    "duration": 4,
    "start_time": "2025-03-07T20:28:58.214Z"
   },
   {
    "duration": 4,
    "start_time": "2025-03-07T20:28:58.220Z"
   },
   {
    "duration": 3,
    "start_time": "2025-03-07T20:28:58.225Z"
   },
   {
    "duration": 5,
    "start_time": "2025-03-07T20:28:58.230Z"
   },
   {
    "duration": 8,
    "start_time": "2025-03-07T20:29:00.077Z"
   },
   {
    "duration": 9,
    "start_time": "2025-03-07T20:29:00.087Z"
   },
   {
    "duration": 5,
    "start_time": "2025-03-07T20:29:00.097Z"
   },
   {
    "duration": 9,
    "start_time": "2025-03-07T20:29:00.103Z"
   },
   {
    "duration": 16,
    "start_time": "2025-03-07T20:29:00.115Z"
   },
   {
    "duration": 8,
    "start_time": "2025-03-07T20:29:00.133Z"
   },
   {
    "duration": 5,
    "start_time": "2025-03-07T20:29:00.143Z"
   },
   {
    "duration": 9,
    "start_time": "2025-03-07T20:29:00.150Z"
   },
   {
    "duration": 20,
    "start_time": "2025-03-07T20:29:00.161Z"
   },
   {
    "duration": 33,
    "start_time": "2025-03-07T20:29:00.183Z"
   },
   {
    "duration": 5,
    "start_time": "2025-03-07T20:29:00.218Z"
   },
   {
    "duration": 7,
    "start_time": "2025-03-07T20:29:02.276Z"
   },
   {
    "duration": 16,
    "start_time": "2025-03-07T20:29:02.286Z"
   },
   {
    "duration": 6,
    "start_time": "2025-03-07T20:29:02.304Z"
   },
   {
    "duration": 16,
    "start_time": "2025-03-07T20:29:02.312Z"
   },
   {
    "duration": 5,
    "start_time": "2025-03-07T20:29:02.331Z"
   },
   {
    "duration": 6,
    "start_time": "2025-03-07T20:29:02.338Z"
   },
   {
    "duration": 16,
    "start_time": "2025-03-07T20:29:02.346Z"
   },
   {
    "duration": 16,
    "start_time": "2025-03-07T20:29:02.364Z"
   },
   {
    "duration": 38,
    "start_time": "2025-03-07T20:29:02.382Z"
   },
   {
    "duration": 198,
    "start_time": "2025-03-07T20:29:02.421Z"
   },
   {
    "duration": 10,
    "start_time": "2025-03-07T20:29:02.621Z"
   },
   {
    "duration": 186,
    "start_time": "2025-03-07T20:29:02.633Z"
   },
   {
    "duration": 18,
    "start_time": "2025-03-07T20:29:02.821Z"
   },
   {
    "duration": 14,
    "start_time": "2025-03-07T20:29:06.247Z"
   },
   {
    "duration": 171,
    "start_time": "2025-03-07T20:29:06.264Z"
   },
   {
    "duration": 12,
    "start_time": "2025-03-07T20:29:06.437Z"
   },
   {
    "duration": 500,
    "start_time": "2025-03-07T20:29:06.451Z"
   },
   {
    "duration": 143,
    "start_time": "2025-03-07T20:29:06.954Z"
   },
   {
    "duration": 0,
    "start_time": "2025-03-07T20:29:07.099Z"
   },
   {
    "duration": 0,
    "start_time": "2025-03-07T20:29:07.100Z"
   },
   {
    "duration": 0,
    "start_time": "2025-03-07T20:29:07.101Z"
   },
   {
    "duration": 0,
    "start_time": "2025-03-07T20:29:07.103Z"
   },
   {
    "duration": 0,
    "start_time": "2025-03-07T20:29:07.112Z"
   },
   {
    "duration": 129,
    "start_time": "2025-03-07T20:29:07.815Z"
   },
   {
    "duration": 18,
    "start_time": "2025-03-07T20:29:07.947Z"
   },
   {
    "duration": 8,
    "start_time": "2025-03-07T20:29:07.966Z"
   },
   {
    "duration": 8,
    "start_time": "2025-03-07T20:29:07.975Z"
   },
   {
    "duration": 48,
    "start_time": "2025-03-07T20:29:07.985Z"
   },
   {
    "duration": 17,
    "start_time": "2025-03-07T20:29:08.035Z"
   },
   {
    "duration": 10,
    "start_time": "2025-03-07T20:29:08.053Z"
   },
   {
    "duration": 16,
    "start_time": "2025-03-07T20:29:08.065Z"
   },
   {
    "duration": 148,
    "start_time": "2025-03-07T20:29:08.083Z"
   },
   {
    "duration": 134,
    "start_time": "2025-03-07T20:29:08.235Z"
   },
   {
    "duration": 8,
    "start_time": "2025-03-07T20:29:09.642Z"
   },
   {
    "duration": 21,
    "start_time": "2025-03-07T20:29:09.652Z"
   },
   {
    "duration": 9,
    "start_time": "2025-03-07T20:29:09.675Z"
   },
   {
    "duration": 9,
    "start_time": "2025-03-07T20:30:08.193Z"
   },
   {
    "duration": 11,
    "start_time": "2025-03-07T20:30:37.286Z"
   },
   {
    "duration": 10,
    "start_time": "2025-03-07T20:32:23.871Z"
   },
   {
    "duration": 9,
    "start_time": "2025-03-07T20:33:17.129Z"
   },
   {
    "duration": 14,
    "start_time": "2025-03-07T20:39:37.160Z"
   },
   {
    "duration": 12,
    "start_time": "2025-03-07T20:40:09.921Z"
   },
   {
    "duration": 5,
    "start_time": "2025-03-07T20:42:16.490Z"
   },
   {
    "duration": 25,
    "start_time": "2025-03-07T20:43:49.822Z"
   },
   {
    "duration": 19,
    "start_time": "2025-03-07T20:44:45.826Z"
   },
   {
    "duration": 8,
    "start_time": "2025-03-07T20:46:02.362Z"
   },
   {
    "duration": 14,
    "start_time": "2025-03-07T20:46:07.367Z"
   },
   {
    "duration": 9,
    "start_time": "2025-03-07T20:46:25.690Z"
   },
   {
    "duration": 10,
    "start_time": "2025-03-07T20:46:44.039Z"
   },
   {
    "duration": 9,
    "start_time": "2025-03-07T20:48:47.560Z"
   },
   {
    "duration": 8,
    "start_time": "2025-03-07T20:49:23.406Z"
   },
   {
    "duration": 13,
    "start_time": "2025-03-07T20:50:56.186Z"
   },
   {
    "duration": 12,
    "start_time": "2025-03-07T20:51:54.022Z"
   },
   {
    "duration": 4,
    "start_time": "2025-03-07T20:53:01.409Z"
   },
   {
    "duration": 19,
    "start_time": "2025-03-07T20:53:20.170Z"
   },
   {
    "duration": 16,
    "start_time": "2025-03-07T20:55:50.026Z"
   },
   {
    "duration": 14,
    "start_time": "2025-03-07T21:04:51.150Z"
   },
   {
    "duration": 149,
    "start_time": "2025-03-07T21:10:29.662Z"
   },
   {
    "duration": 221,
    "start_time": "2025-03-07T21:10:50.218Z"
   },
   {
    "duration": 158,
    "start_time": "2025-03-07T21:11:22.341Z"
   },
   {
    "duration": 226,
    "start_time": "2025-03-07T21:11:33.257Z"
   },
   {
    "duration": 153,
    "start_time": "2025-03-07T21:12:11.795Z"
   },
   {
    "duration": 150,
    "start_time": "2025-03-07T21:13:08.814Z"
   },
   {
    "duration": 175,
    "start_time": "2025-03-07T21:13:55.677Z"
   },
   {
    "duration": 185,
    "start_time": "2025-03-07T21:14:10.479Z"
   },
   {
    "duration": 182,
    "start_time": "2025-03-07T21:14:56.217Z"
   },
   {
    "duration": 211,
    "start_time": "2025-03-07T21:15:17.215Z"
   },
   {
    "duration": 187,
    "start_time": "2025-03-07T21:15:47.975Z"
   },
   {
    "duration": 443,
    "start_time": "2025-03-07T21:28:14.355Z"
   },
   {
    "duration": 5,
    "start_time": "2025-03-07T21:28:49.956Z"
   },
   {
    "duration": 5,
    "start_time": "2025-03-07T21:29:20.351Z"
   },
   {
    "duration": 6,
    "start_time": "2025-03-07T21:30:05.496Z"
   },
   {
    "duration": 5,
    "start_time": "2025-03-07T21:30:08.335Z"
   },
   {
    "duration": 5,
    "start_time": "2025-03-07T21:30:31.914Z"
   },
   {
    "duration": 4,
    "start_time": "2025-03-07T21:31:14.338Z"
   },
   {
    "duration": 15,
    "start_time": "2025-03-07T21:31:27.647Z"
   },
   {
    "duration": 4,
    "start_time": "2025-03-07T21:31:36.765Z"
   },
   {
    "duration": 5,
    "start_time": "2025-03-07T21:31:38.871Z"
   },
   {
    "duration": 5,
    "start_time": "2025-03-07T21:33:35.662Z"
   },
   {
    "duration": 3,
    "start_time": "2025-03-07T21:34:29.725Z"
   },
   {
    "duration": 4,
    "start_time": "2025-03-07T21:36:11.422Z"
   },
   {
    "duration": 4,
    "start_time": "2025-03-07T21:36:22.775Z"
   },
   {
    "duration": 4,
    "start_time": "2025-03-07T21:36:56.722Z"
   },
   {
    "duration": 4,
    "start_time": "2025-03-07T21:37:57.382Z"
   },
   {
    "duration": 5,
    "start_time": "2025-03-07T21:40:23.398Z"
   },
   {
    "duration": 17,
    "start_time": "2025-03-07T21:42:54.127Z"
   },
   {
    "duration": 366,
    "start_time": "2025-03-07T21:42:59.605Z"
   },
   {
    "duration": 12,
    "start_time": "2025-03-07T21:43:05.926Z"
   },
   {
    "duration": 161,
    "start_time": "2025-03-10T19:42:52.969Z"
   },
   {
    "duration": 2603,
    "start_time": "2025-03-10T19:42:58.334Z"
   },
   {
    "duration": 41,
    "start_time": "2025-03-10T19:43:00.940Z"
   },
   {
    "duration": 12,
    "start_time": "2025-03-10T19:43:00.983Z"
   },
   {
    "duration": 13,
    "start_time": "2025-03-10T19:43:00.997Z"
   },
   {
    "duration": 4,
    "start_time": "2025-03-10T19:43:01.013Z"
   },
   {
    "duration": 21,
    "start_time": "2025-03-10T19:43:01.019Z"
   },
   {
    "duration": 20,
    "start_time": "2025-03-10T19:43:01.041Z"
   },
   {
    "duration": 7,
    "start_time": "2025-03-10T19:43:01.063Z"
   },
   {
    "duration": 5,
    "start_time": "2025-03-10T19:43:01.072Z"
   },
   {
    "duration": 4,
    "start_time": "2025-03-10T19:43:01.079Z"
   },
   {
    "duration": 4,
    "start_time": "2025-03-10T19:43:01.085Z"
   },
   {
    "duration": 42,
    "start_time": "2025-03-10T19:43:01.091Z"
   },
   {
    "duration": 6,
    "start_time": "2025-03-10T19:43:01.135Z"
   },
   {
    "duration": 8,
    "start_time": "2025-03-10T19:43:01.145Z"
   },
   {
    "duration": 8,
    "start_time": "2025-03-10T19:43:01.155Z"
   },
   {
    "duration": 5,
    "start_time": "2025-03-10T19:43:01.165Z"
   },
   {
    "duration": 7,
    "start_time": "2025-03-10T19:43:01.171Z"
   },
   {
    "duration": 53,
    "start_time": "2025-03-10T19:43:01.179Z"
   },
   {
    "duration": 5,
    "start_time": "2025-03-10T19:43:01.234Z"
   },
   {
    "duration": 5,
    "start_time": "2025-03-10T19:43:01.240Z"
   },
   {
    "duration": 6,
    "start_time": "2025-03-10T19:43:01.246Z"
   },
   {
    "duration": 16,
    "start_time": "2025-03-10T19:43:01.254Z"
   },
   {
    "duration": 8,
    "start_time": "2025-03-10T19:43:01.271Z"
   },
   {
    "duration": 5,
    "start_time": "2025-03-10T19:43:01.281Z"
   },
   {
    "duration": 46,
    "start_time": "2025-03-10T19:43:01.287Z"
   },
   {
    "duration": 12,
    "start_time": "2025-03-10T19:43:01.335Z"
   },
   {
    "duration": 4,
    "start_time": "2025-03-10T19:43:01.349Z"
   },
   {
    "duration": 10,
    "start_time": "2025-03-10T19:43:01.355Z"
   },
   {
    "duration": 4,
    "start_time": "2025-03-10T19:43:01.367Z"
   },
   {
    "duration": 6,
    "start_time": "2025-03-10T19:43:01.372Z"
   },
   {
    "duration": 12,
    "start_time": "2025-03-10T19:43:01.379Z"
   },
   {
    "duration": 49,
    "start_time": "2025-03-10T19:43:01.392Z"
   },
   {
    "duration": 9,
    "start_time": "2025-03-10T19:43:01.443Z"
   },
   {
    "duration": 185,
    "start_time": "2025-03-10T19:43:01.453Z"
   },
   {
    "duration": 9,
    "start_time": "2025-03-10T19:43:01.640Z"
   },
   {
    "duration": 188,
    "start_time": "2025-03-10T19:43:01.651Z"
   },
   {
    "duration": 19,
    "start_time": "2025-03-10T19:43:01.841Z"
   },
   {
    "duration": 10,
    "start_time": "2025-03-10T19:43:01.861Z"
   },
   {
    "duration": 188,
    "start_time": "2025-03-10T19:43:01.872Z"
   },
   {
    "duration": 11,
    "start_time": "2025-03-10T19:43:02.061Z"
   },
   {
    "duration": 539,
    "start_time": "2025-03-10T19:43:02.077Z"
   },
   {
    "duration": 18,
    "start_time": "2025-03-10T19:43:02.617Z"
   },
   {
    "duration": 11,
    "start_time": "2025-03-10T19:43:02.636Z"
   },
   {
    "duration": 299,
    "start_time": "2025-03-10T19:43:02.648Z"
   },
   {
    "duration": 8,
    "start_time": "2025-03-10T19:43:02.949Z"
   },
   {
    "duration": 122,
    "start_time": "2025-03-10T19:43:02.959Z"
   },
   {
    "duration": 20,
    "start_time": "2025-03-10T19:43:03.082Z"
   },
   {
    "duration": 139,
    "start_time": "2025-03-10T19:43:03.103Z"
   },
   {
    "duration": 18,
    "start_time": "2025-03-10T19:43:03.245Z"
   },
   {
    "duration": 6,
    "start_time": "2025-03-10T19:43:03.265Z"
   },
   {
    "duration": 7,
    "start_time": "2025-03-10T19:43:03.273Z"
   },
   {
    "duration": 16,
    "start_time": "2025-03-10T19:43:03.282Z"
   },
   {
    "duration": 33,
    "start_time": "2025-03-10T19:43:03.299Z"
   },
   {
    "duration": 9,
    "start_time": "2025-03-10T19:43:03.333Z"
   },
   {
    "duration": 16,
    "start_time": "2025-03-10T19:43:03.343Z"
   },
   {
    "duration": 139,
    "start_time": "2025-03-10T19:43:03.360Z"
   },
   {
    "duration": 119,
    "start_time": "2025-03-10T19:43:03.501Z"
   },
   {
    "duration": 11,
    "start_time": "2025-03-10T19:43:03.622Z"
   },
   {
    "duration": 15,
    "start_time": "2025-03-10T19:43:03.635Z"
   },
   {
    "duration": 8,
    "start_time": "2025-03-10T19:43:03.651Z"
   },
   {
    "duration": 7,
    "start_time": "2025-03-10T19:43:03.661Z"
   },
   {
    "duration": 8,
    "start_time": "2025-03-10T19:43:03.670Z"
   },
   {
    "duration": 9,
    "start_time": "2025-03-10T19:43:03.680Z"
   },
   {
    "duration": 235,
    "start_time": "2025-03-10T19:43:03.691Z"
   },
   {
    "duration": 5,
    "start_time": "2025-03-10T19:43:03.930Z"
   },
   {
    "duration": 5,
    "start_time": "2025-03-10T19:43:03.936Z"
   },
   {
    "duration": 4,
    "start_time": "2025-03-10T19:43:03.943Z"
   },
   {
    "duration": 5,
    "start_time": "2025-03-10T19:43:03.948Z"
   },
   {
    "duration": 5,
    "start_time": "2025-03-10T19:43:03.954Z"
   },
   {
    "duration": 4,
    "start_time": "2025-03-10T19:43:03.961Z"
   },
   {
    "duration": 14,
    "start_time": "2025-03-10T19:46:33.968Z"
   },
   {
    "duration": 3,
    "start_time": "2025-03-10T19:49:54.814Z"
   },
   {
    "duration": 24,
    "start_time": "2025-03-10T19:49:54.819Z"
   },
   {
    "duration": 11,
    "start_time": "2025-03-10T19:49:54.845Z"
   },
   {
    "duration": 10,
    "start_time": "2025-03-10T19:49:54.858Z"
   },
   {
    "duration": 5,
    "start_time": "2025-03-10T19:49:54.870Z"
   },
   {
    "duration": 12,
    "start_time": "2025-03-10T19:49:54.876Z"
   },
   {
    "duration": 52,
    "start_time": "2025-03-10T19:49:54.889Z"
   },
   {
    "duration": 8,
    "start_time": "2025-03-10T19:49:54.943Z"
   },
   {
    "duration": 4,
    "start_time": "2025-03-10T19:49:54.952Z"
   },
   {
    "duration": 3,
    "start_time": "2025-03-10T19:49:54.958Z"
   },
   {
    "duration": 4,
    "start_time": "2025-03-10T19:49:54.963Z"
   },
   {
    "duration": 3,
    "start_time": "2025-03-10T19:49:54.969Z"
   },
   {
    "duration": 7,
    "start_time": "2025-03-10T19:49:54.973Z"
   },
   {
    "duration": 8,
    "start_time": "2025-03-10T19:49:54.983Z"
   },
   {
    "duration": 46,
    "start_time": "2025-03-10T19:49:54.992Z"
   },
   {
    "duration": 4,
    "start_time": "2025-03-10T19:49:55.039Z"
   },
   {
    "duration": 8,
    "start_time": "2025-03-10T19:49:55.045Z"
   },
   {
    "duration": 17,
    "start_time": "2025-03-10T19:49:55.054Z"
   },
   {
    "duration": 6,
    "start_time": "2025-03-10T19:49:55.072Z"
   },
   {
    "duration": 4,
    "start_time": "2025-03-10T19:49:55.080Z"
   },
   {
    "duration": 46,
    "start_time": "2025-03-10T19:49:55.086Z"
   },
   {
    "duration": 16,
    "start_time": "2025-03-10T19:49:55.134Z"
   },
   {
    "duration": 8,
    "start_time": "2025-03-10T19:49:55.152Z"
   },
   {
    "duration": 4,
    "start_time": "2025-03-10T19:49:55.161Z"
   },
   {
    "duration": 6,
    "start_time": "2025-03-10T19:49:55.167Z"
   },
   {
    "duration": 13,
    "start_time": "2025-03-10T19:49:55.175Z"
   },
   {
    "duration": 4,
    "start_time": "2025-03-10T19:49:55.189Z"
   },
   {
    "duration": 45,
    "start_time": "2025-03-10T19:49:55.195Z"
   },
   {
    "duration": 6,
    "start_time": "2025-03-10T19:49:55.241Z"
   },
   {
    "duration": 5,
    "start_time": "2025-03-10T19:49:55.248Z"
   },
   {
    "duration": 12,
    "start_time": "2025-03-10T19:49:55.255Z"
   },
   {
    "duration": 13,
    "start_time": "2025-03-10T19:49:55.268Z"
   },
   {
    "duration": 7,
    "start_time": "2025-03-10T19:49:55.283Z"
   },
   {
    "duration": 266,
    "start_time": "2025-03-10T19:49:55.292Z"
   },
   {
    "duration": 9,
    "start_time": "2025-03-10T19:49:55.559Z"
   },
   {
    "duration": 168,
    "start_time": "2025-03-10T19:49:55.570Z"
   },
   {
    "duration": 19,
    "start_time": "2025-03-10T19:49:55.739Z"
   },
   {
    "duration": 8,
    "start_time": "2025-03-10T19:49:55.761Z"
   },
   {
    "duration": 181,
    "start_time": "2025-03-10T19:49:55.771Z"
   },
   {
    "duration": 12,
    "start_time": "2025-03-10T19:49:55.953Z"
   },
   {
    "duration": 417,
    "start_time": "2025-03-10T19:49:55.970Z"
   },
   {
    "duration": 17,
    "start_time": "2025-03-10T19:49:56.388Z"
   },
   {
    "duration": 25,
    "start_time": "2025-03-10T19:49:56.407Z"
   },
   {
    "duration": 287,
    "start_time": "2025-03-10T19:49:56.434Z"
   },
   {
    "duration": 9,
    "start_time": "2025-03-10T19:49:56.731Z"
   },
   {
    "duration": 122,
    "start_time": "2025-03-10T19:49:56.741Z"
   },
   {
    "duration": 17,
    "start_time": "2025-03-10T19:49:56.865Z"
   },
   {
    "duration": 128,
    "start_time": "2025-03-10T19:49:56.884Z"
   },
   {
    "duration": 24,
    "start_time": "2025-03-10T19:49:57.013Z"
   },
   {
    "duration": 9,
    "start_time": "2025-03-10T19:49:57.039Z"
   },
   {
    "duration": 8,
    "start_time": "2025-03-10T19:49:57.049Z"
   },
   {
    "duration": 15,
    "start_time": "2025-03-10T19:49:57.058Z"
   },
   {
    "duration": 8,
    "start_time": "2025-03-10T19:49:57.074Z"
   },
   {
    "duration": 8,
    "start_time": "2025-03-10T19:49:57.084Z"
   },
   {
    "duration": 49,
    "start_time": "2025-03-10T19:49:57.094Z"
   },
   {
    "duration": 121,
    "start_time": "2025-03-10T19:49:57.145Z"
   },
   {
    "duration": 121,
    "start_time": "2025-03-10T19:49:57.267Z"
   },
   {
    "duration": 7,
    "start_time": "2025-03-10T19:49:57.390Z"
   },
   {
    "duration": 16,
    "start_time": "2025-03-10T19:49:57.398Z"
   },
   {
    "duration": 20,
    "start_time": "2025-03-10T19:49:57.415Z"
   },
   {
    "duration": 8,
    "start_time": "2025-03-10T19:49:57.437Z"
   },
   {
    "duration": 8,
    "start_time": "2025-03-10T19:49:57.447Z"
   },
   {
    "duration": 9,
    "start_time": "2025-03-10T19:49:57.456Z"
   },
   {
    "duration": 309,
    "start_time": "2025-03-10T19:49:57.467Z"
   },
   {
    "duration": 5,
    "start_time": "2025-03-10T19:49:57.778Z"
   },
   {
    "duration": 4,
    "start_time": "2025-03-10T19:49:57.785Z"
   },
   {
    "duration": 4,
    "start_time": "2025-03-10T19:49:57.790Z"
   },
   {
    "duration": 5,
    "start_time": "2025-03-10T19:49:57.796Z"
   },
   {
    "duration": 31,
    "start_time": "2025-03-10T19:49:57.802Z"
   },
   {
    "duration": 4,
    "start_time": "2025-03-10T19:49:57.837Z"
   }
  ],
  "kernelspec": {
   "display_name": "Python 3 (ipykernel)",
   "language": "python",
   "name": "python3"
  },
  "language_info": {
   "codemirror_mode": {
    "name": "ipython",
    "version": 3
   },
   "file_extension": ".py",
   "mimetype": "text/x-python",
   "name": "python",
   "nbconvert_exporter": "python",
   "pygments_lexer": "ipython3",
   "version": "3.9.19"
  },
  "toc": {
   "base_numbering": 1,
   "nav_menu": {},
   "number_sections": true,
   "sideBar": true,
   "skip_h1_title": true,
   "title_cell": "Table of Contents",
   "title_sidebar": "Contents",
   "toc_cell": false,
   "toc_position": {
    "height": "calc(100% - 180px)",
    "left": "10px",
    "top": "150px",
    "width": "213px"
   },
   "toc_section_display": true,
   "toc_window_display": true
  }
 },
 "nbformat": 4,
 "nbformat_minor": 2
}
